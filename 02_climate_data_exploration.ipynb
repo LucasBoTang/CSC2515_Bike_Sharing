{
 "cells": [
  {
   "cell_type": "code",
   "execution_count": 1,
   "metadata": {},
   "outputs": [],
   "source": [
    "import os\n",
    "import pandas as pd\n",
    "import numpy as np\n",
    "from matplotlib import pyplot as plt"
   ]
  },
  {
   "cell_type": "code",
   "execution_count": 2,
   "metadata": {},
   "outputs": [],
   "source": [
    "DATA_DIR = './climate_data/'"
   ]
  },
  {
   "cell_type": "code",
   "execution_count": 3,
   "metadata": {},
   "outputs": [
    {
     "name": "stdout",
     "output_type": "stream",
     "text": [
      "climate.csv\n",
      "en_climate_daily_ON_6158355_2019_P1D.csv\n",
      "en_climate_hourly_ON_6158355_01-2019_P1H.csv\n",
      "en_climate_hourly_ON_6158355_02-2019_P1H.csv\n",
      "en_climate_hourly_ON_6158355_03-2019_P1H.csv\n",
      "en_climate_hourly_ON_6158355_04-2019_P1H.csv\n",
      "en_climate_hourly_ON_6158355_05-2019_P1H.csv\n",
      "en_climate_hourly_ON_6158355_06-2019_P1H.csv\n",
      "en_climate_hourly_ON_6158355_07-2019_P1H.csv\n",
      "en_climate_hourly_ON_6158355_08-2019_P1H.csv\n",
      "en_climate_hourly_ON_6158355_09-2019_P1H.csv\n",
      "en_climate_hourly_ON_6158355_10-2019_P1H.csv\n",
      "en_climate_hourly_ON_6158355_11-2019_P1H.csv\n",
      "en_climate_hourly_ON_6158355_12-2019_P1H.csv\n",
      "en_climate_hourly_ON_6158355_12-2020_P1H.csv\n",
      "en_climate_hourly_ON_6158359_01-2019_P1H.csv\n",
      "en_climate_hourly_ON_6158359_02-2019_P1H.csv\n",
      "en_climate_hourly_ON_6158359_03-2019_P1H.csv\n",
      "en_climate_hourly_ON_6158359_04-2019_P1H.csv\n",
      "en_climate_hourly_ON_6158359_05-2019_P1H.csv\n",
      "en_climate_hourly_ON_6158359_06-2019_P1H.csv\n",
      "en_climate_hourly_ON_6158359_07-2019_P1H.csv\n",
      "en_climate_hourly_ON_6158359_08-2019_P1H.csv\n",
      "en_climate_hourly_ON_6158359_09-2019_P1H.csv\n",
      "en_climate_hourly_ON_6158359_10-2019_P1H.csv\n",
      "en_climate_hourly_ON_6158359_11-2019_P1H.csv\n",
      "en_climate_hourly_ON_6158359_12-2019_P1H.csv\n",
      "en_climate_hourly_ON_6158731_01-2019_P1H.csv\n",
      "en_climate_hourly_ON_6158731_02-2019_P1H.csv\n",
      "en_climate_hourly_ON_6158731_03-2019_P1H.csv\n",
      "en_climate_hourly_ON_6158731_04-2019_P1H.csv\n",
      "en_climate_hourly_ON_6158731_05-2019_P1H.csv\n",
      "en_climate_hourly_ON_6158731_06-2019_P1H.csv\n",
      "en_climate_hourly_ON_6158731_07-2019_P1H.csv\n",
      "en_climate_hourly_ON_6158731_08-2019_P1H.csv\n",
      "en_climate_hourly_ON_6158731_09-2019_P1H.csv\n",
      "en_climate_hourly_ON_6158731_10-2019_P1H.csv\n",
      "en_climate_hourly_ON_6158731_11-2019_P1H.csv\n",
      "en_climate_hourly_ON_6158731_12-2019_P1H.csv\n",
      "weather_compared.csv\n"
     ]
    }
   ],
   "source": [
    "for file in os.listdir(DATA_DIR):\n",
    "    print(file)"
   ]
  },
  {
   "cell_type": "markdown",
   "metadata": {},
   "source": [
    "## Data Loading"
   ]
  },
  {
   "cell_type": "code",
   "execution_count": 4,
   "metadata": {},
   "outputs": [],
   "source": [
    "df = pd.read_csv(DATA_DIR+'en_climate_hourly_ON_6158359_01-2019_P1H.csv')\n",
    "for i in range(2,13):\n",
    "    cur_df = pd.read_csv(DATA_DIR+'en_climate_hourly_ON_6158359_{:0>2d}-2019_P1H.csv'.format(i))\n",
    "    df = pd.concat([df, cur_df], ignore_index=True)\n",
    "assert 24 * 365 == len(df) # 24 hours for a year"
   ]
  },
  {
   "cell_type": "code",
   "execution_count": 5,
   "metadata": {},
   "outputs": [],
   "source": [
    "# Toronto City\n",
    "df_city = pd.read_csv(DATA_DIR+'en_climate_hourly_ON_6158355_01-2019_P1H.csv')\n",
    "for i in range(2,13):\n",
    "    cur_df = pd.read_csv(DATA_DIR+'en_climate_hourly_ON_6158355_{:0>2d}-2019_P1H.csv'.format(i))\n",
    "    df_city = pd.concat([df_city, cur_df], ignore_index=True)\n",
    "assert 24 * 365 == len(df) # 24 hours for a year"
   ]
  },
  {
   "cell_type": "code",
   "execution_count": 6,
   "metadata": {},
   "outputs": [],
   "source": [
    "# Toronto International Airport\n",
    "df_intl = pd.read_csv(DATA_DIR+'en_climate_hourly_ON_6158731_01-2019_P1H.csv')\n",
    "for i in range(2,13):\n",
    "    cur_df = pd.read_csv(DATA_DIR+'en_climate_hourly_ON_6158731_{:0>2d}-2019_P1H.csv'.format(i))\n",
    "    df_intl = pd.concat([df_intl, cur_df], ignore_index=True)\n",
    "assert 24 * 365 == len(df) # 24 hours for a year"
   ]
  },
  {
   "cell_type": "code",
   "execution_count": 7,
   "metadata": {},
   "outputs": [],
   "source": [
    "# daily data\n",
    "df_daily = pd.read_csv(DATA_DIR+'en_climate_daily_ON_6158355_2019_P1D.csv')"
   ]
  },
  {
   "cell_type": "markdown",
   "metadata": {},
   "source": [
    "## Data Exploration "
   ]
  },
  {
   "cell_type": "code",
   "execution_count": 8,
   "metadata": {},
   "outputs": [
    {
     "data": {
      "text/html": [
       "<div>\n",
       "<style scoped>\n",
       "    .dataframe tbody tr th:only-of-type {\n",
       "        vertical-align: middle;\n",
       "    }\n",
       "\n",
       "    .dataframe tbody tr th {\n",
       "        vertical-align: top;\n",
       "    }\n",
       "\n",
       "    .dataframe thead th {\n",
       "        text-align: right;\n",
       "    }\n",
       "</style>\n",
       "<table border=\"1\" class=\"dataframe\">\n",
       "  <thead>\n",
       "    <tr style=\"text-align: right;\">\n",
       "      <th></th>\n",
       "      <th>Longitude (x)</th>\n",
       "      <th>Latitude (y)</th>\n",
       "      <th>Station Name</th>\n",
       "      <th>Climate ID</th>\n",
       "      <th>Date/Time</th>\n",
       "      <th>Year</th>\n",
       "      <th>Month</th>\n",
       "      <th>Day</th>\n",
       "      <th>Time</th>\n",
       "      <th>Temp (°C)</th>\n",
       "      <th>...</th>\n",
       "      <th>Wind Spd Flag</th>\n",
       "      <th>Visibility (km)</th>\n",
       "      <th>Visibility Flag</th>\n",
       "      <th>Stn Press (kPa)</th>\n",
       "      <th>Stn Press Flag</th>\n",
       "      <th>Hmdx</th>\n",
       "      <th>Hmdx Flag</th>\n",
       "      <th>Wind Chill</th>\n",
       "      <th>Wind Chill Flag</th>\n",
       "      <th>Weather</th>\n",
       "    </tr>\n",
       "  </thead>\n",
       "  <tbody>\n",
       "    <tr>\n",
       "      <th>0</th>\n",
       "      <td>-79.4</td>\n",
       "      <td>43.63</td>\n",
       "      <td>TORONTO CITY CENTRE</td>\n",
       "      <td>6158359</td>\n",
       "      <td>2019-01-01 00:00</td>\n",
       "      <td>2019</td>\n",
       "      <td>1</td>\n",
       "      <td>1</td>\n",
       "      <td>00:00</td>\n",
       "      <td>4.3</td>\n",
       "      <td>...</td>\n",
       "      <td>NaN</td>\n",
       "      <td>4.8</td>\n",
       "      <td>NaN</td>\n",
       "      <td>98.49</td>\n",
       "      <td>NaN</td>\n",
       "      <td>NaN</td>\n",
       "      <td>NaN</td>\n",
       "      <td>NaN</td>\n",
       "      <td>NaN</td>\n",
       "      <td>Rain,Fog</td>\n",
       "    </tr>\n",
       "    <tr>\n",
       "      <th>1</th>\n",
       "      <td>-79.4</td>\n",
       "      <td>43.63</td>\n",
       "      <td>TORONTO CITY CENTRE</td>\n",
       "      <td>6158359</td>\n",
       "      <td>2019-01-01 01:00</td>\n",
       "      <td>2019</td>\n",
       "      <td>1</td>\n",
       "      <td>1</td>\n",
       "      <td>01:00</td>\n",
       "      <td>5.1</td>\n",
       "      <td>...</td>\n",
       "      <td>NaN</td>\n",
       "      <td>16.1</td>\n",
       "      <td>NaN</td>\n",
       "      <td>98.47</td>\n",
       "      <td>NaN</td>\n",
       "      <td>NaN</td>\n",
       "      <td>NaN</td>\n",
       "      <td>NaN</td>\n",
       "      <td>NaN</td>\n",
       "      <td>NaN</td>\n",
       "    </tr>\n",
       "    <tr>\n",
       "      <th>2</th>\n",
       "      <td>-79.4</td>\n",
       "      <td>43.63</td>\n",
       "      <td>TORONTO CITY CENTRE</td>\n",
       "      <td>6158359</td>\n",
       "      <td>2019-01-01 02:00</td>\n",
       "      <td>2019</td>\n",
       "      <td>1</td>\n",
       "      <td>1</td>\n",
       "      <td>02:00</td>\n",
       "      <td>5.9</td>\n",
       "      <td>...</td>\n",
       "      <td>NaN</td>\n",
       "      <td>4.0</td>\n",
       "      <td>NaN</td>\n",
       "      <td>98.57</td>\n",
       "      <td>NaN</td>\n",
       "      <td>NaN</td>\n",
       "      <td>NaN</td>\n",
       "      <td>NaN</td>\n",
       "      <td>NaN</td>\n",
       "      <td>Rain,Fog</td>\n",
       "    </tr>\n",
       "    <tr>\n",
       "      <th>3</th>\n",
       "      <td>-79.4</td>\n",
       "      <td>43.63</td>\n",
       "      <td>TORONTO CITY CENTRE</td>\n",
       "      <td>6158359</td>\n",
       "      <td>2019-01-01 03:00</td>\n",
       "      <td>2019</td>\n",
       "      <td>1</td>\n",
       "      <td>1</td>\n",
       "      <td>03:00</td>\n",
       "      <td>3.3</td>\n",
       "      <td>...</td>\n",
       "      <td>NaN</td>\n",
       "      <td>16.1</td>\n",
       "      <td>NaN</td>\n",
       "      <td>98.98</td>\n",
       "      <td>NaN</td>\n",
       "      <td>NaN</td>\n",
       "      <td>NaN</td>\n",
       "      <td>NaN</td>\n",
       "      <td>NaN</td>\n",
       "      <td>NaN</td>\n",
       "    </tr>\n",
       "    <tr>\n",
       "      <th>4</th>\n",
       "      <td>-79.4</td>\n",
       "      <td>43.63</td>\n",
       "      <td>TORONTO CITY CENTRE</td>\n",
       "      <td>6158359</td>\n",
       "      <td>2019-01-01 04:00</td>\n",
       "      <td>2019</td>\n",
       "      <td>1</td>\n",
       "      <td>1</td>\n",
       "      <td>04:00</td>\n",
       "      <td>2.8</td>\n",
       "      <td>...</td>\n",
       "      <td>NaN</td>\n",
       "      <td>16.1</td>\n",
       "      <td>NaN</td>\n",
       "      <td>99.29</td>\n",
       "      <td>NaN</td>\n",
       "      <td>NaN</td>\n",
       "      <td>NaN</td>\n",
       "      <td>NaN</td>\n",
       "      <td>NaN</td>\n",
       "      <td>NaN</td>\n",
       "    </tr>\n",
       "  </tbody>\n",
       "</table>\n",
       "<p>5 rows × 28 columns</p>\n",
       "</div>"
      ],
      "text/plain": [
       "   Longitude (x)  Latitude (y)         Station Name  Climate ID  \\\n",
       "0          -79.4         43.63  TORONTO CITY CENTRE     6158359   \n",
       "1          -79.4         43.63  TORONTO CITY CENTRE     6158359   \n",
       "2          -79.4         43.63  TORONTO CITY CENTRE     6158359   \n",
       "3          -79.4         43.63  TORONTO CITY CENTRE     6158359   \n",
       "4          -79.4         43.63  TORONTO CITY CENTRE     6158359   \n",
       "\n",
       "          Date/Time  Year  Month  Day   Time  Temp (°C)  ... Wind Spd Flag  \\\n",
       "0  2019-01-01 00:00  2019      1    1  00:00        4.3  ...           NaN   \n",
       "1  2019-01-01 01:00  2019      1    1  01:00        5.1  ...           NaN   \n",
       "2  2019-01-01 02:00  2019      1    1  02:00        5.9  ...           NaN   \n",
       "3  2019-01-01 03:00  2019      1    1  03:00        3.3  ...           NaN   \n",
       "4  2019-01-01 04:00  2019      1    1  04:00        2.8  ...           NaN   \n",
       "\n",
       "   Visibility (km) Visibility Flag  Stn Press (kPa) Stn Press Flag  Hmdx  \\\n",
       "0              4.8             NaN            98.49            NaN   NaN   \n",
       "1             16.1             NaN            98.47            NaN   NaN   \n",
       "2              4.0             NaN            98.57            NaN   NaN   \n",
       "3             16.1             NaN            98.98            NaN   NaN   \n",
       "4             16.1             NaN            99.29            NaN   NaN   \n",
       "\n",
       "  Hmdx Flag  Wind Chill Wind Chill Flag   Weather  \n",
       "0       NaN         NaN             NaN  Rain,Fog  \n",
       "1       NaN         NaN             NaN       NaN  \n",
       "2       NaN         NaN             NaN  Rain,Fog  \n",
       "3       NaN         NaN             NaN       NaN  \n",
       "4       NaN         NaN             NaN       NaN  \n",
       "\n",
       "[5 rows x 28 columns]"
      ]
     },
     "execution_count": 8,
     "metadata": {},
     "output_type": "execute_result"
    }
   ],
   "source": [
    "df.head()"
   ]
  },
  {
   "cell_type": "code",
   "execution_count": 9,
   "metadata": {},
   "outputs": [
    {
     "data": {
      "text/html": [
       "<div>\n",
       "<style scoped>\n",
       "    .dataframe tbody tr th:only-of-type {\n",
       "        vertical-align: middle;\n",
       "    }\n",
       "\n",
       "    .dataframe tbody tr th {\n",
       "        vertical-align: top;\n",
       "    }\n",
       "\n",
       "    .dataframe thead th {\n",
       "        text-align: right;\n",
       "    }\n",
       "</style>\n",
       "<table border=\"1\" class=\"dataframe\">\n",
       "  <thead>\n",
       "    <tr style=\"text-align: right;\">\n",
       "      <th></th>\n",
       "      <th>Longitude (x)</th>\n",
       "      <th>Latitude (y)</th>\n",
       "      <th>Station Name</th>\n",
       "      <th>Climate ID</th>\n",
       "      <th>Date/Time</th>\n",
       "      <th>Year</th>\n",
       "      <th>Month</th>\n",
       "      <th>Day</th>\n",
       "      <th>Time</th>\n",
       "      <th>Temp (°C)</th>\n",
       "      <th>...</th>\n",
       "      <th>Wind Spd Flag</th>\n",
       "      <th>Visibility (km)</th>\n",
       "      <th>Visibility Flag</th>\n",
       "      <th>Stn Press (kPa)</th>\n",
       "      <th>Stn Press Flag</th>\n",
       "      <th>Hmdx</th>\n",
       "      <th>Hmdx Flag</th>\n",
       "      <th>Wind Chill</th>\n",
       "      <th>Wind Chill Flag</th>\n",
       "      <th>Weather</th>\n",
       "    </tr>\n",
       "  </thead>\n",
       "  <tbody>\n",
       "    <tr>\n",
       "      <th>0</th>\n",
       "      <td>-79.4</td>\n",
       "      <td>43.67</td>\n",
       "      <td>TORONTO CITY</td>\n",
       "      <td>6158355</td>\n",
       "      <td>2019-01-01 00:00</td>\n",
       "      <td>2019</td>\n",
       "      <td>1</td>\n",
       "      <td>1</td>\n",
       "      <td>00:00</td>\n",
       "      <td>5.1</td>\n",
       "      <td>...</td>\n",
       "      <td>M</td>\n",
       "      <td>NaN</td>\n",
       "      <td>NaN</td>\n",
       "      <td>97.99</td>\n",
       "      <td>NaN</td>\n",
       "      <td>NaN</td>\n",
       "      <td>NaN</td>\n",
       "      <td>NaN</td>\n",
       "      <td>NaN</td>\n",
       "      <td>NaN</td>\n",
       "    </tr>\n",
       "    <tr>\n",
       "      <th>1</th>\n",
       "      <td>-79.4</td>\n",
       "      <td>43.67</td>\n",
       "      <td>TORONTO CITY</td>\n",
       "      <td>6158355</td>\n",
       "      <td>2019-01-01 01:00</td>\n",
       "      <td>2019</td>\n",
       "      <td>1</td>\n",
       "      <td>1</td>\n",
       "      <td>01:00</td>\n",
       "      <td>6.2</td>\n",
       "      <td>...</td>\n",
       "      <td>M</td>\n",
       "      <td>NaN</td>\n",
       "      <td>NaN</td>\n",
       "      <td>97.99</td>\n",
       "      <td>NaN</td>\n",
       "      <td>NaN</td>\n",
       "      <td>NaN</td>\n",
       "      <td>NaN</td>\n",
       "      <td>NaN</td>\n",
       "      <td>NaN</td>\n",
       "    </tr>\n",
       "    <tr>\n",
       "      <th>2</th>\n",
       "      <td>-79.4</td>\n",
       "      <td>43.67</td>\n",
       "      <td>TORONTO CITY</td>\n",
       "      <td>6158355</td>\n",
       "      <td>2019-01-01 02:00</td>\n",
       "      <td>2019</td>\n",
       "      <td>1</td>\n",
       "      <td>1</td>\n",
       "      <td>02:00</td>\n",
       "      <td>5.6</td>\n",
       "      <td>...</td>\n",
       "      <td>M</td>\n",
       "      <td>NaN</td>\n",
       "      <td>NaN</td>\n",
       "      <td>98.13</td>\n",
       "      <td>NaN</td>\n",
       "      <td>NaN</td>\n",
       "      <td>NaN</td>\n",
       "      <td>NaN</td>\n",
       "      <td>NaN</td>\n",
       "      <td>NaN</td>\n",
       "    </tr>\n",
       "    <tr>\n",
       "      <th>3</th>\n",
       "      <td>-79.4</td>\n",
       "      <td>43.67</td>\n",
       "      <td>TORONTO CITY</td>\n",
       "      <td>6158355</td>\n",
       "      <td>2019-01-01 03:00</td>\n",
       "      <td>2019</td>\n",
       "      <td>1</td>\n",
       "      <td>1</td>\n",
       "      <td>03:00</td>\n",
       "      <td>3.2</td>\n",
       "      <td>...</td>\n",
       "      <td>M</td>\n",
       "      <td>NaN</td>\n",
       "      <td>NaN</td>\n",
       "      <td>98.53</td>\n",
       "      <td>NaN</td>\n",
       "      <td>NaN</td>\n",
       "      <td>NaN</td>\n",
       "      <td>NaN</td>\n",
       "      <td>NaN</td>\n",
       "      <td>NaN</td>\n",
       "    </tr>\n",
       "    <tr>\n",
       "      <th>4</th>\n",
       "      <td>-79.4</td>\n",
       "      <td>43.67</td>\n",
       "      <td>TORONTO CITY</td>\n",
       "      <td>6158355</td>\n",
       "      <td>2019-01-01 04:00</td>\n",
       "      <td>2019</td>\n",
       "      <td>1</td>\n",
       "      <td>1</td>\n",
       "      <td>04:00</td>\n",
       "      <td>2.7</td>\n",
       "      <td>...</td>\n",
       "      <td>M</td>\n",
       "      <td>NaN</td>\n",
       "      <td>NaN</td>\n",
       "      <td>98.81</td>\n",
       "      <td>NaN</td>\n",
       "      <td>NaN</td>\n",
       "      <td>NaN</td>\n",
       "      <td>NaN</td>\n",
       "      <td>NaN</td>\n",
       "      <td>NaN</td>\n",
       "    </tr>\n",
       "  </tbody>\n",
       "</table>\n",
       "<p>5 rows × 28 columns</p>\n",
       "</div>"
      ],
      "text/plain": [
       "   Longitude (x)  Latitude (y)  Station Name  Climate ID         Date/Time  \\\n",
       "0          -79.4         43.67  TORONTO CITY     6158355  2019-01-01 00:00   \n",
       "1          -79.4         43.67  TORONTO CITY     6158355  2019-01-01 01:00   \n",
       "2          -79.4         43.67  TORONTO CITY     6158355  2019-01-01 02:00   \n",
       "3          -79.4         43.67  TORONTO CITY     6158355  2019-01-01 03:00   \n",
       "4          -79.4         43.67  TORONTO CITY     6158355  2019-01-01 04:00   \n",
       "\n",
       "   Year  Month  Day   Time  Temp (°C)  ...  Wind Spd Flag  Visibility (km)  \\\n",
       "0  2019      1    1  00:00        5.1  ...              M              NaN   \n",
       "1  2019      1    1  01:00        6.2  ...              M              NaN   \n",
       "2  2019      1    1  02:00        5.6  ...              M              NaN   \n",
       "3  2019      1    1  03:00        3.2  ...              M              NaN   \n",
       "4  2019      1    1  04:00        2.7  ...              M              NaN   \n",
       "\n",
       "   Visibility Flag  Stn Press (kPa)  Stn Press Flag  Hmdx Hmdx Flag  \\\n",
       "0              NaN            97.99             NaN   NaN       NaN   \n",
       "1              NaN            97.99             NaN   NaN       NaN   \n",
       "2              NaN            98.13             NaN   NaN       NaN   \n",
       "3              NaN            98.53             NaN   NaN       NaN   \n",
       "4              NaN            98.81             NaN   NaN       NaN   \n",
       "\n",
       "   Wind Chill Wind Chill Flag  Weather  \n",
       "0         NaN             NaN      NaN  \n",
       "1         NaN             NaN      NaN  \n",
       "2         NaN             NaN      NaN  \n",
       "3         NaN             NaN      NaN  \n",
       "4         NaN             NaN      NaN  \n",
       "\n",
       "[5 rows x 28 columns]"
      ]
     },
     "execution_count": 9,
     "metadata": {},
     "output_type": "execute_result"
    }
   ],
   "source": [
    "df_city.head()"
   ]
  },
  {
   "cell_type": "code",
   "execution_count": 10,
   "metadata": {},
   "outputs": [
    {
     "data": {
      "text/html": [
       "<div>\n",
       "<style scoped>\n",
       "    .dataframe tbody tr th:only-of-type {\n",
       "        vertical-align: middle;\n",
       "    }\n",
       "\n",
       "    .dataframe tbody tr th {\n",
       "        vertical-align: top;\n",
       "    }\n",
       "\n",
       "    .dataframe thead th {\n",
       "        text-align: right;\n",
       "    }\n",
       "</style>\n",
       "<table border=\"1\" class=\"dataframe\">\n",
       "  <thead>\n",
       "    <tr style=\"text-align: right;\">\n",
       "      <th></th>\n",
       "      <th>Longitude (x)</th>\n",
       "      <th>Latitude (y)</th>\n",
       "      <th>Station Name</th>\n",
       "      <th>Climate ID</th>\n",
       "      <th>Date/Time</th>\n",
       "      <th>Year</th>\n",
       "      <th>Month</th>\n",
       "      <th>Day</th>\n",
       "      <th>Time</th>\n",
       "      <th>Temp (°C)</th>\n",
       "      <th>...</th>\n",
       "      <th>Wind Spd Flag</th>\n",
       "      <th>Visibility (km)</th>\n",
       "      <th>Visibility Flag</th>\n",
       "      <th>Stn Press (kPa)</th>\n",
       "      <th>Stn Press Flag</th>\n",
       "      <th>Hmdx</th>\n",
       "      <th>Hmdx Flag</th>\n",
       "      <th>Wind Chill</th>\n",
       "      <th>Wind Chill Flag</th>\n",
       "      <th>Weather</th>\n",
       "    </tr>\n",
       "  </thead>\n",
       "  <tbody>\n",
       "    <tr>\n",
       "      <th>0</th>\n",
       "      <td>-79.63</td>\n",
       "      <td>43.68</td>\n",
       "      <td>TORONTO INTL A</td>\n",
       "      <td>6158731</td>\n",
       "      <td>2019-01-01 00:00</td>\n",
       "      <td>2019</td>\n",
       "      <td>1</td>\n",
       "      <td>1</td>\n",
       "      <td>00:00</td>\n",
       "      <td>4.5</td>\n",
       "      <td>...</td>\n",
       "      <td>NaN</td>\n",
       "      <td>6.4</td>\n",
       "      <td>NaN</td>\n",
       "      <td>97.29</td>\n",
       "      <td>NaN</td>\n",
       "      <td>NaN</td>\n",
       "      <td>NaN</td>\n",
       "      <td>NaN</td>\n",
       "      <td>NaN</td>\n",
       "      <td>Drizzle,Fog</td>\n",
       "    </tr>\n",
       "    <tr>\n",
       "      <th>1</th>\n",
       "      <td>-79.63</td>\n",
       "      <td>43.68</td>\n",
       "      <td>TORONTO INTL A</td>\n",
       "      <td>6158731</td>\n",
       "      <td>2019-01-01 01:00</td>\n",
       "      <td>2019</td>\n",
       "      <td>1</td>\n",
       "      <td>1</td>\n",
       "      <td>01:00</td>\n",
       "      <td>4.4</td>\n",
       "      <td>...</td>\n",
       "      <td>NaN</td>\n",
       "      <td>9.7</td>\n",
       "      <td>NaN</td>\n",
       "      <td>97.32</td>\n",
       "      <td>NaN</td>\n",
       "      <td>NaN</td>\n",
       "      <td>NaN</td>\n",
       "      <td>NaN</td>\n",
       "      <td>NaN</td>\n",
       "      <td>Drizzle,Fog</td>\n",
       "    </tr>\n",
       "    <tr>\n",
       "      <th>2</th>\n",
       "      <td>-79.63</td>\n",
       "      <td>43.68</td>\n",
       "      <td>TORONTO INTL A</td>\n",
       "      <td>6158731</td>\n",
       "      <td>2019-01-01 02:00</td>\n",
       "      <td>2019</td>\n",
       "      <td>1</td>\n",
       "      <td>1</td>\n",
       "      <td>02:00</td>\n",
       "      <td>2.4</td>\n",
       "      <td>...</td>\n",
       "      <td>NaN</td>\n",
       "      <td>9.7</td>\n",
       "      <td>NaN</td>\n",
       "      <td>97.54</td>\n",
       "      <td>NaN</td>\n",
       "      <td>NaN</td>\n",
       "      <td>NaN</td>\n",
       "      <td>NaN</td>\n",
       "      <td>NaN</td>\n",
       "      <td>Rain,Drizzle,Fog</td>\n",
       "    </tr>\n",
       "    <tr>\n",
       "      <th>3</th>\n",
       "      <td>-79.63</td>\n",
       "      <td>43.68</td>\n",
       "      <td>TORONTO INTL A</td>\n",
       "      <td>6158731</td>\n",
       "      <td>2019-01-01 03:00</td>\n",
       "      <td>2019</td>\n",
       "      <td>1</td>\n",
       "      <td>1</td>\n",
       "      <td>03:00</td>\n",
       "      <td>2.2</td>\n",
       "      <td>...</td>\n",
       "      <td>NaN</td>\n",
       "      <td>19.3</td>\n",
       "      <td>NaN</td>\n",
       "      <td>97.89</td>\n",
       "      <td>NaN</td>\n",
       "      <td>NaN</td>\n",
       "      <td>NaN</td>\n",
       "      <td>NaN</td>\n",
       "      <td>NaN</td>\n",
       "      <td>NaN</td>\n",
       "    </tr>\n",
       "    <tr>\n",
       "      <th>4</th>\n",
       "      <td>-79.63</td>\n",
       "      <td>43.68</td>\n",
       "      <td>TORONTO INTL A</td>\n",
       "      <td>6158731</td>\n",
       "      <td>2019-01-01 04:00</td>\n",
       "      <td>2019</td>\n",
       "      <td>1</td>\n",
       "      <td>1</td>\n",
       "      <td>04:00</td>\n",
       "      <td>1.9</td>\n",
       "      <td>...</td>\n",
       "      <td>NaN</td>\n",
       "      <td>24.1</td>\n",
       "      <td>NaN</td>\n",
       "      <td>98.16</td>\n",
       "      <td>NaN</td>\n",
       "      <td>NaN</td>\n",
       "      <td>NaN</td>\n",
       "      <td>NaN</td>\n",
       "      <td>NaN</td>\n",
       "      <td>Cloudy</td>\n",
       "    </tr>\n",
       "  </tbody>\n",
       "</table>\n",
       "<p>5 rows × 28 columns</p>\n",
       "</div>"
      ],
      "text/plain": [
       "   Longitude (x)  Latitude (y)    Station Name  Climate ID         Date/Time  \\\n",
       "0         -79.63         43.68  TORONTO INTL A     6158731  2019-01-01 00:00   \n",
       "1         -79.63         43.68  TORONTO INTL A     6158731  2019-01-01 01:00   \n",
       "2         -79.63         43.68  TORONTO INTL A     6158731  2019-01-01 02:00   \n",
       "3         -79.63         43.68  TORONTO INTL A     6158731  2019-01-01 03:00   \n",
       "4         -79.63         43.68  TORONTO INTL A     6158731  2019-01-01 04:00   \n",
       "\n",
       "   Year  Month  Day   Time  Temp (°C)  ...  Wind Spd Flag  Visibility (km)  \\\n",
       "0  2019      1    1  00:00        4.5  ...            NaN              6.4   \n",
       "1  2019      1    1  01:00        4.4  ...            NaN              9.7   \n",
       "2  2019      1    1  02:00        2.4  ...            NaN              9.7   \n",
       "3  2019      1    1  03:00        2.2  ...            NaN             19.3   \n",
       "4  2019      1    1  04:00        1.9  ...            NaN             24.1   \n",
       "\n",
       "   Visibility Flag  Stn Press (kPa)  Stn Press Flag  Hmdx  Hmdx Flag  \\\n",
       "0              NaN            97.29             NaN   NaN        NaN   \n",
       "1              NaN            97.32             NaN   NaN        NaN   \n",
       "2              NaN            97.54             NaN   NaN        NaN   \n",
       "3              NaN            97.89             NaN   NaN        NaN   \n",
       "4              NaN            98.16             NaN   NaN        NaN   \n",
       "\n",
       "   Wind Chill  Wind Chill Flag           Weather  \n",
       "0         NaN              NaN       Drizzle,Fog  \n",
       "1         NaN              NaN       Drizzle,Fog  \n",
       "2         NaN              NaN  Rain,Drizzle,Fog  \n",
       "3         NaN              NaN               NaN  \n",
       "4         NaN              NaN            Cloudy  \n",
       "\n",
       "[5 rows x 28 columns]"
      ]
     },
     "execution_count": 10,
     "metadata": {},
     "output_type": "execute_result"
    }
   ],
   "source": [
    "df_intl.head()"
   ]
  },
  {
   "cell_type": "code",
   "execution_count": 11,
   "metadata": {},
   "outputs": [
    {
     "data": {
      "text/html": [
       "<div>\n",
       "<style scoped>\n",
       "    .dataframe tbody tr th:only-of-type {\n",
       "        vertical-align: middle;\n",
       "    }\n",
       "\n",
       "    .dataframe tbody tr th {\n",
       "        vertical-align: top;\n",
       "    }\n",
       "\n",
       "    .dataframe thead th {\n",
       "        text-align: right;\n",
       "    }\n",
       "</style>\n",
       "<table border=\"1\" class=\"dataframe\">\n",
       "  <thead>\n",
       "    <tr style=\"text-align: right;\">\n",
       "      <th></th>\n",
       "      <th>Longitude (x)</th>\n",
       "      <th>Latitude (y)</th>\n",
       "      <th>Climate ID</th>\n",
       "      <th>Year</th>\n",
       "      <th>Month</th>\n",
       "      <th>Day</th>\n",
       "      <th>Temp (°C)</th>\n",
       "      <th>Dew Point Temp (°C)</th>\n",
       "      <th>Rel Hum (%)</th>\n",
       "      <th>Wind Dir (10s deg)</th>\n",
       "      <th>Wind Spd (km/h)</th>\n",
       "      <th>Visibility (km)</th>\n",
       "      <th>Stn Press (kPa)</th>\n",
       "      <th>Hmdx</th>\n",
       "      <th>Hmdx Flag</th>\n",
       "      <th>Wind Chill</th>\n",
       "      <th>Wind Chill Flag</th>\n",
       "    </tr>\n",
       "  </thead>\n",
       "  <tbody>\n",
       "    <tr>\n",
       "      <th>count</th>\n",
       "      <td>8.760000e+03</td>\n",
       "      <td>8.760000e+03</td>\n",
       "      <td>8760.0</td>\n",
       "      <td>8760.0</td>\n",
       "      <td>8760.000000</td>\n",
       "      <td>8760.000000</td>\n",
       "      <td>8665.000000</td>\n",
       "      <td>8615.000000</td>\n",
       "      <td>8615.000000</td>\n",
       "      <td>8165.000000</td>\n",
       "      <td>8737.000000</td>\n",
       "      <td>8736.000000</td>\n",
       "      <td>8663.000000</td>\n",
       "      <td>1152.000000</td>\n",
       "      <td>0.0</td>\n",
       "      <td>1824.000000</td>\n",
       "      <td>0.0</td>\n",
       "    </tr>\n",
       "    <tr>\n",
       "      <th>mean</th>\n",
       "      <td>-7.940000e+01</td>\n",
       "      <td>4.363000e+01</td>\n",
       "      <td>6158359.0</td>\n",
       "      <td>2019.0</td>\n",
       "      <td>6.526027</td>\n",
       "      <td>15.720548</td>\n",
       "      <td>8.325470</td>\n",
       "      <td>3.808160</td>\n",
       "      <td>74.540685</td>\n",
       "      <td>19.358604</td>\n",
       "      <td>17.522147</td>\n",
       "      <td>14.862500</td>\n",
       "      <td>100.713891</td>\n",
       "      <td>28.826389</td>\n",
       "      <td>NaN</td>\n",
       "      <td>-11.847039</td>\n",
       "      <td>NaN</td>\n",
       "    </tr>\n",
       "    <tr>\n",
       "      <th>std</th>\n",
       "      <td>1.294683e-11</td>\n",
       "      <td>3.659504e-12</td>\n",
       "      <td>0.0</td>\n",
       "      <td>0.0</td>\n",
       "      <td>3.448048</td>\n",
       "      <td>8.796749</td>\n",
       "      <td>10.050682</td>\n",
       "      <td>10.255228</td>\n",
       "      <td>14.261275</td>\n",
       "      <td>10.062665</td>\n",
       "      <td>11.045413</td>\n",
       "      <td>3.428047</td>\n",
       "      <td>0.812610</td>\n",
       "      <td>2.877650</td>\n",
       "      <td>NaN</td>\n",
       "      <td>6.159354</td>\n",
       "      <td>NaN</td>\n",
       "    </tr>\n",
       "    <tr>\n",
       "      <th>min</th>\n",
       "      <td>-7.940000e+01</td>\n",
       "      <td>4.363000e+01</td>\n",
       "      <td>6158359.0</td>\n",
       "      <td>2019.0</td>\n",
       "      <td>1.000000</td>\n",
       "      <td>1.000000</td>\n",
       "      <td>-21.000000</td>\n",
       "      <td>-28.400000</td>\n",
       "      <td>24.000000</td>\n",
       "      <td>1.000000</td>\n",
       "      <td>0.000000</td>\n",
       "      <td>0.000000</td>\n",
       "      <td>97.760000</td>\n",
       "      <td>25.000000</td>\n",
       "      <td>NaN</td>\n",
       "      <td>-36.000000</td>\n",
       "      <td>NaN</td>\n",
       "    </tr>\n",
       "    <tr>\n",
       "      <th>25%</th>\n",
       "      <td>-7.940000e+01</td>\n",
       "      <td>4.363000e+01</td>\n",
       "      <td>6158359.0</td>\n",
       "      <td>2019.0</td>\n",
       "      <td>4.000000</td>\n",
       "      <td>8.000000</td>\n",
       "      <td>1.000000</td>\n",
       "      <td>-3.700000</td>\n",
       "      <td>65.000000</td>\n",
       "      <td>8.000000</td>\n",
       "      <td>9.000000</td>\n",
       "      <td>16.100000</td>\n",
       "      <td>100.190000</td>\n",
       "      <td>27.000000</td>\n",
       "      <td>NaN</td>\n",
       "      <td>-15.000000</td>\n",
       "      <td>NaN</td>\n",
       "    </tr>\n",
       "    <tr>\n",
       "      <th>50%</th>\n",
       "      <td>-7.940000e+01</td>\n",
       "      <td>4.363000e+01</td>\n",
       "      <td>6158359.0</td>\n",
       "      <td>2019.0</td>\n",
       "      <td>7.000000</td>\n",
       "      <td>16.000000</td>\n",
       "      <td>7.800000</td>\n",
       "      <td>4.100000</td>\n",
       "      <td>75.000000</td>\n",
       "      <td>22.000000</td>\n",
       "      <td>15.000000</td>\n",
       "      <td>16.100000</td>\n",
       "      <td>100.710000</td>\n",
       "      <td>28.000000</td>\n",
       "      <td>NaN</td>\n",
       "      <td>-11.000000</td>\n",
       "      <td>NaN</td>\n",
       "    </tr>\n",
       "    <tr>\n",
       "      <th>75%</th>\n",
       "      <td>-7.940000e+01</td>\n",
       "      <td>4.363000e+01</td>\n",
       "      <td>6158359.0</td>\n",
       "      <td>2019.0</td>\n",
       "      <td>10.000000</td>\n",
       "      <td>23.000000</td>\n",
       "      <td>17.500000</td>\n",
       "      <td>12.000000</td>\n",
       "      <td>86.000000</td>\n",
       "      <td>28.000000</td>\n",
       "      <td>24.000000</td>\n",
       "      <td>16.100000</td>\n",
       "      <td>101.270000</td>\n",
       "      <td>31.000000</td>\n",
       "      <td>NaN</td>\n",
       "      <td>-7.000000</td>\n",
       "      <td>NaN</td>\n",
       "    </tr>\n",
       "    <tr>\n",
       "      <th>max</th>\n",
       "      <td>-7.940000e+01</td>\n",
       "      <td>4.363000e+01</td>\n",
       "      <td>6158359.0</td>\n",
       "      <td>2019.0</td>\n",
       "      <td>12.000000</td>\n",
       "      <td>31.000000</td>\n",
       "      <td>33.200000</td>\n",
       "      <td>23.900000</td>\n",
       "      <td>100.000000</td>\n",
       "      <td>36.000000</td>\n",
       "      <td>68.000000</td>\n",
       "      <td>16.100000</td>\n",
       "      <td>103.260000</td>\n",
       "      <td>43.000000</td>\n",
       "      <td>NaN</td>\n",
       "      <td>-2.000000</td>\n",
       "      <td>NaN</td>\n",
       "    </tr>\n",
       "  </tbody>\n",
       "</table>\n",
       "</div>"
      ],
      "text/plain": [
       "       Longitude (x)  Latitude (y)  Climate ID    Year        Month  \\\n",
       "count   8.760000e+03  8.760000e+03      8760.0  8760.0  8760.000000   \n",
       "mean   -7.940000e+01  4.363000e+01   6158359.0  2019.0     6.526027   \n",
       "std     1.294683e-11  3.659504e-12         0.0     0.0     3.448048   \n",
       "min    -7.940000e+01  4.363000e+01   6158359.0  2019.0     1.000000   \n",
       "25%    -7.940000e+01  4.363000e+01   6158359.0  2019.0     4.000000   \n",
       "50%    -7.940000e+01  4.363000e+01   6158359.0  2019.0     7.000000   \n",
       "75%    -7.940000e+01  4.363000e+01   6158359.0  2019.0    10.000000   \n",
       "max    -7.940000e+01  4.363000e+01   6158359.0  2019.0    12.000000   \n",
       "\n",
       "               Day    Temp (°C)  Dew Point Temp (°C)  Rel Hum (%)  \\\n",
       "count  8760.000000  8665.000000          8615.000000  8615.000000   \n",
       "mean     15.720548     8.325470             3.808160    74.540685   \n",
       "std       8.796749    10.050682            10.255228    14.261275   \n",
       "min       1.000000   -21.000000           -28.400000    24.000000   \n",
       "25%       8.000000     1.000000            -3.700000    65.000000   \n",
       "50%      16.000000     7.800000             4.100000    75.000000   \n",
       "75%      23.000000    17.500000            12.000000    86.000000   \n",
       "max      31.000000    33.200000            23.900000   100.000000   \n",
       "\n",
       "       Wind Dir (10s deg)  Wind Spd (km/h)  Visibility (km)  Stn Press (kPa)  \\\n",
       "count         8165.000000      8737.000000      8736.000000      8663.000000   \n",
       "mean            19.358604        17.522147        14.862500       100.713891   \n",
       "std             10.062665        11.045413         3.428047         0.812610   \n",
       "min              1.000000         0.000000         0.000000        97.760000   \n",
       "25%              8.000000         9.000000        16.100000       100.190000   \n",
       "50%             22.000000        15.000000        16.100000       100.710000   \n",
       "75%             28.000000        24.000000        16.100000       101.270000   \n",
       "max             36.000000        68.000000        16.100000       103.260000   \n",
       "\n",
       "              Hmdx  Hmdx Flag   Wind Chill  Wind Chill Flag  \n",
       "count  1152.000000        0.0  1824.000000              0.0  \n",
       "mean     28.826389        NaN   -11.847039              NaN  \n",
       "std       2.877650        NaN     6.159354              NaN  \n",
       "min      25.000000        NaN   -36.000000              NaN  \n",
       "25%      27.000000        NaN   -15.000000              NaN  \n",
       "50%      28.000000        NaN   -11.000000              NaN  \n",
       "75%      31.000000        NaN    -7.000000              NaN  \n",
       "max      43.000000        NaN    -2.000000              NaN  "
      ]
     },
     "execution_count": 11,
     "metadata": {},
     "output_type": "execute_result"
    }
   ],
   "source": [
    "df.describe()"
   ]
  },
  {
   "cell_type": "code",
   "execution_count": 12,
   "metadata": {},
   "outputs": [
    {
     "name": "stdout",
     "output_type": "stream",
     "text": [
      "<class 'pandas.core.frame.DataFrame'>\n",
      "RangeIndex: 8760 entries, 0 to 8759\n",
      "Data columns (total 28 columns):\n",
      " #   Column               Non-Null Count  Dtype  \n",
      "---  ------               --------------  -----  \n",
      " 0   Longitude (x)        8760 non-null   float64\n",
      " 1   Latitude (y)         8760 non-null   float64\n",
      " 2   Station Name         8760 non-null   object \n",
      " 3   Climate ID           8760 non-null   int64  \n",
      " 4   Date/Time            8760 non-null   object \n",
      " 5   Year                 8760 non-null   int64  \n",
      " 6   Month                8760 non-null   int64  \n",
      " 7   Day                  8760 non-null   int64  \n",
      " 8   Time                 8760 non-null   object \n",
      " 9   Temp (°C)            8665 non-null   float64\n",
      " 10  Temp Flag            79 non-null     object \n",
      " 11  Dew Point Temp (°C)  8615 non-null   float64\n",
      " 12  Dew Point Temp Flag  129 non-null    object \n",
      " 13  Rel Hum (%)          8615 non-null   float64\n",
      " 14  Rel Hum Flag         129 non-null    object \n",
      " 15  Wind Dir (10s deg)   8165 non-null   float64\n",
      " 16  Wind Dir Flag        310 non-null    object \n",
      " 17  Wind Spd (km/h)      8737 non-null   float64\n",
      " 18  Wind Spd Flag        7 non-null      object \n",
      " 19  Visibility (km)      8736 non-null   float64\n",
      " 20  Visibility Flag      8 non-null      object \n",
      " 21  Stn Press (kPa)      8663 non-null   float64\n",
      " 22  Stn Press Flag       81 non-null     object \n",
      " 23  Hmdx                 1152 non-null   float64\n",
      " 24  Hmdx Flag            0 non-null      float64\n",
      " 25  Wind Chill           1824 non-null   float64\n",
      " 26  Wind Chill Flag      0 non-null      float64\n",
      " 27  Weather              1547 non-null   object \n",
      "dtypes: float64(13), int64(4), object(11)\n",
      "memory usage: 1.9+ MB\n"
     ]
    }
   ],
   "source": [
    "df.info()"
   ]
  },
  {
   "cell_type": "code",
   "execution_count": 13,
   "metadata": {},
   "outputs": [
    {
     "data": {
      "text/html": [
       "<div>\n",
       "<style scoped>\n",
       "    .dataframe tbody tr th:only-of-type {\n",
       "        vertical-align: middle;\n",
       "    }\n",
       "\n",
       "    .dataframe tbody tr th {\n",
       "        vertical-align: top;\n",
       "    }\n",
       "\n",
       "    .dataframe thead th {\n",
       "        text-align: right;\n",
       "    }\n",
       "</style>\n",
       "<table border=\"1\" class=\"dataframe\">\n",
       "  <thead>\n",
       "    <tr style=\"text-align: right;\">\n",
       "      <th></th>\n",
       "      <th>Longitude (x)</th>\n",
       "      <th>Latitude (y)</th>\n",
       "      <th>Station Name</th>\n",
       "      <th>Climate ID</th>\n",
       "      <th>Date/Time</th>\n",
       "      <th>Year</th>\n",
       "      <th>Month</th>\n",
       "      <th>Day</th>\n",
       "      <th>Data Quality</th>\n",
       "      <th>Max Temp (°C)</th>\n",
       "      <th>...</th>\n",
       "      <th>Total Snow (cm)</th>\n",
       "      <th>Total Snow Flag</th>\n",
       "      <th>Total Precip (mm)</th>\n",
       "      <th>Total Precip Flag</th>\n",
       "      <th>Snow on Grnd (cm)</th>\n",
       "      <th>Snow on Grnd Flag</th>\n",
       "      <th>Dir of Max Gust (10s deg)</th>\n",
       "      <th>Dir of Max Gust Flag</th>\n",
       "      <th>Spd of Max Gust (km/h)</th>\n",
       "      <th>Spd of Max Gust Flag</th>\n",
       "    </tr>\n",
       "  </thead>\n",
       "  <tbody>\n",
       "    <tr>\n",
       "      <th>0</th>\n",
       "      <td>-79.4</td>\n",
       "      <td>43.67</td>\n",
       "      <td>TORONTO CITY</td>\n",
       "      <td>6158355</td>\n",
       "      <td>2019-01-01</td>\n",
       "      <td>2019</td>\n",
       "      <td>1</td>\n",
       "      <td>1</td>\n",
       "      <td>NaN</td>\n",
       "      <td>6.3</td>\n",
       "      <td>...</td>\n",
       "      <td>NaN</td>\n",
       "      <td>NaN</td>\n",
       "      <td>0.4</td>\n",
       "      <td>NaN</td>\n",
       "      <td>0.0</td>\n",
       "      <td>NaN</td>\n",
       "      <td>NaN</td>\n",
       "      <td>M</td>\n",
       "      <td>NaN</td>\n",
       "      <td>M</td>\n",
       "    </tr>\n",
       "    <tr>\n",
       "      <th>1</th>\n",
       "      <td>-79.4</td>\n",
       "      <td>43.67</td>\n",
       "      <td>TORONTO CITY</td>\n",
       "      <td>6158355</td>\n",
       "      <td>2019-01-02</td>\n",
       "      <td>2019</td>\n",
       "      <td>1</td>\n",
       "      <td>2</td>\n",
       "      <td>NaN</td>\n",
       "      <td>0.6</td>\n",
       "      <td>...</td>\n",
       "      <td>NaN</td>\n",
       "      <td>NaN</td>\n",
       "      <td>2.9</td>\n",
       "      <td>NaN</td>\n",
       "      <td>0.0</td>\n",
       "      <td>NaN</td>\n",
       "      <td>NaN</td>\n",
       "      <td>M</td>\n",
       "      <td>NaN</td>\n",
       "      <td>M</td>\n",
       "    </tr>\n",
       "    <tr>\n",
       "      <th>2</th>\n",
       "      <td>-79.4</td>\n",
       "      <td>43.67</td>\n",
       "      <td>TORONTO CITY</td>\n",
       "      <td>6158355</td>\n",
       "      <td>2019-01-03</td>\n",
       "      <td>2019</td>\n",
       "      <td>1</td>\n",
       "      <td>3</td>\n",
       "      <td>NaN</td>\n",
       "      <td>1.5</td>\n",
       "      <td>...</td>\n",
       "      <td>NaN</td>\n",
       "      <td>NaN</td>\n",
       "      <td>0.0</td>\n",
       "      <td>NaN</td>\n",
       "      <td>5.0</td>\n",
       "      <td>NaN</td>\n",
       "      <td>NaN</td>\n",
       "      <td>M</td>\n",
       "      <td>NaN</td>\n",
       "      <td>M</td>\n",
       "    </tr>\n",
       "    <tr>\n",
       "      <th>3</th>\n",
       "      <td>-79.4</td>\n",
       "      <td>43.67</td>\n",
       "      <td>TORONTO CITY</td>\n",
       "      <td>6158355</td>\n",
       "      <td>2019-01-04</td>\n",
       "      <td>2019</td>\n",
       "      <td>1</td>\n",
       "      <td>4</td>\n",
       "      <td>NaN</td>\n",
       "      <td>7.8</td>\n",
       "      <td>...</td>\n",
       "      <td>NaN</td>\n",
       "      <td>NaN</td>\n",
       "      <td>0.0</td>\n",
       "      <td>NaN</td>\n",
       "      <td>4.0</td>\n",
       "      <td>NaN</td>\n",
       "      <td>NaN</td>\n",
       "      <td>M</td>\n",
       "      <td>NaN</td>\n",
       "      <td>M</td>\n",
       "    </tr>\n",
       "    <tr>\n",
       "      <th>4</th>\n",
       "      <td>-79.4</td>\n",
       "      <td>43.67</td>\n",
       "      <td>TORONTO CITY</td>\n",
       "      <td>6158355</td>\n",
       "      <td>2019-01-05</td>\n",
       "      <td>2019</td>\n",
       "      <td>1</td>\n",
       "      <td>5</td>\n",
       "      <td>NaN</td>\n",
       "      <td>3.9</td>\n",
       "      <td>...</td>\n",
       "      <td>NaN</td>\n",
       "      <td>NaN</td>\n",
       "      <td>0.0</td>\n",
       "      <td>NaN</td>\n",
       "      <td>1.0</td>\n",
       "      <td>NaN</td>\n",
       "      <td>NaN</td>\n",
       "      <td>M</td>\n",
       "      <td>NaN</td>\n",
       "      <td>M</td>\n",
       "    </tr>\n",
       "  </tbody>\n",
       "</table>\n",
       "<p>5 rows × 31 columns</p>\n",
       "</div>"
      ],
      "text/plain": [
       "   Longitude (x)  Latitude (y)  Station Name  Climate ID   Date/Time  Year  \\\n",
       "0          -79.4         43.67  TORONTO CITY     6158355  2019-01-01  2019   \n",
       "1          -79.4         43.67  TORONTO CITY     6158355  2019-01-02  2019   \n",
       "2          -79.4         43.67  TORONTO CITY     6158355  2019-01-03  2019   \n",
       "3          -79.4         43.67  TORONTO CITY     6158355  2019-01-04  2019   \n",
       "4          -79.4         43.67  TORONTO CITY     6158355  2019-01-05  2019   \n",
       "\n",
       "   Month  Day  Data Quality  Max Temp (°C)  ... Total Snow (cm)  \\\n",
       "0      1    1           NaN            6.3  ...             NaN   \n",
       "1      1    2           NaN            0.6  ...             NaN   \n",
       "2      1    3           NaN            1.5  ...             NaN   \n",
       "3      1    4           NaN            7.8  ...             NaN   \n",
       "4      1    5           NaN            3.9  ...             NaN   \n",
       "\n",
       "   Total Snow Flag Total Precip (mm)  Total Precip Flag Snow on Grnd (cm)  \\\n",
       "0              NaN               0.4                NaN               0.0   \n",
       "1              NaN               2.9                NaN               0.0   \n",
       "2              NaN               0.0                NaN               5.0   \n",
       "3              NaN               0.0                NaN               4.0   \n",
       "4              NaN               0.0                NaN               1.0   \n",
       "\n",
       "   Snow on Grnd Flag Dir of Max Gust (10s deg)  Dir of Max Gust Flag  \\\n",
       "0                NaN                       NaN                     M   \n",
       "1                NaN                       NaN                     M   \n",
       "2                NaN                       NaN                     M   \n",
       "3                NaN                       NaN                     M   \n",
       "4                NaN                       NaN                     M   \n",
       "\n",
       "  Spd of Max Gust (km/h)  Spd of Max Gust Flag  \n",
       "0                    NaN                     M  \n",
       "1                    NaN                     M  \n",
       "2                    NaN                     M  \n",
       "3                    NaN                     M  \n",
       "4                    NaN                     M  \n",
       "\n",
       "[5 rows x 31 columns]"
      ]
     },
     "execution_count": 13,
     "metadata": {},
     "output_type": "execute_result"
    }
   ],
   "source": [
    "df_daily.head()"
   ]
  },
  {
   "cell_type": "code",
   "execution_count": 14,
   "metadata": {},
   "outputs": [
    {
     "name": "stdout",
     "output_type": "stream",
     "text": [
      "<class 'pandas.core.frame.DataFrame'>\n",
      "RangeIndex: 365 entries, 0 to 364\n",
      "Data columns (total 31 columns):\n",
      " #   Column                     Non-Null Count  Dtype  \n",
      "---  ------                     --------------  -----  \n",
      " 0   Longitude (x)              365 non-null    float64\n",
      " 1   Latitude (y)               365 non-null    float64\n",
      " 2   Station Name               365 non-null    object \n",
      " 3   Climate ID                 365 non-null    int64  \n",
      " 4   Date/Time                  365 non-null    object \n",
      " 5   Year                       365 non-null    int64  \n",
      " 6   Month                      365 non-null    int64  \n",
      " 7   Day                        365 non-null    int64  \n",
      " 8   Data Quality               0 non-null      float64\n",
      " 9   Max Temp (°C)              362 non-null    float64\n",
      " 10  Max Temp Flag              3 non-null      object \n",
      " 11  Min Temp (°C)              362 non-null    float64\n",
      " 12  Min Temp Flag              3 non-null      object \n",
      " 13  Mean Temp (°C)             362 non-null    float64\n",
      " 14  Mean Temp Flag             3 non-null      object \n",
      " 15  Heat Deg Days (°C)         362 non-null    float64\n",
      " 16  Heat Deg Days Flag         3 non-null      object \n",
      " 17  Cool Deg Days (°C)         362 non-null    float64\n",
      " 18  Cool Deg Days Flag         3 non-null      object \n",
      " 19  Total Rain (mm)            0 non-null      float64\n",
      " 20  Total Rain Flag            0 non-null      float64\n",
      " 21  Total Snow (cm)            0 non-null      float64\n",
      " 22  Total Snow Flag            0 non-null      float64\n",
      " 23  Total Precip (mm)          362 non-null    float64\n",
      " 24  Total Precip Flag          3 non-null      object \n",
      " 25  Snow on Grnd (cm)          138 non-null    float64\n",
      " 26  Snow on Grnd Flag          0 non-null      float64\n",
      " 27  Dir of Max Gust (10s deg)  0 non-null      float64\n",
      " 28  Dir of Max Gust Flag       365 non-null    object \n",
      " 29  Spd of Max Gust (km/h)     0 non-null      float64\n",
      " 30  Spd of Max Gust Flag       365 non-null    object \n",
      "dtypes: float64(17), int64(4), object(10)\n",
      "memory usage: 88.5+ KB\n"
     ]
    }
   ],
   "source": [
    "df_daily.info()"
   ]
  },
  {
   "cell_type": "markdown",
   "metadata": {},
   "source": [
    "### Tempature"
   ]
  },
  {
   "cell_type": "code",
   "execution_count": 15,
   "metadata": {},
   "outputs": [
    {
     "data": {
      "image/png": "[encoded data removed]",
      "text/plain": [
       "<Figure size 720x576 with 1 Axes>"
      ]
     },
     "metadata": {
      "needs_background": "light"
     },
     "output_type": "display_data"
    }
   ],
   "source": [
    "# frequency\n",
    "plt.figure(figsize=(10,8))\n",
    "df['Temp (°C)'].plot.hist(color='g', alpha=0.5, bins=50)\n",
    "plt.show()"
   ]
  },
  {
   "cell_type": "code",
   "execution_count": 16,
   "metadata": {},
   "outputs": [
    {
     "data": {
      "image/png": "[encoded data removed]",
      "text/plain": [
       "<Figure size 720x576 with 1 Axes>"
      ]
     },
     "metadata": {
      "needs_background": "light"
     },
     "output_type": "display_data"
    }
   ],
   "source": [
    "# time series\n",
    "plt.figure(figsize=(10,8))\n",
    "df['Temp (°C)'].plot(color='y', alpha=0.5)\n",
    "plt.show()"
   ]
  },
  {
   "cell_type": "code",
   "execution_count": 17,
   "metadata": {},
   "outputs": [
    {
     "data": {
      "text/html": [
       "<div>\n",
       "<style scoped>\n",
       "    .dataframe tbody tr th:only-of-type {\n",
       "        vertical-align: middle;\n",
       "    }\n",
       "\n",
       "    .dataframe tbody tr th {\n",
       "        vertical-align: top;\n",
       "    }\n",
       "\n",
       "    .dataframe thead th {\n",
       "        text-align: right;\n",
       "    }\n",
       "</style>\n",
       "<table border=\"1\" class=\"dataframe\">\n",
       "  <thead>\n",
       "    <tr style=\"text-align: right;\">\n",
       "      <th></th>\n",
       "      <th>Longitude (x)</th>\n",
       "      <th>Latitude (y)</th>\n",
       "      <th>Station Name</th>\n",
       "      <th>Climate ID</th>\n",
       "      <th>Date/Time</th>\n",
       "      <th>Year</th>\n",
       "      <th>Month</th>\n",
       "      <th>Day</th>\n",
       "      <th>Time</th>\n",
       "      <th>Temp (°C)</th>\n",
       "      <th>...</th>\n",
       "      <th>Wind Spd Flag</th>\n",
       "      <th>Visibility (km)</th>\n",
       "      <th>Visibility Flag</th>\n",
       "      <th>Stn Press (kPa)</th>\n",
       "      <th>Stn Press Flag</th>\n",
       "      <th>Hmdx</th>\n",
       "      <th>Hmdx Flag</th>\n",
       "      <th>Wind Chill</th>\n",
       "      <th>Wind Chill Flag</th>\n",
       "      <th>Weather</th>\n",
       "    </tr>\n",
       "  </thead>\n",
       "  <tbody>\n",
       "    <tr>\n",
       "      <th>1877</th>\n",
       "      <td>-79.4</td>\n",
       "      <td>43.63</td>\n",
       "      <td>TORONTO CITY CENTRE</td>\n",
       "      <td>6158359</td>\n",
       "      <td>2019-03-20 05:00</td>\n",
       "      <td>2019</td>\n",
       "      <td>3</td>\n",
       "      <td>20</td>\n",
       "      <td>05:00</td>\n",
       "      <td>NaN</td>\n",
       "      <td>...</td>\n",
       "      <td>NaN</td>\n",
       "      <td>NaN</td>\n",
       "      <td>NaN</td>\n",
       "      <td>NaN</td>\n",
       "      <td>NaN</td>\n",
       "      <td>NaN</td>\n",
       "      <td>NaN</td>\n",
       "      <td>NaN</td>\n",
       "      <td>NaN</td>\n",
       "      <td>NaN</td>\n",
       "    </tr>\n",
       "    <tr>\n",
       "      <th>3393</th>\n",
       "      <td>-79.4</td>\n",
       "      <td>43.63</td>\n",
       "      <td>TORONTO CITY CENTRE</td>\n",
       "      <td>6158359</td>\n",
       "      <td>2019-05-22 09:00</td>\n",
       "      <td>2019</td>\n",
       "      <td>5</td>\n",
       "      <td>22</td>\n",
       "      <td>09:00</td>\n",
       "      <td>NaN</td>\n",
       "      <td>...</td>\n",
       "      <td>NaN</td>\n",
       "      <td>NaN</td>\n",
       "      <td>NaN</td>\n",
       "      <td>NaN</td>\n",
       "      <td>NaN</td>\n",
       "      <td>NaN</td>\n",
       "      <td>NaN</td>\n",
       "      <td>NaN</td>\n",
       "      <td>NaN</td>\n",
       "      <td>NaN</td>\n",
       "    </tr>\n",
       "    <tr>\n",
       "      <th>3394</th>\n",
       "      <td>-79.4</td>\n",
       "      <td>43.63</td>\n",
       "      <td>TORONTO CITY CENTRE</td>\n",
       "      <td>6158359</td>\n",
       "      <td>2019-05-22 10:00</td>\n",
       "      <td>2019</td>\n",
       "      <td>5</td>\n",
       "      <td>22</td>\n",
       "      <td>10:00</td>\n",
       "      <td>NaN</td>\n",
       "      <td>...</td>\n",
       "      <td>NaN</td>\n",
       "      <td>NaN</td>\n",
       "      <td>NaN</td>\n",
       "      <td>NaN</td>\n",
       "      <td>NaN</td>\n",
       "      <td>NaN</td>\n",
       "      <td>NaN</td>\n",
       "      <td>NaN</td>\n",
       "      <td>NaN</td>\n",
       "      <td>NaN</td>\n",
       "    </tr>\n",
       "    <tr>\n",
       "      <th>3395</th>\n",
       "      <td>-79.4</td>\n",
       "      <td>43.63</td>\n",
       "      <td>TORONTO CITY CENTRE</td>\n",
       "      <td>6158359</td>\n",
       "      <td>2019-05-22 11:00</td>\n",
       "      <td>2019</td>\n",
       "      <td>5</td>\n",
       "      <td>22</td>\n",
       "      <td>11:00</td>\n",
       "      <td>NaN</td>\n",
       "      <td>...</td>\n",
       "      <td>NaN</td>\n",
       "      <td>NaN</td>\n",
       "      <td>NaN</td>\n",
       "      <td>NaN</td>\n",
       "      <td>NaN</td>\n",
       "      <td>NaN</td>\n",
       "      <td>NaN</td>\n",
       "      <td>NaN</td>\n",
       "      <td>NaN</td>\n",
       "      <td>NaN</td>\n",
       "    </tr>\n",
       "    <tr>\n",
       "      <th>3396</th>\n",
       "      <td>-79.4</td>\n",
       "      <td>43.63</td>\n",
       "      <td>TORONTO CITY CENTRE</td>\n",
       "      <td>6158359</td>\n",
       "      <td>2019-05-22 12:00</td>\n",
       "      <td>2019</td>\n",
       "      <td>5</td>\n",
       "      <td>22</td>\n",
       "      <td>12:00</td>\n",
       "      <td>NaN</td>\n",
       "      <td>...</td>\n",
       "      <td>NaN</td>\n",
       "      <td>NaN</td>\n",
       "      <td>NaN</td>\n",
       "      <td>NaN</td>\n",
       "      <td>NaN</td>\n",
       "      <td>NaN</td>\n",
       "      <td>NaN</td>\n",
       "      <td>NaN</td>\n",
       "      <td>NaN</td>\n",
       "      <td>NaN</td>\n",
       "    </tr>\n",
       "  </tbody>\n",
       "</table>\n",
       "<p>5 rows × 28 columns</p>\n",
       "</div>"
      ],
      "text/plain": [
       "      Longitude (x)  Latitude (y)         Station Name  Climate ID  \\\n",
       "1877          -79.4         43.63  TORONTO CITY CENTRE     6158359   \n",
       "3393          -79.4         43.63  TORONTO CITY CENTRE     6158359   \n",
       "3394          -79.4         43.63  TORONTO CITY CENTRE     6158359   \n",
       "3395          -79.4         43.63  TORONTO CITY CENTRE     6158359   \n",
       "3396          -79.4         43.63  TORONTO CITY CENTRE     6158359   \n",
       "\n",
       "             Date/Time  Year  Month  Day   Time  Temp (°C)  ... Wind Spd Flag  \\\n",
       "1877  2019-03-20 05:00  2019      3   20  05:00        NaN  ...           NaN   \n",
       "3393  2019-05-22 09:00  2019      5   22  09:00        NaN  ...           NaN   \n",
       "3394  2019-05-22 10:00  2019      5   22  10:00        NaN  ...           NaN   \n",
       "3395  2019-05-22 11:00  2019      5   22  11:00        NaN  ...           NaN   \n",
       "3396  2019-05-22 12:00  2019      5   22  12:00        NaN  ...           NaN   \n",
       "\n",
       "      Visibility (km) Visibility Flag  Stn Press (kPa) Stn Press Flag  Hmdx  \\\n",
       "1877              NaN             NaN              NaN            NaN   NaN   \n",
       "3393              NaN             NaN              NaN            NaN   NaN   \n",
       "3394              NaN             NaN              NaN            NaN   NaN   \n",
       "3395              NaN             NaN              NaN            NaN   NaN   \n",
       "3396              NaN             NaN              NaN            NaN   NaN   \n",
       "\n",
       "     Hmdx Flag  Wind Chill Wind Chill Flag  Weather  \n",
       "1877       NaN         NaN             NaN      NaN  \n",
       "3393       NaN         NaN             NaN      NaN  \n",
       "3394       NaN         NaN             NaN      NaN  \n",
       "3395       NaN         NaN             NaN      NaN  \n",
       "3396       NaN         NaN             NaN      NaN  \n",
       "\n",
       "[5 rows x 28 columns]"
      ]
     },
     "execution_count": 17,
     "metadata": {},
     "output_type": "execute_result"
    }
   ],
   "source": [
    "# null Temp\n",
    "df[df['Temp (°C)'].isnull()].head()"
   ]
  },
  {
   "cell_type": "code",
   "execution_count": 18,
   "metadata": {},
   "outputs": [
    {
     "data": {
      "image/png": "[encoded data removed]",
      "text/plain": [
       "<Figure size 720x576 with 1 Axes>"
      ]
     },
     "metadata": {
      "needs_background": "light"
     },
     "output_type": "display_data"
    }
   ],
   "source": [
    "# consecutive NaN\n",
    "consecutive = df['Temp (°C)'].isnull().astype(int).groupby(df['Temp (°C)'].notnull().astype(int).cumsum()).cumsum()\n",
    "consecutive.drop(df[consecutive < 2].index, inplace=True)\n",
    "plt.figure(figsize=(10,8))\n",
    "consecutive.plot.hist(color='c', alpha=0.5)\n",
    "plt.show()"
   ]
  },
  {
   "cell_type": "code",
   "execution_count": 19,
   "metadata": {},
   "outputs": [
    {
     "name": "stdout",
     "output_type": "stream",
     "text": [
      "Max:  4.5\n",
      "Min:  -9.9\n",
      "Avg: -0.5793183131138077\n"
     ]
    }
   ],
   "source": [
    "# difference\n",
    "max_diff = np.max(df['Temp (°C)'] - df_city['Temp (°C)'])\n",
    "print('Max: ', max_diff)\n",
    "min_diff = np.min(df['Temp (°C)'] - df_city['Temp (°C)'])\n",
    "print('Min: ', min_diff)\n",
    "avg_diff = np.mean(df['Temp (°C)'] - df_city['Temp (°C)'])\n",
    "print('Avg:', avg_diff)"
   ]
  },
  {
   "cell_type": "code",
   "execution_count": 20,
   "metadata": {},
   "outputs": [],
   "source": [
    "# fill null\n",
    "df['Temp (°C)'] = df['Temp (°C)'].bfill(inplace=False, limit=4)\n",
    "for i in df[df['Temp (°C)'].isnull()].index:\n",
    "    df.loc[i, 'Temp (°C)'] = df_city.loc[i, 'Temp (°C)'] + avg_diff\n",
    "df.drop(columns=['Temp Flag'], inplace=True)"
   ]
  },
  {
   "cell_type": "code",
   "execution_count": 21,
   "metadata": {},
   "outputs": [
    {
     "data": {
      "text/html": [
       "<div>\n",
       "<style scoped>\n",
       "    .dataframe tbody tr th:only-of-type {\n",
       "        vertical-align: middle;\n",
       "    }\n",
       "\n",
       "    .dataframe tbody tr th {\n",
       "        vertical-align: top;\n",
       "    }\n",
       "\n",
       "    .dataframe thead th {\n",
       "        text-align: right;\n",
       "    }\n",
       "</style>\n",
       "<table border=\"1\" class=\"dataframe\">\n",
       "  <thead>\n",
       "    <tr style=\"text-align: right;\">\n",
       "      <th></th>\n",
       "      <th>Longitude (x)</th>\n",
       "      <th>Latitude (y)</th>\n",
       "      <th>Station Name</th>\n",
       "      <th>Climate ID</th>\n",
       "      <th>Date/Time</th>\n",
       "      <th>Year</th>\n",
       "      <th>Month</th>\n",
       "      <th>Day</th>\n",
       "      <th>Time</th>\n",
       "      <th>Temp (°C)</th>\n",
       "      <th>...</th>\n",
       "      <th>Wind Spd Flag</th>\n",
       "      <th>Visibility (km)</th>\n",
       "      <th>Visibility Flag</th>\n",
       "      <th>Stn Press (kPa)</th>\n",
       "      <th>Stn Press Flag</th>\n",
       "      <th>Hmdx</th>\n",
       "      <th>Hmdx Flag</th>\n",
       "      <th>Wind Chill</th>\n",
       "      <th>Wind Chill Flag</th>\n",
       "      <th>Weather</th>\n",
       "    </tr>\n",
       "  </thead>\n",
       "  <tbody>\n",
       "  </tbody>\n",
       "</table>\n",
       "<p>0 rows × 27 columns</p>\n",
       "</div>"
      ],
      "text/plain": [
       "Empty DataFrame\n",
       "Columns: [Longitude (x), Latitude (y), Station Name, Climate ID, Date/Time, Year, Month, Day, Time, Temp (°C), Dew Point Temp (°C), Dew Point Temp Flag, Rel Hum (%), Rel Hum Flag, Wind Dir (10s deg), Wind Dir Flag, Wind Spd (km/h), Wind Spd Flag, Visibility (km), Visibility Flag, Stn Press (kPa), Stn Press Flag, Hmdx, Hmdx Flag, Wind Chill, Wind Chill Flag, Weather]\n",
       "Index: []\n",
       "\n",
       "[0 rows x 27 columns]"
      ]
     },
     "execution_count": 21,
     "metadata": {},
     "output_type": "execute_result"
    }
   ],
   "source": [
    "df[df['Temp (°C)'].isnull()]"
   ]
  },
  {
   "cell_type": "markdown",
   "metadata": {},
   "source": [
    "###  Dew Point Tempature"
   ]
  },
  {
   "cell_type": "code",
   "execution_count": 22,
   "metadata": {},
   "outputs": [
    {
     "data": {
      "image/png": "[encoded data removed]",
      "text/plain": [
       "<Figure size 720x576 with 1 Axes>"
      ]
     },
     "metadata": {
      "needs_background": "light"
     },
     "output_type": "display_data"
    }
   ],
   "source": [
    "# frequency\n",
    "plt.figure(figsize=(10,8))\n",
    "df['Dew Point Temp (°C)'].plot.hist(color='g', alpha=0.5, bins=50)\n",
    "plt.show()"
   ]
  },
  {
   "cell_type": "code",
   "execution_count": 23,
   "metadata": {},
   "outputs": [
    {
     "data": {
      "image/png": "[encoded data removed]",
      "text/plain": [
       "<Figure size 720x576 with 1 Axes>"
      ]
     },
     "metadata": {
      "needs_background": "light"
     },
     "output_type": "display_data"
    }
   ],
   "source": [
    "# time series\n",
    "plt.figure(figsize=(10,8))\n",
    "df['Dew Point Temp (°C)'].plot(color='y', alpha=0.5)\n",
    "plt.show()"
   ]
  },
  {
   "cell_type": "code",
   "execution_count": 24,
   "metadata": {},
   "outputs": [
    {
     "name": "stdout",
     "output_type": "stream",
     "text": [
      "Max:  12.7\n",
      "Min:  -4.600000000000001\n",
      "Avg: 1.5729110981987184\n"
     ]
    }
   ],
   "source": [
    "# difference\n",
    "max_diff = np.max(df['Dew Point Temp (°C)'] - df_city['Dew Point Temp (°C)'])\n",
    "print('Max: ', max_diff)\n",
    "min_diff = np.min(df['Dew Point Temp (°C)'] - df_city['Dew Point Temp (°C)'])\n",
    "print('Min: ', min_diff)\n",
    "avg_diff = np.mean(df['Dew Point Temp (°C)'] - df_city['Dew Point Temp (°C)'])\n",
    "print('Avg:', avg_diff)"
   ]
  },
  {
   "cell_type": "code",
   "execution_count": 25,
   "metadata": {},
   "outputs": [],
   "source": [
    "# fill null\n",
    "for i in df[df['Dew Point Temp (°C)'].isnull()].index:\n",
    "    df.loc[i, 'Dew Point Temp (°C)'] = df_city.loc[i, 'Dew Point Temp (°C)'] + avg_diff\n",
    "df.drop(columns=['Dew Point Temp Flag'], inplace=True)"
   ]
  },
  {
   "cell_type": "code",
   "execution_count": 26,
   "metadata": {},
   "outputs": [
    {
     "data": {
      "text/html": [
       "<div>\n",
       "<style scoped>\n",
       "    .dataframe tbody tr th:only-of-type {\n",
       "        vertical-align: middle;\n",
       "    }\n",
       "\n",
       "    .dataframe tbody tr th {\n",
       "        vertical-align: top;\n",
       "    }\n",
       "\n",
       "    .dataframe thead th {\n",
       "        text-align: right;\n",
       "    }\n",
       "</style>\n",
       "<table border=\"1\" class=\"dataframe\">\n",
       "  <thead>\n",
       "    <tr style=\"text-align: right;\">\n",
       "      <th></th>\n",
       "      <th>Longitude (x)</th>\n",
       "      <th>Latitude (y)</th>\n",
       "      <th>Station Name</th>\n",
       "      <th>Climate ID</th>\n",
       "      <th>Date/Time</th>\n",
       "      <th>Year</th>\n",
       "      <th>Month</th>\n",
       "      <th>Day</th>\n",
       "      <th>Time</th>\n",
       "      <th>Temp (°C)</th>\n",
       "      <th>...</th>\n",
       "      <th>Wind Spd Flag</th>\n",
       "      <th>Visibility (km)</th>\n",
       "      <th>Visibility Flag</th>\n",
       "      <th>Stn Press (kPa)</th>\n",
       "      <th>Stn Press Flag</th>\n",
       "      <th>Hmdx</th>\n",
       "      <th>Hmdx Flag</th>\n",
       "      <th>Wind Chill</th>\n",
       "      <th>Wind Chill Flag</th>\n",
       "      <th>Weather</th>\n",
       "    </tr>\n",
       "  </thead>\n",
       "  <tbody>\n",
       "  </tbody>\n",
       "</table>\n",
       "<p>0 rows × 26 columns</p>\n",
       "</div>"
      ],
      "text/plain": [
       "Empty DataFrame\n",
       "Columns: [Longitude (x), Latitude (y), Station Name, Climate ID, Date/Time, Year, Month, Day, Time, Temp (°C), Dew Point Temp (°C), Rel Hum (%), Rel Hum Flag, Wind Dir (10s deg), Wind Dir Flag, Wind Spd (km/h), Wind Spd Flag, Visibility (km), Visibility Flag, Stn Press (kPa), Stn Press Flag, Hmdx, Hmdx Flag, Wind Chill, Wind Chill Flag, Weather]\n",
       "Index: []\n",
       "\n",
       "[0 rows x 26 columns]"
      ]
     },
     "execution_count": 26,
     "metadata": {},
     "output_type": "execute_result"
    }
   ],
   "source": [
    "df[df['Dew Point Temp (°C)'].isnull()]"
   ]
  },
  {
   "cell_type": "markdown",
   "metadata": {},
   "source": [
    "### Relative Humidity"
   ]
  },
  {
   "cell_type": "code",
   "execution_count": 27,
   "metadata": {},
   "outputs": [
    {
     "data": {
      "image/png": "[encoded data removed]",
      "text/plain": [
       "<Figure size 720x576 with 1 Axes>"
      ]
     },
     "metadata": {
      "needs_background": "light"
     },
     "output_type": "display_data"
    }
   ],
   "source": [
    "# frequency\n",
    "plt.figure(figsize=(10,8))\n",
    "df['Rel Hum (%)'].plot.hist(color='g', alpha=0.5, bins=20)\n",
    "plt.show()"
   ]
  },
  {
   "cell_type": "code",
   "execution_count": 28,
   "metadata": {},
   "outputs": [
    {
     "data": {
      "image/png": "[encoded data removed]",
      "text/plain": [
       "<Figure size 720x576 with 1 Axes>"
      ]
     },
     "metadata": {
      "needs_background": "light"
     },
     "output_type": "display_data"
    }
   ],
   "source": [
    "# time series\n",
    "plt.figure(figsize=(10,8))\n",
    "df['Rel Hum (%)'].plot(color='y', alpha=0.5)\n",
    "plt.show()"
   ]
  },
  {
   "cell_type": "code",
   "execution_count": 29,
   "metadata": {},
   "outputs": [
    {
     "data": {
      "image/png": "[encoded data removed]",
      "text/plain": [
       "<Figure size 720x576 with 1 Axes>"
      ]
     },
     "metadata": {
      "needs_background": "light"
     },
     "output_type": "display_data"
    }
   ],
   "source": [
    "# consecutive NaN\n",
    "consecutive = df['Rel Hum (%)'].isnull().astype(int).groupby(df['Rel Hum (%)'].notnull().astype(int).cumsum()).cumsum()\n",
    "consecutive.drop(df[consecutive < 2].index, inplace=True)\n",
    "plt.figure(figsize=(10,8))\n",
    "consecutive.plot.hist(color='c', alpha=0.5)\n",
    "plt.show()"
   ]
  },
  {
   "cell_type": "code",
   "execution_count": 30,
   "metadata": {},
   "outputs": [
    {
     "name": "stdout",
     "output_type": "stream",
     "text": [
      "Max:  53.0\n",
      "Min:  -25.0\n",
      "Avg: 9.307030796048808\n"
     ]
    }
   ],
   "source": [
    "# difference\n",
    "max_diff = np.max(df['Rel Hum (%)'] - df_city['Rel Hum (%)'])\n",
    "print('Max: ', max_diff)\n",
    "min_diff = np.min(df['Rel Hum (%)'] - df_city['Rel Hum (%)'])\n",
    "print('Min: ', min_diff)\n",
    "avg_diff = np.mean(df['Rel Hum (%)'] - df_city['Rel Hum (%)'])\n",
    "print('Avg:', avg_diff)"
   ]
  },
  {
   "cell_type": "code",
   "execution_count": 31,
   "metadata": {},
   "outputs": [],
   "source": [
    "# fill null\n",
    "df['Rel Hum (%)'] = df['Rel Hum (%)'].bfill(inplace=False)\n",
    "df.drop(columns=['Rel Hum Flag'], inplace=True)"
   ]
  },
  {
   "cell_type": "code",
   "execution_count": 32,
   "metadata": {},
   "outputs": [
    {
     "data": {
      "text/html": [
       "<div>\n",
       "<style scoped>\n",
       "    .dataframe tbody tr th:only-of-type {\n",
       "        vertical-align: middle;\n",
       "    }\n",
       "\n",
       "    .dataframe tbody tr th {\n",
       "        vertical-align: top;\n",
       "    }\n",
       "\n",
       "    .dataframe thead th {\n",
       "        text-align: right;\n",
       "    }\n",
       "</style>\n",
       "<table border=\"1\" class=\"dataframe\">\n",
       "  <thead>\n",
       "    <tr style=\"text-align: right;\">\n",
       "      <th></th>\n",
       "      <th>Longitude (x)</th>\n",
       "      <th>Latitude (y)</th>\n",
       "      <th>Station Name</th>\n",
       "      <th>Climate ID</th>\n",
       "      <th>Date/Time</th>\n",
       "      <th>Year</th>\n",
       "      <th>Month</th>\n",
       "      <th>Day</th>\n",
       "      <th>Time</th>\n",
       "      <th>Temp (°C)</th>\n",
       "      <th>...</th>\n",
       "      <th>Wind Spd Flag</th>\n",
       "      <th>Visibility (km)</th>\n",
       "      <th>Visibility Flag</th>\n",
       "      <th>Stn Press (kPa)</th>\n",
       "      <th>Stn Press Flag</th>\n",
       "      <th>Hmdx</th>\n",
       "      <th>Hmdx Flag</th>\n",
       "      <th>Wind Chill</th>\n",
       "      <th>Wind Chill Flag</th>\n",
       "      <th>Weather</th>\n",
       "    </tr>\n",
       "  </thead>\n",
       "  <tbody>\n",
       "  </tbody>\n",
       "</table>\n",
       "<p>0 rows × 25 columns</p>\n",
       "</div>"
      ],
      "text/plain": [
       "Empty DataFrame\n",
       "Columns: [Longitude (x), Latitude (y), Station Name, Climate ID, Date/Time, Year, Month, Day, Time, Temp (°C), Dew Point Temp (°C), Rel Hum (%), Wind Dir (10s deg), Wind Dir Flag, Wind Spd (km/h), Wind Spd Flag, Visibility (km), Visibility Flag, Stn Press (kPa), Stn Press Flag, Hmdx, Hmdx Flag, Wind Chill, Wind Chill Flag, Weather]\n",
       "Index: []\n",
       "\n",
       "[0 rows x 25 columns]"
      ]
     },
     "execution_count": 32,
     "metadata": {},
     "output_type": "execute_result"
    }
   ],
   "source": [
    "df[df['Rel Hum (%)'].isnull()]"
   ]
  },
  {
   "cell_type": "markdown",
   "metadata": {},
   "source": [
    "###  Wind Direction"
   ]
  },
  {
   "cell_type": "code",
   "execution_count": 33,
   "metadata": {},
   "outputs": [],
   "source": [
    "# drop\n",
    "df.drop(columns=['Wind Dir (10s deg)'], inplace=True)\n",
    "df.drop(columns=['Wind Dir Flag'], inplace=True)"
   ]
  },
  {
   "cell_type": "markdown",
   "metadata": {},
   "source": [
    "### Wind Speed"
   ]
  },
  {
   "cell_type": "code",
   "execution_count": 34,
   "metadata": {},
   "outputs": [
    {
     "data": {
      "image/png": "[encoded data removed]",
      "text/plain": [
       "<Figure size 720x576 with 1 Axes>"
      ]
     },
     "metadata": {
      "needs_background": "light"
     },
     "output_type": "display_data"
    }
   ],
   "source": [
    "# frequency\n",
    "plt.figure(figsize=(10,8))\n",
    "df['Wind Spd (km/h)'].plot.hist(color='g', alpha=0.5, bins=20)\n",
    "plt.show()"
   ]
  },
  {
   "cell_type": "code",
   "execution_count": 35,
   "metadata": {},
   "outputs": [
    {
     "data": {
      "image/png": "[encoded data removed]",
      "text/plain": [
       "<Figure size 720x576 with 1 Axes>"
      ]
     },
     "metadata": {
      "needs_background": "light"
     },
     "output_type": "display_data"
    }
   ],
   "source": [
    "# time series\n",
    "plt.figure(figsize=(10,8))\n",
    "df['Wind Spd (km/h)'].plot(color='y', alpha=0.5)\n",
    "plt.show()"
   ]
  },
  {
   "cell_type": "code",
   "execution_count": 36,
   "metadata": {},
   "outputs": [
    {
     "name": "stdout",
     "output_type": "stream",
     "text": [
      "Max:  1.3400000000000034\n",
      "Min:  1.0100000000000051\n",
      "Avg: 1.1738847841145046\n"
     ]
    }
   ],
   "source": [
    "# difference\n",
    "max_diff = np.max(df['Stn Press (kPa)'] - df_intl['Stn Press (kPa)'])\n",
    "print('Max: ', max_diff)\n",
    "min_diff = np.min(df['Stn Press (kPa)'] - df_intl['Stn Press (kPa)'])\n",
    "print('Min: ', min_diff)\n",
    "avg_diff = np.mean(df['Stn Press (kPa)'] - df_intl['Stn Press (kPa)'])\n",
    "print('Avg:', avg_diff)"
   ]
  },
  {
   "cell_type": "code",
   "execution_count": 37,
   "metadata": {},
   "outputs": [],
   "source": [
    "# fill null\n",
    "# fill null\n",
    "for i in df[df['Wind Spd (km/h)'].isnull()].index:\n",
    "    df.loc[i, 'Wind Spd (km/h)'] = df_city.loc[i, 'Stn Press (kPa)'] + avg_diff\n",
    "df.drop(columns=['Wind Spd Flag'], inplace=True)"
   ]
  },
  {
   "cell_type": "code",
   "execution_count": 38,
   "metadata": {},
   "outputs": [
    {
     "data": {
      "text/html": [
       "<div>\n",
       "<style scoped>\n",
       "    .dataframe tbody tr th:only-of-type {\n",
       "        vertical-align: middle;\n",
       "    }\n",
       "\n",
       "    .dataframe tbody tr th {\n",
       "        vertical-align: top;\n",
       "    }\n",
       "\n",
       "    .dataframe thead th {\n",
       "        text-align: right;\n",
       "    }\n",
       "</style>\n",
       "<table border=\"1\" class=\"dataframe\">\n",
       "  <thead>\n",
       "    <tr style=\"text-align: right;\">\n",
       "      <th></th>\n",
       "      <th>Longitude (x)</th>\n",
       "      <th>Latitude (y)</th>\n",
       "      <th>Station Name</th>\n",
       "      <th>Climate ID</th>\n",
       "      <th>Date/Time</th>\n",
       "      <th>Year</th>\n",
       "      <th>Month</th>\n",
       "      <th>Day</th>\n",
       "      <th>Time</th>\n",
       "      <th>Temp (°C)</th>\n",
       "      <th>...</th>\n",
       "      <th>Wind Spd (km/h)</th>\n",
       "      <th>Visibility (km)</th>\n",
       "      <th>Visibility Flag</th>\n",
       "      <th>Stn Press (kPa)</th>\n",
       "      <th>Stn Press Flag</th>\n",
       "      <th>Hmdx</th>\n",
       "      <th>Hmdx Flag</th>\n",
       "      <th>Wind Chill</th>\n",
       "      <th>Wind Chill Flag</th>\n",
       "      <th>Weather</th>\n",
       "    </tr>\n",
       "  </thead>\n",
       "  <tbody>\n",
       "  </tbody>\n",
       "</table>\n",
       "<p>0 rows × 22 columns</p>\n",
       "</div>"
      ],
      "text/plain": [
       "Empty DataFrame\n",
       "Columns: [Longitude (x), Latitude (y), Station Name, Climate ID, Date/Time, Year, Month, Day, Time, Temp (°C), Dew Point Temp (°C), Rel Hum (%), Wind Spd (km/h), Visibility (km), Visibility Flag, Stn Press (kPa), Stn Press Flag, Hmdx, Hmdx Flag, Wind Chill, Wind Chill Flag, Weather]\n",
       "Index: []\n",
       "\n",
       "[0 rows x 22 columns]"
      ]
     },
     "execution_count": 38,
     "metadata": {},
     "output_type": "execute_result"
    }
   ],
   "source": [
    "df[df['Wind Spd (km/h)'].isnull()]"
   ]
  },
  {
   "cell_type": "markdown",
   "metadata": {},
   "source": [
    "### Visibility (km)"
   ]
  },
  {
   "cell_type": "code",
   "execution_count": 39,
   "metadata": {},
   "outputs": [
    {
     "data": {
      "image/png": "[encoded data removed]",
      "text/plain": [
       "<Figure size 720x576 with 1 Axes>"
      ]
     },
     "metadata": {
      "needs_background": "light"
     },
     "output_type": "display_data"
    }
   ],
   "source": [
    "# frequency\n",
    "plt.figure(figsize=(10,8))\n",
    "df['Visibility (km)'].plot.hist(color='g', alpha=0.5, bins=16)\n",
    "plt.show()"
   ]
  },
  {
   "cell_type": "code",
   "execution_count": 40,
   "metadata": {},
   "outputs": [
    {
     "name": "stdout",
     "output_type": "stream",
     "text": [
      "Max:  15.500000000000002\n",
      "Min:  -64.4\n",
      "Avg: -6.855615340583825\n"
     ]
    }
   ],
   "source": [
    "# difference\n",
    "max_diff = np.max(df['Visibility (km)'] - df_intl['Visibility (km)'])\n",
    "print('Max: ', max_diff)\n",
    "min_diff = np.min(df['Visibility (km)'] - df_intl['Visibility (km)'])\n",
    "print('Min: ', min_diff)\n",
    "avg_diff = np.mean(df['Visibility (km)'] - df_intl['Visibility (km)'])\n",
    "print('Avg:', avg_diff)"
   ]
  },
  {
   "cell_type": "code",
   "execution_count": 41,
   "metadata": {},
   "outputs": [
    {
     "data": {
      "image/png": "[encoded data removed]",
      "text/plain": [
       "<Figure size 720x576 with 1 Axes>"
      ]
     },
     "metadata": {
      "needs_background": "light"
     },
     "output_type": "display_data"
    }
   ],
   "source": [
    "# frequency when weather is nan\n",
    "plt.figure(figsize=(10,8))\n",
    "df[df['Weather'].isnull()]['Visibility (km)'].plot.hist(color='g', alpha=0.5)\n",
    "plt.show()"
   ]
  },
  {
   "cell_type": "code",
   "execution_count": 42,
   "metadata": {},
   "outputs": [
    {
     "data": {
      "image/png": "[encoded data removed]",
      "text/plain": [
       "<Figure size 720x576 with 1 Axes>"
      ]
     },
     "metadata": {
      "needs_background": "light"
     },
     "output_type": "display_data"
    }
   ],
   "source": [
    "# consecutive NaN\n",
    "consecutive = df['Visibility (km)'].isnull().astype(int).groupby(df['Visibility (km)'].notnull().astype(int).cumsum()).cumsum()\n",
    "consecutive.drop(df[consecutive < 2].index, inplace=True)\n",
    "plt.figure(figsize=(10,8))\n",
    "consecutive.plot.hist(color='c', alpha=0.5)\n",
    "plt.show()"
   ]
  },
  {
   "cell_type": "code",
   "execution_count": 43,
   "metadata": {},
   "outputs": [
    {
     "data": {
      "image/png": "[encoded data removed]",
      "text/plain": [
       "<Figure size 720x576 with 1 Axes>"
      ]
     },
     "metadata": {
      "needs_background": "light"
     },
     "output_type": "display_data"
    }
   ],
   "source": [
    "# time series\n",
    "plt.figure(figsize=(10,8))\n",
    "df['Visibility (km)'].plot(color='y', alpha=0.5)\n",
    "plt.show()"
   ]
  },
  {
   "cell_type": "code",
   "execution_count": 44,
   "metadata": {},
   "outputs": [],
   "source": [
    "df['Visibility (km)'] = df['Visibility (km)'].bfill(inplace=False, limit=4)\n",
    "df.loc[df['Visibility (km)'].isnull(), 'Visibility (km)'] = 16.1"
   ]
  },
  {
   "cell_type": "code",
   "execution_count": 45,
   "metadata": {},
   "outputs": [],
   "source": [
    "# drop\n",
    "df.drop(columns=['Visibility Flag'], inplace=True)"
   ]
  },
  {
   "cell_type": "markdown",
   "metadata": {},
   "source": [
    "### Standard Press"
   ]
  },
  {
   "cell_type": "code",
   "execution_count": 46,
   "metadata": {},
   "outputs": [
    {
     "data": {
      "image/png": "[encoded data removed]",
      "text/plain": [
       "<Figure size 720x576 with 1 Axes>"
      ]
     },
     "metadata": {
      "needs_background": "light"
     },
     "output_type": "display_data"
    }
   ],
   "source": [
    "# frequency\n",
    "plt.figure(figsize=(10,8))\n",
    "df['Stn Press (kPa)'].plot.hist(color='g', alpha=0.5, bins=16)\n",
    "plt.show()"
   ]
  },
  {
   "cell_type": "code",
   "execution_count": 47,
   "metadata": {},
   "outputs": [
    {
     "data": {
      "image/png": "[encoded data removed]",
      "text/plain": [
       "<Figure size 720x576 with 1 Axes>"
      ]
     },
     "metadata": {
      "needs_background": "light"
     },
     "output_type": "display_data"
    }
   ],
   "source": [
    "# time series\n",
    "plt.figure(figsize=(10,8))\n",
    "df['Stn Press (kPa)'].plot(color='y', alpha=0.5)\n",
    "plt.show()"
   ]
  },
  {
   "cell_type": "code",
   "execution_count": 48,
   "metadata": {},
   "outputs": [
    {
     "name": "stdout",
     "output_type": "stream",
     "text": [
      "Max:  0.5799999999999983\n",
      "Min:  0.35999999999999943\n",
      "Avg: 0.4614989021148597\n"
     ]
    }
   ],
   "source": [
    "# difference\n",
    "max_diff = np.max(df['Stn Press (kPa)'] - df_city['Stn Press (kPa)'])\n",
    "print('Max: ', max_diff)\n",
    "min_diff = np.min(df['Stn Press (kPa)'] - df_city['Stn Press (kPa)'])\n",
    "print('Min: ', min_diff)\n",
    "avg_diff = np.mean(df['Stn Press (kPa)'] - df_city['Stn Press (kPa)'])\n",
    "print('Avg:', avg_diff)"
   ]
  },
  {
   "cell_type": "code",
   "execution_count": 49,
   "metadata": {},
   "outputs": [],
   "source": [
    "# fill null\n",
    "for i in df[df['Stn Press (kPa)'].isnull()].index:\n",
    "    df.loc[i, 'Stn Press (kPa)'] = df_city.loc[i, 'Stn Press (kPa)'] + avg_diff\n",
    "df.drop(columns=['Stn Press Flag'], inplace=True)"
   ]
  },
  {
   "cell_type": "code",
   "execution_count": 50,
   "metadata": {},
   "outputs": [
    {
     "data": {
      "text/html": [
       "<div>\n",
       "<style scoped>\n",
       "    .dataframe tbody tr th:only-of-type {\n",
       "        vertical-align: middle;\n",
       "    }\n",
       "\n",
       "    .dataframe tbody tr th {\n",
       "        vertical-align: top;\n",
       "    }\n",
       "\n",
       "    .dataframe thead th {\n",
       "        text-align: right;\n",
       "    }\n",
       "</style>\n",
       "<table border=\"1\" class=\"dataframe\">\n",
       "  <thead>\n",
       "    <tr style=\"text-align: right;\">\n",
       "      <th></th>\n",
       "      <th>Longitude (x)</th>\n",
       "      <th>Latitude (y)</th>\n",
       "      <th>Station Name</th>\n",
       "      <th>Climate ID</th>\n",
       "      <th>Date/Time</th>\n",
       "      <th>Year</th>\n",
       "      <th>Month</th>\n",
       "      <th>Day</th>\n",
       "      <th>Time</th>\n",
       "      <th>Temp (°C)</th>\n",
       "      <th>Dew Point Temp (°C)</th>\n",
       "      <th>Rel Hum (%)</th>\n",
       "      <th>Wind Spd (km/h)</th>\n",
       "      <th>Visibility (km)</th>\n",
       "      <th>Stn Press (kPa)</th>\n",
       "      <th>Hmdx</th>\n",
       "      <th>Hmdx Flag</th>\n",
       "      <th>Wind Chill</th>\n",
       "      <th>Wind Chill Flag</th>\n",
       "      <th>Weather</th>\n",
       "    </tr>\n",
       "  </thead>\n",
       "  <tbody>\n",
       "  </tbody>\n",
       "</table>\n",
       "</div>"
      ],
      "text/plain": [
       "Empty DataFrame\n",
       "Columns: [Longitude (x), Latitude (y), Station Name, Climate ID, Date/Time, Year, Month, Day, Time, Temp (°C), Dew Point Temp (°C), Rel Hum (%), Wind Spd (km/h), Visibility (km), Stn Press (kPa), Hmdx, Hmdx Flag, Wind Chill, Wind Chill Flag, Weather]\n",
       "Index: []"
      ]
     },
     "execution_count": 50,
     "metadata": {},
     "output_type": "execute_result"
    }
   ],
   "source": [
    "df[df['Stn Press (kPa)'].isnull()]"
   ]
  },
  {
   "cell_type": "markdown",
   "metadata": {},
   "source": [
    "### Humidex"
   ]
  },
  {
   "cell_type": "code",
   "execution_count": 51,
   "metadata": {},
   "outputs": [
    {
     "data": {
      "image/png": "[encoded data removed]",
      "text/plain": [
       "<Figure size 720x576 with 1 Axes>"
      ]
     },
     "metadata": {
      "needs_background": "light"
     },
     "output_type": "display_data"
    }
   ],
   "source": [
    "# frequency\n",
    "plt.figure(figsize=(10,8))\n",
    "df['Hmdx'].plot.hist(color='g', alpha=0.5, bins=16)\n",
    "plt.show()"
   ]
  },
  {
   "cell_type": "code",
   "execution_count": 52,
   "metadata": {},
   "outputs": [
    {
     "data": {
      "image/png": "[encoded data removed]",
      "text/plain": [
       "<Figure size 720x576 with 1 Axes>"
      ]
     },
     "metadata": {
      "needs_background": "light"
     },
     "output_type": "display_data"
    }
   ],
   "source": [
    "# time series\n",
    "plt.figure(figsize=(10,8))\n",
    "df['Hmdx'].plot(color='y', alpha=0.5)\n",
    "plt.show()"
   ]
  },
  {
   "cell_type": "code",
   "execution_count": 53,
   "metadata": {},
   "outputs": [],
   "source": [
    "# drop\n",
    "df.drop(columns=['Hmdx'], inplace=True)\n",
    "df.drop(columns=['Hmdx Flag'], inplace=True)"
   ]
  },
  {
   "cell_type": "markdown",
   "metadata": {},
   "source": [
    "### Wind Chill"
   ]
  },
  {
   "cell_type": "code",
   "execution_count": 54,
   "metadata": {},
   "outputs": [],
   "source": [
    "# drop\n",
    "df.drop(columns=['Wind Chill'], inplace=True)\n",
    "df.drop(columns=['Wind Chill Flag'], inplace=True)"
   ]
  },
  {
   "cell_type": "markdown",
   "metadata": {},
   "source": [
    "### Weather"
   ]
  },
  {
   "cell_type": "code",
   "execution_count": 55,
   "metadata": {},
   "outputs": [],
   "source": [
    "# compare\n",
    "df['Intl Weather'] = df_intl['Weather']\n",
    "df[df_intl['Weather'].notnull()].to_csv(DATA_DIR+'weather_compared.csv', index=False)\n",
    "df.drop(columns=['Intl Weather'], inplace=True)"
   ]
  },
  {
   "cell_type": "code",
   "execution_count": 56,
   "metadata": {},
   "outputs": [],
   "source": [
    "# get multiple dummies\n",
    "df['Weather'] = df['Weather'].apply(lambda x: x.split(',') if pd.notnull(x) else [])\n",
    "df_weather = pd.get_dummies(df['Weather'].apply(pd.Series).stack()).sum(level=0)\n",
    "df = df.join(df_weather)\n",
    "df.drop(columns=['Weather'], inplace=True)"
   ]
  },
  {
   "cell_type": "code",
   "execution_count": 57,
   "metadata": {},
   "outputs": [],
   "source": [
    "# fill nan\n",
    "df.fillna(0, inplace=True)"
   ]
  },
  {
   "cell_type": "code",
   "execution_count": 58,
   "metadata": {},
   "outputs": [
    {
     "name": "stdout",
     "output_type": "stream",
     "text": [
      "<class 'pandas.core.frame.DataFrame'>\n",
      "RangeIndex: 8760 entries, 0 to 8759\n",
      "Data columns (total 26 columns):\n",
      " #   Column               Non-Null Count  Dtype  \n",
      "---  ------               --------------  -----  \n",
      " 0   Longitude (x)        8760 non-null   float64\n",
      " 1   Latitude (y)         8760 non-null   float64\n",
      " 2   Station Name         8760 non-null   object \n",
      " 3   Climate ID           8760 non-null   int64  \n",
      " 4   Date/Time            8760 non-null   object \n",
      " 5   Year                 8760 non-null   int64  \n",
      " 6   Month                8760 non-null   int64  \n",
      " 7   Day                  8760 non-null   int64  \n",
      " 8   Time                 8760 non-null   object \n",
      " 9   Temp (°C)            8760 non-null   float64\n",
      " 10  Dew Point Temp (°C)  8760 non-null   float64\n",
      " 11  Rel Hum (%)          8760 non-null   float64\n",
      " 12  Wind Spd (km/h)      8760 non-null   float64\n",
      " 13  Visibility (km)      8760 non-null   float64\n",
      " 14  Stn Press (kPa)      8760 non-null   float64\n",
      " 15  Blowing Snow         8760 non-null   float64\n",
      " 16  Fog                  8760 non-null   float64\n",
      " 17  Freezing Rain        8760 non-null   float64\n",
      " 18  Haze                 8760 non-null   float64\n",
      " 19  Heavy Rain           8760 non-null   float64\n",
      " 20  Heavy Snow           8760 non-null   float64\n",
      " 21  Moderate Rain        8760 non-null   float64\n",
      " 22  Moderate Snow        8760 non-null   float64\n",
      " 23  Rain                 8760 non-null   float64\n",
      " 24  Snow                 8760 non-null   float64\n",
      " 25  Thunderstorms        8760 non-null   float64\n",
      "dtypes: float64(19), int64(4), object(3)\n",
      "memory usage: 1.7+ MB\n"
     ]
    }
   ],
   "source": [
    "df.info()"
   ]
  },
  {
   "cell_type": "code",
   "execution_count": 59,
   "metadata": {},
   "outputs": [
    {
     "data": {
      "image/png": "[encoded data removed]",
      "text/plain": [
       "<Figure size 1152x576 with 1 Axes>"
      ]
     },
     "metadata": {
      "needs_background": "light"
     },
     "output_type": "display_data"
    }
   ],
   "source": [
    "wtr_dic = {}\n",
    "x, y = [], []\n",
    "for i, w in enumerate(df.columns[15:]):\n",
    "    x.append(w)\n",
    "    y.append(df[w].sum())\n",
    "plt.figure(figsize=(16,8))\n",
    "plt.bar(x, y, color='m', alpha=0.5)\n",
    "plt.show()"
   ]
  },
  {
   "cell_type": "markdown",
   "metadata": {},
   "source": [
    "### Snow on Ground "
   ]
  },
  {
   "cell_type": "code",
   "execution_count": 60,
   "metadata": {},
   "outputs": [
    {
     "data": {
      "image/png": "[encoded data removed]",
      "text/plain": [
       "<Figure size 720x576 with 1 Axes>"
      ]
     },
     "metadata": {
      "needs_background": "light"
     },
     "output_type": "display_data"
    }
   ],
   "source": [
    "# frequency\n",
    "plt.figure(figsize=(10,8))\n",
    "df_daily['Snow on Grnd (cm)'].plot.hist(color='g', alpha=0.5, bins=16)\n",
    "plt.show()"
   ]
  },
  {
   "cell_type": "code",
   "execution_count": 61,
   "metadata": {},
   "outputs": [],
   "source": [
    "# fill nan\n",
    "df_daily['Snow on Grnd (cm)'].fillna(0, inplace=True)"
   ]
  },
  {
   "cell_type": "code",
   "execution_count": 62,
   "metadata": {},
   "outputs": [],
   "source": [
    "# merge Snow on Grnd\n",
    "df_daily = df_daily[['Month', 'Day', 'Snow on Grnd (cm)']]\n",
    "df = pd.merge(df, df_daily,  how='left', left_on=['Month', 'Day'], right_on=['Month', 'Day'])"
   ]
  },
  {
   "cell_type": "markdown",
   "metadata": {},
   "source": [
    "## Save to CSV "
   ]
  },
  {
   "cell_type": "code",
   "execution_count": 63,
   "metadata": {},
   "outputs": [
    {
     "data": {
      "text/html": [
       "<div>\n",
       "<style scoped>\n",
       "    .dataframe tbody tr th:only-of-type {\n",
       "        vertical-align: middle;\n",
       "    }\n",
       "\n",
       "    .dataframe tbody tr th {\n",
       "        vertical-align: top;\n",
       "    }\n",
       "\n",
       "    .dataframe thead th {\n",
       "        text-align: right;\n",
       "    }\n",
       "</style>\n",
       "<table border=\"1\" class=\"dataframe\">\n",
       "  <thead>\n",
       "    <tr style=\"text-align: right;\">\n",
       "      <th></th>\n",
       "      <th>Longitude (x)</th>\n",
       "      <th>Latitude (y)</th>\n",
       "      <th>Station Name</th>\n",
       "      <th>Climate ID</th>\n",
       "      <th>Date/Time</th>\n",
       "      <th>Year</th>\n",
       "      <th>Month</th>\n",
       "      <th>Day</th>\n",
       "      <th>Time</th>\n",
       "      <th>Temp (°C)</th>\n",
       "      <th>...</th>\n",
       "      <th>Freezing Rain</th>\n",
       "      <th>Haze</th>\n",
       "      <th>Heavy Rain</th>\n",
       "      <th>Heavy Snow</th>\n",
       "      <th>Moderate Rain</th>\n",
       "      <th>Moderate Snow</th>\n",
       "      <th>Rain</th>\n",
       "      <th>Snow</th>\n",
       "      <th>Thunderstorms</th>\n",
       "      <th>Snow on Grnd (cm)</th>\n",
       "    </tr>\n",
       "  </thead>\n",
       "  <tbody>\n",
       "    <tr>\n",
       "      <th>0</th>\n",
       "      <td>-79.4</td>\n",
       "      <td>43.63</td>\n",
       "      <td>TORONTO CITY CENTRE</td>\n",
       "      <td>6158359</td>\n",
       "      <td>2019-01-01 00:00</td>\n",
       "      <td>2019</td>\n",
       "      <td>1</td>\n",
       "      <td>1</td>\n",
       "      <td>00:00</td>\n",
       "      <td>4.3</td>\n",
       "      <td>...</td>\n",
       "      <td>0.0</td>\n",
       "      <td>0.0</td>\n",
       "      <td>0.0</td>\n",
       "      <td>0.0</td>\n",
       "      <td>0.0</td>\n",
       "      <td>0.0</td>\n",
       "      <td>1.0</td>\n",
       "      <td>0.0</td>\n",
       "      <td>0.0</td>\n",
       "      <td>0.0</td>\n",
       "    </tr>\n",
       "    <tr>\n",
       "      <th>1</th>\n",
       "      <td>-79.4</td>\n",
       "      <td>43.63</td>\n",
       "      <td>TORONTO CITY CENTRE</td>\n",
       "      <td>6158359</td>\n",
       "      <td>2019-01-01 01:00</td>\n",
       "      <td>2019</td>\n",
       "      <td>1</td>\n",
       "      <td>1</td>\n",
       "      <td>01:00</td>\n",
       "      <td>5.1</td>\n",
       "      <td>...</td>\n",
       "      <td>0.0</td>\n",
       "      <td>0.0</td>\n",
       "      <td>0.0</td>\n",
       "      <td>0.0</td>\n",
       "      <td>0.0</td>\n",
       "      <td>0.0</td>\n",
       "      <td>0.0</td>\n",
       "      <td>0.0</td>\n",
       "      <td>0.0</td>\n",
       "      <td>0.0</td>\n",
       "    </tr>\n",
       "    <tr>\n",
       "      <th>2</th>\n",
       "      <td>-79.4</td>\n",
       "      <td>43.63</td>\n",
       "      <td>TORONTO CITY CENTRE</td>\n",
       "      <td>6158359</td>\n",
       "      <td>2019-01-01 02:00</td>\n",
       "      <td>2019</td>\n",
       "      <td>1</td>\n",
       "      <td>1</td>\n",
       "      <td>02:00</td>\n",
       "      <td>5.9</td>\n",
       "      <td>...</td>\n",
       "      <td>0.0</td>\n",
       "      <td>0.0</td>\n",
       "      <td>0.0</td>\n",
       "      <td>0.0</td>\n",
       "      <td>0.0</td>\n",
       "      <td>0.0</td>\n",
       "      <td>1.0</td>\n",
       "      <td>0.0</td>\n",
       "      <td>0.0</td>\n",
       "      <td>0.0</td>\n",
       "    </tr>\n",
       "    <tr>\n",
       "      <th>3</th>\n",
       "      <td>-79.4</td>\n",
       "      <td>43.63</td>\n",
       "      <td>TORONTO CITY CENTRE</td>\n",
       "      <td>6158359</td>\n",
       "      <td>2019-01-01 03:00</td>\n",
       "      <td>2019</td>\n",
       "      <td>1</td>\n",
       "      <td>1</td>\n",
       "      <td>03:00</td>\n",
       "      <td>3.3</td>\n",
       "      <td>...</td>\n",
       "      <td>0.0</td>\n",
       "      <td>0.0</td>\n",
       "      <td>0.0</td>\n",
       "      <td>0.0</td>\n",
       "      <td>0.0</td>\n",
       "      <td>0.0</td>\n",
       "      <td>0.0</td>\n",
       "      <td>0.0</td>\n",
       "      <td>0.0</td>\n",
       "      <td>0.0</td>\n",
       "    </tr>\n",
       "    <tr>\n",
       "      <th>4</th>\n",
       "      <td>-79.4</td>\n",
       "      <td>43.63</td>\n",
       "      <td>TORONTO CITY CENTRE</td>\n",
       "      <td>6158359</td>\n",
       "      <td>2019-01-01 04:00</td>\n",
       "      <td>2019</td>\n",
       "      <td>1</td>\n",
       "      <td>1</td>\n",
       "      <td>04:00</td>\n",
       "      <td>2.8</td>\n",
       "      <td>...</td>\n",
       "      <td>0.0</td>\n",
       "      <td>0.0</td>\n",
       "      <td>0.0</td>\n",
       "      <td>0.0</td>\n",
       "      <td>0.0</td>\n",
       "      <td>0.0</td>\n",
       "      <td>0.0</td>\n",
       "      <td>0.0</td>\n",
       "      <td>0.0</td>\n",
       "      <td>0.0</td>\n",
       "    </tr>\n",
       "  </tbody>\n",
       "</table>\n",
       "<p>5 rows × 27 columns</p>\n",
       "</div>"
      ],
      "text/plain": [
       "   Longitude (x)  Latitude (y)         Station Name  Climate ID  \\\n",
       "0          -79.4         43.63  TORONTO CITY CENTRE     6158359   \n",
       "1          -79.4         43.63  TORONTO CITY CENTRE     6158359   \n",
       "2          -79.4         43.63  TORONTO CITY CENTRE     6158359   \n",
       "3          -79.4         43.63  TORONTO CITY CENTRE     6158359   \n",
       "4          -79.4         43.63  TORONTO CITY CENTRE     6158359   \n",
       "\n",
       "          Date/Time  Year  Month  Day   Time  Temp (°C)  ...  Freezing Rain  \\\n",
       "0  2019-01-01 00:00  2019      1    1  00:00        4.3  ...            0.0   \n",
       "1  2019-01-01 01:00  2019      1    1  01:00        5.1  ...            0.0   \n",
       "2  2019-01-01 02:00  2019      1    1  02:00        5.9  ...            0.0   \n",
       "3  2019-01-01 03:00  2019      1    1  03:00        3.3  ...            0.0   \n",
       "4  2019-01-01 04:00  2019      1    1  04:00        2.8  ...            0.0   \n",
       "\n",
       "   Haze  Heavy Rain  Heavy Snow  Moderate Rain  Moderate Snow  Rain  Snow  \\\n",
       "0   0.0         0.0         0.0            0.0            0.0   1.0   0.0   \n",
       "1   0.0         0.0         0.0            0.0            0.0   0.0   0.0   \n",
       "2   0.0         0.0         0.0            0.0            0.0   1.0   0.0   \n",
       "3   0.0         0.0         0.0            0.0            0.0   0.0   0.0   \n",
       "4   0.0         0.0         0.0            0.0            0.0   0.0   0.0   \n",
       "\n",
       "   Thunderstorms  Snow on Grnd (cm)  \n",
       "0            0.0                0.0  \n",
       "1            0.0                0.0  \n",
       "2            0.0                0.0  \n",
       "3            0.0                0.0  \n",
       "4            0.0                0.0  \n",
       "\n",
       "[5 rows x 27 columns]"
      ]
     },
     "execution_count": 63,
     "metadata": {},
     "output_type": "execute_result"
    }
   ],
   "source": [
    "df.head()"
   ]
  },
  {
   "cell_type": "code",
   "execution_count": 64,
   "metadata": {},
   "outputs": [
    {
     "name": "stdout",
     "output_type": "stream",
     "text": [
      "<class 'pandas.core.frame.DataFrame'>\n",
      "Int64Index: 8760 entries, 0 to 8759\n",
      "Data columns (total 27 columns):\n",
      " #   Column               Non-Null Count  Dtype  \n",
      "---  ------               --------------  -----  \n",
      " 0   Longitude (x)        8760 non-null   float64\n",
      " 1   Latitude (y)         8760 non-null   float64\n",
      " 2   Station Name         8760 non-null   object \n",
      " 3   Climate ID           8760 non-null   int64  \n",
      " 4   Date/Time            8760 non-null   object \n",
      " 5   Year                 8760 non-null   int64  \n",
      " 6   Month                8760 non-null   int64  \n",
      " 7   Day                  8760 non-null   int64  \n",
      " 8   Time                 8760 non-null   object \n",
      " 9   Temp (°C)            8760 non-null   float64\n",
      " 10  Dew Point Temp (°C)  8760 non-null   float64\n",
      " 11  Rel Hum (%)          8760 non-null   float64\n",
      " 12  Wind Spd (km/h)      8760 non-null   float64\n",
      " 13  Visibility (km)      8760 non-null   float64\n",
      " 14  Stn Press (kPa)      8760 non-null   float64\n",
      " 15  Blowing Snow         8760 non-null   float64\n",
      " 16  Fog                  8760 non-null   float64\n",
      " 17  Freezing Rain        8760 non-null   float64\n",
      " 18  Haze                 8760 non-null   float64\n",
      " 19  Heavy Rain           8760 non-null   float64\n",
      " 20  Heavy Snow           8760 non-null   float64\n",
      " 21  Moderate Rain        8760 non-null   float64\n",
      " 22  Moderate Snow        8760 non-null   float64\n",
      " 23  Rain                 8760 non-null   float64\n",
      " 24  Snow                 8760 non-null   float64\n",
      " 25  Thunderstorms        8760 non-null   float64\n",
      " 26  Snow on Grnd (cm)    8760 non-null   float64\n",
      "dtypes: float64(20), int64(4), object(3)\n",
      "memory usage: 1.9+ MB\n"
     ]
    }
   ],
   "source": [
    "df.info()"
   ]
  },
  {
   "cell_type": "code",
   "execution_count": 65,
   "metadata": {},
   "outputs": [],
   "source": [
    "df.drop(columns=['Longitude (x)', 'Latitude (y)', 'Station Name'], inplace=True)\n",
    "df.to_csv(DATA_DIR+'climate.csv', index=False)"
   ]
  },
  {
   "cell_type": "code",
   "execution_count": null,
   "metadata": {},
   "outputs": [],
   "source": []
  }
 ],
 "metadata": {
  "kernelspec": {
   "display_name": "Python 3",
   "language": "python",
   "name": "python3"
  },
  "language_info": {
   "codemirror_mode": {
    "name": "ipython",
    "version": 3
   },
   "file_extension": ".py",
   "mimetype": "text/x-python",
   "name": "python",
   "nbconvert_exporter": "python",
   "pygments_lexer": "ipython3",
   "version": "3.7.8"
  }
 },
 "nbformat": 4,
 "nbformat_minor": 4
}
