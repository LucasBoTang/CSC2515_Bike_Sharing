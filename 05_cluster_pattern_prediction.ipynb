{
 "cells": [
  {
   "cell_type": "code",
   "execution_count": 1,
   "metadata": {},
   "outputs": [],
   "source": [
    "import pandas as pd\n",
    "from sklearn.utils import shuffle\n",
    "from sklearn.model_selection import train_test_split, GridSearchCV\n",
    "from sklearn.preprocessing import StandardScaler\n",
    "from sklearn.pipeline import Pipeline\n",
    "from sklearn.metrics import mean_squared_error"
   ]
  },
  {
   "cell_type": "markdown",
   "metadata": {},
   "source": [
    "## Data Processing"
   ]
  },
  {
   "cell_type": "code",
   "execution_count": 2,
   "metadata": {},
   "outputs": [],
   "source": [
    "df = pd.read_csv('./trips_BGMM.csv')"
   ]
  },
  {
   "cell_type": "code",
   "execution_count": 3,
   "metadata": {},
   "outputs": [
    {
     "name": "stdout",
     "output_type": "stream",
     "text": [
      "<class 'pandas.core.frame.DataFrame'>\n",
      "RangeIndex: 262800 entries, 0 to 262799\n",
      "Data columns (total 27 columns):\n",
      " #   Column               Non-Null Count   Dtype  \n",
      "---  ------               --------------   -----  \n",
      " 0   Cluster              262800 non-null  int64  \n",
      " 1   Year                 262800 non-null  int64  \n",
      " 2   Month                262800 non-null  int64  \n",
      " 3   Day                  262800 non-null  int64  \n",
      " 4   Time                 262800 non-null  object \n",
      " 5   Weekend              262800 non-null  int64  \n",
      " 6   Holiday              262800 non-null  int64  \n",
      " 7   Checkin per Hour     262800 non-null  float64\n",
      " 8   Checkout per Hour    262800 non-null  float64\n",
      " 9   Temp (°C)            262800 non-null  float64\n",
      " 10  Dew Point Temp (°C)  262800 non-null  float64\n",
      " 11  Rel Hum (%)          262800 non-null  float64\n",
      " 12  Wind Spd (km/h)      262800 non-null  float64\n",
      " 13  Visibility (km)      262800 non-null  float64\n",
      " 14  Stn Press (kPa)      262800 non-null  float64\n",
      " 15  Blowing Snow         262800 non-null  float64\n",
      " 16  Fog                  262800 non-null  float64\n",
      " 17  Freezing Rain        262800 non-null  float64\n",
      " 18  Haze                 262800 non-null  float64\n",
      " 19  Heavy Rain           262800 non-null  float64\n",
      " 20  Heavy Snow           262800 non-null  float64\n",
      " 21  Moderate Rain        262800 non-null  float64\n",
      " 22  Moderate Snow        262800 non-null  float64\n",
      " 23  Rain                 262800 non-null  float64\n",
      " 24  Snow                 262800 non-null  float64\n",
      " 25  Thunderstorms        262800 non-null  float64\n",
      " 26  Snow on Grnd (cm)    262800 non-null  float64\n",
      "dtypes: float64(20), int64(6), object(1)\n",
      "memory usage: 54.1+ MB\n"
     ]
    }
   ],
   "source": [
    "df.info()"
   ]
  },
  {
   "cell_type": "code",
   "execution_count": 4,
   "metadata": {},
   "outputs": [],
   "source": [
    "# get df per cluster\n",
    "res = pd.DataFrame(columns=['Cluster'])\n",
    "dfs = {}\n",
    "for c in range(df['Cluster'].max()+1):\n",
    "    # cluster c\n",
    "    res.loc[c, 'Cluster'] = c\n",
    "    df_cur = df[df['Cluster'] == c].drop(columns=['Cluster', 'Year', 'Month', 'Day'])\n",
    "    # get dummies for time\n",
    "    dummies = pd.get_dummies(df_cur['Time'], prefix='Time')\n",
    "    df_cur.drop(columns=['Time'], inplace=True)\n",
    "    df_cur = pd.concat([df_cur, dummies], axis=1)\n",
    "    dfs[c] = df_cur"
   ]
  },
  {
   "cell_type": "markdown",
   "metadata": {},
   "source": [
    "## Ridge Regression "
   ]
  },
  {
   "cell_type": "code",
   "execution_count": 5,
   "metadata": {},
   "outputs": [],
   "source": [
    "from sklearn.linear_model import Ridge"
   ]
  },
  {
   "cell_type": "code",
   "execution_count": 6,
   "metadata": {},
   "outputs": [],
   "source": [
    "# set pipeline\n",
    "pipeline = Pipeline([('scaler', StandardScaler()),\n",
    "                     ('ridge', Ridge())])"
   ]
  },
  {
   "cell_type": "code",
   "execution_count": 7,
   "metadata": {},
   "outputs": [],
   "source": [
    "# set grid search\n",
    "params = {'ridge__alpha': [0, 1, 5, 10, 50, 100, 500, 1000]}\n",
    "ridge_search = GridSearchCV(pipeline, params, cv=3, verbose=2, n_jobs=-1)"
   ]
  },
  {
   "cell_type": "code",
   "execution_count": 8,
   "metadata": {
    "scrolled": false
   },
   "outputs": [
    {
     "name": "stdout",
     "output_type": "stream",
     "text": [
      "For cluster 0:\n",
      "Fitting 3 folds for each of 8 candidates, totalling 24 fits\n"
     ]
    },
    {
     "name": "stderr",
     "output_type": "stream",
     "text": [
      "[Parallel(n_jobs=-1)]: Using backend LokyBackend with 8 concurrent workers.\n",
      "[Parallel(n_jobs=-1)]: Done  22 out of  24 | elapsed:    9.0s remaining:    0.7s\n",
      "[Parallel(n_jobs=-1)]: Done  24 out of  24 | elapsed:    9.1s finished\n",
      "[Parallel(n_jobs=-1)]: Using backend LokyBackend with 8 concurrent workers.\n"
     ]
    },
    {
     "name": "stdout",
     "output_type": "stream",
     "text": [
      "Best params: {'ridge__alpha': 100}\n",
      "MSE: 58.29027628943926\n",
      "R^2: 0.3477972435907811\n",
      "\n",
      "For cluster 1:\n",
      "Fitting 3 folds for each of 8 candidates, totalling 24 fits\n"
     ]
    },
    {
     "name": "stderr",
     "output_type": "stream",
     "text": [
      "[Parallel(n_jobs=-1)]: Done  22 out of  24 | elapsed:    0.5s remaining:    0.0s\n",
      "[Parallel(n_jobs=-1)]: Done  24 out of  24 | elapsed:    0.5s finished\n",
      "[Parallel(n_jobs=-1)]: Using backend LokyBackend with 8 concurrent workers.\n"
     ]
    },
    {
     "name": "stdout",
     "output_type": "stream",
     "text": [
      "Best params: {'ridge__alpha': 100}\n",
      "MSE: 60.98337538366479\n",
      "R^2: 0.20373643564951682\n",
      "\n",
      "For cluster 2:\n",
      "Fitting 3 folds for each of 8 candidates, totalling 24 fits\n"
     ]
    },
    {
     "name": "stderr",
     "output_type": "stream",
     "text": [
      "[Parallel(n_jobs=-1)]: Done  22 out of  24 | elapsed:    0.5s remaining:    0.0s\n",
      "[Parallel(n_jobs=-1)]: Done  24 out of  24 | elapsed:    0.6s finished\n",
      "[Parallel(n_jobs=-1)]: Using backend LokyBackend with 8 concurrent workers.\n"
     ]
    },
    {
     "name": "stdout",
     "output_type": "stream",
     "text": [
      "Best params: {'ridge__alpha': 10}\n",
      "MSE: 10.38059707744449\n",
      "R^2: 0.40824622777553055\n",
      "\n",
      "For cluster 3:\n",
      "Fitting 3 folds for each of 8 candidates, totalling 24 fits\n"
     ]
    },
    {
     "name": "stderr",
     "output_type": "stream",
     "text": [
      "[Parallel(n_jobs=-1)]: Done  22 out of  24 | elapsed:    0.5s remaining:    0.0s\n",
      "[Parallel(n_jobs=-1)]: Done  24 out of  24 | elapsed:    0.5s finished\n",
      "[Parallel(n_jobs=-1)]: Using backend LokyBackend with 8 concurrent workers.\n"
     ]
    },
    {
     "name": "stdout",
     "output_type": "stream",
     "text": [
      "Best params: {'ridge__alpha': 1000}\n",
      "MSE: 1.4281245051648237\n",
      "R^2: 0.022912894213363066\n",
      "\n",
      "For cluster 4:\n",
      "Fitting 3 folds for each of 8 candidates, totalling 24 fits\n"
     ]
    },
    {
     "name": "stderr",
     "output_type": "stream",
     "text": [
      "[Parallel(n_jobs=-1)]: Done  22 out of  24 | elapsed:    0.6s remaining:    0.0s\n",
      "[Parallel(n_jobs=-1)]: Done  24 out of  24 | elapsed:    0.6s finished\n",
      "[Parallel(n_jobs=-1)]: Using backend LokyBackend with 8 concurrent workers.\n"
     ]
    },
    {
     "name": "stdout",
     "output_type": "stream",
     "text": [
      "Best params: {'ridge__alpha': 100}\n",
      "MSE: 637.0526634183014\n",
      "R^2: 0.48409622474495173\n",
      "\n",
      "For cluster 5:\n",
      "Fitting 3 folds for each of 8 candidates, totalling 24 fits\n"
     ]
    },
    {
     "name": "stderr",
     "output_type": "stream",
     "text": [
      "[Parallel(n_jobs=-1)]: Done  22 out of  24 | elapsed:    0.5s remaining:    0.0s\n",
      "[Parallel(n_jobs=-1)]: Done  24 out of  24 | elapsed:    0.5s finished\n",
      "[Parallel(n_jobs=-1)]: Using backend LokyBackend with 8 concurrent workers.\n"
     ]
    },
    {
     "name": "stdout",
     "output_type": "stream",
     "text": [
      "Best params: {'ridge__alpha': 100}\n",
      "MSE: 32.775983048689454\n",
      "R^2: 0.2922902245683986\n",
      "\n",
      "For cluster 6:\n",
      "Fitting 3 folds for each of 8 candidates, totalling 24 fits\n"
     ]
    },
    {
     "name": "stderr",
     "output_type": "stream",
     "text": [
      "[Parallel(n_jobs=-1)]: Done  22 out of  24 | elapsed:    0.5s remaining:    0.0s\n",
      "[Parallel(n_jobs=-1)]: Done  24 out of  24 | elapsed:    0.5s finished\n",
      "[Parallel(n_jobs=-1)]: Using backend LokyBackend with 8 concurrent workers.\n"
     ]
    },
    {
     "name": "stdout",
     "output_type": "stream",
     "text": [
      "Best params: {'ridge__alpha': 100}\n",
      "MSE: 32.63747732376697\n",
      "R^2: 0.3557573377982688\n",
      "\n",
      "For cluster 7:\n",
      "Fitting 3 folds for each of 8 candidates, totalling 24 fits\n"
     ]
    },
    {
     "name": "stderr",
     "output_type": "stream",
     "text": [
      "[Parallel(n_jobs=-1)]: Done  22 out of  24 | elapsed:    0.5s remaining:    0.0s\n",
      "[Parallel(n_jobs=-1)]: Done  24 out of  24 | elapsed:    0.5s finished\n",
      "[Parallel(n_jobs=-1)]: Using backend LokyBackend with 8 concurrent workers.\n"
     ]
    },
    {
     "name": "stdout",
     "output_type": "stream",
     "text": [
      "Best params: {'ridge__alpha': 500}\n",
      "MSE: 11.644776339953024\n",
      "R^2: 0.16806932710871403\n",
      "\n",
      "For cluster 8:\n",
      "Fitting 3 folds for each of 8 candidates, totalling 24 fits\n"
     ]
    },
    {
     "name": "stderr",
     "output_type": "stream",
     "text": [
      "[Parallel(n_jobs=-1)]: Done  22 out of  24 | elapsed:    0.5s remaining:    0.0s\n",
      "[Parallel(n_jobs=-1)]: Done  24 out of  24 | elapsed:    0.6s finished\n",
      "[Parallel(n_jobs=-1)]: Using backend LokyBackend with 8 concurrent workers.\n"
     ]
    },
    {
     "name": "stdout",
     "output_type": "stream",
     "text": [
      "Best params: {'ridge__alpha': 50}\n",
      "MSE: 45.29059729758992\n",
      "R^2: 0.40034291750271855\n",
      "\n",
      "For cluster 9:\n",
      "Fitting 3 folds for each of 8 candidates, totalling 24 fits\n"
     ]
    },
    {
     "name": "stderr",
     "output_type": "stream",
     "text": [
      "[Parallel(n_jobs=-1)]: Done  22 out of  24 | elapsed:    0.4s remaining:    0.0s\n",
      "[Parallel(n_jobs=-1)]: Done  24 out of  24 | elapsed:    0.5s finished\n",
      "[Parallel(n_jobs=-1)]: Using backend LokyBackend with 8 concurrent workers.\n"
     ]
    },
    {
     "name": "stdout",
     "output_type": "stream",
     "text": [
      "Best params: {'ridge__alpha': 100}\n",
      "MSE: 41.67811735611069\n",
      "R^2: 0.4929070713315782\n",
      "\n",
      "For cluster 10:\n",
      "Fitting 3 folds for each of 8 candidates, totalling 24 fits\n"
     ]
    },
    {
     "name": "stderr",
     "output_type": "stream",
     "text": [
      "[Parallel(n_jobs=-1)]: Done  22 out of  24 | elapsed:    0.4s remaining:    0.0s\n",
      "[Parallel(n_jobs=-1)]: Done  24 out of  24 | elapsed:    0.4s finished\n",
      "[Parallel(n_jobs=-1)]: Using backend LokyBackend with 8 concurrent workers.\n"
     ]
    },
    {
     "name": "stdout",
     "output_type": "stream",
     "text": [
      "Best params: {'ridge__alpha': 500}\n",
      "MSE: 1.0074745029903598\n",
      "R^2: 0.01216660512438883\n",
      "\n",
      "For cluster 11:\n",
      "Fitting 3 folds for each of 8 candidates, totalling 24 fits\n"
     ]
    },
    {
     "name": "stderr",
     "output_type": "stream",
     "text": [
      "[Parallel(n_jobs=-1)]: Done  22 out of  24 | elapsed:    0.5s remaining:    0.0s\n",
      "[Parallel(n_jobs=-1)]: Done  24 out of  24 | elapsed:    0.5s finished\n",
      "[Parallel(n_jobs=-1)]: Using backend LokyBackend with 8 concurrent workers.\n"
     ]
    },
    {
     "name": "stdout",
     "output_type": "stream",
     "text": [
      "Best params: {'ridge__alpha': 100}\n",
      "MSE: 3.0286230358172865\n",
      "R^2: 0.32033815609349625\n",
      "\n",
      "For cluster 12:\n",
      "Fitting 3 folds for each of 8 candidates, totalling 24 fits\n"
     ]
    },
    {
     "name": "stderr",
     "output_type": "stream",
     "text": [
      "[Parallel(n_jobs=-1)]: Done  22 out of  24 | elapsed:    0.4s remaining:    0.0s\n",
      "[Parallel(n_jobs=-1)]: Done  24 out of  24 | elapsed:    0.5s finished\n",
      "[Parallel(n_jobs=-1)]: Using backend LokyBackend with 8 concurrent workers.\n"
     ]
    },
    {
     "name": "stdout",
     "output_type": "stream",
     "text": [
      "Best params: {'ridge__alpha': 100}\n",
      "MSE: 38.47800578294703\n",
      "R^2: 0.3819609056942812\n",
      "\n",
      "For cluster 13:\n",
      "Fitting 3 folds for each of 8 candidates, totalling 24 fits\n"
     ]
    },
    {
     "name": "stderr",
     "output_type": "stream",
     "text": [
      "[Parallel(n_jobs=-1)]: Done  22 out of  24 | elapsed:    0.5s remaining:    0.0s\n",
      "[Parallel(n_jobs=-1)]: Done  24 out of  24 | elapsed:    0.5s finished\n",
      "[Parallel(n_jobs=-1)]: Using backend LokyBackend with 8 concurrent workers.\n"
     ]
    },
    {
     "name": "stdout",
     "output_type": "stream",
     "text": [
      "Best params: {'ridge__alpha': 100}\n",
      "MSE: 26.33486881482093\n",
      "R^2: 0.43174932652902964\n",
      "\n",
      "For cluster 14:\n",
      "Fitting 3 folds for each of 8 candidates, totalling 24 fits\n"
     ]
    },
    {
     "name": "stderr",
     "output_type": "stream",
     "text": [
      "[Parallel(n_jobs=-1)]: Done  22 out of  24 | elapsed:    0.4s remaining:    0.0s\n",
      "[Parallel(n_jobs=-1)]: Done  24 out of  24 | elapsed:    0.5s finished\n",
      "[Parallel(n_jobs=-1)]: Using backend LokyBackend with 8 concurrent workers.\n"
     ]
    },
    {
     "name": "stdout",
     "output_type": "stream",
     "text": [
      "Best params: {'ridge__alpha': 500}\n",
      "MSE: 21.556940651674445\n",
      "R^2: 0.12346015400101795\n",
      "\n",
      "For cluster 15:\n",
      "Fitting 3 folds for each of 8 candidates, totalling 24 fits\n"
     ]
    },
    {
     "name": "stderr",
     "output_type": "stream",
     "text": [
      "[Parallel(n_jobs=-1)]: Done  22 out of  24 | elapsed:    0.4s remaining:    0.0s\n",
      "[Parallel(n_jobs=-1)]: Done  24 out of  24 | elapsed:    0.4s finished\n",
      "[Parallel(n_jobs=-1)]: Using backend LokyBackend with 8 concurrent workers.\n"
     ]
    },
    {
     "name": "stdout",
     "output_type": "stream",
     "text": [
      "Best params: {'ridge__alpha': 100}\n",
      "MSE: 5.249908365279252\n",
      "R^2: 0.3258055455855827\n",
      "\n",
      "For cluster 16:\n",
      "Fitting 3 folds for each of 8 candidates, totalling 24 fits\n"
     ]
    },
    {
     "name": "stderr",
     "output_type": "stream",
     "text": [
      "[Parallel(n_jobs=-1)]: Done  22 out of  24 | elapsed:    0.5s remaining:    0.0s\n",
      "[Parallel(n_jobs=-1)]: Done  24 out of  24 | elapsed:    0.5s finished\n",
      "[Parallel(n_jobs=-1)]: Using backend LokyBackend with 8 concurrent workers.\n"
     ]
    },
    {
     "name": "stdout",
     "output_type": "stream",
     "text": [
      "Best params: {'ridge__alpha': 100}\n",
      "MSE: 28.753823912127956\n",
      "R^2: 0.17050133664286649\n",
      "\n",
      "For cluster 17:\n",
      "Fitting 3 folds for each of 8 candidates, totalling 24 fits\n"
     ]
    },
    {
     "name": "stderr",
     "output_type": "stream",
     "text": [
      "[Parallel(n_jobs=-1)]: Done  22 out of  24 | elapsed:    0.5s remaining:    0.0s\n",
      "[Parallel(n_jobs=-1)]: Done  24 out of  24 | elapsed:    0.6s finished\n",
      "[Parallel(n_jobs=-1)]: Using backend LokyBackend with 8 concurrent workers.\n"
     ]
    },
    {
     "name": "stdout",
     "output_type": "stream",
     "text": [
      "Best params: {'ridge__alpha': 50}\n",
      "MSE: 59.33119737551475\n",
      "R^2: 0.46348385859069197\n",
      "\n",
      "For cluster 18:\n",
      "Fitting 3 folds for each of 8 candidates, totalling 24 fits\n"
     ]
    },
    {
     "name": "stderr",
     "output_type": "stream",
     "text": [
      "[Parallel(n_jobs=-1)]: Done  22 out of  24 | elapsed:    0.4s remaining:    0.0s\n",
      "[Parallel(n_jobs=-1)]: Done  24 out of  24 | elapsed:    0.4s finished\n",
      "[Parallel(n_jobs=-1)]: Using backend LokyBackend with 8 concurrent workers.\n"
     ]
    },
    {
     "name": "stdout",
     "output_type": "stream",
     "text": [
      "Best params: {'ridge__alpha': 50}\n",
      "MSE: 59.47201620650574\n",
      "R^2: 0.4993819687678803\n",
      "\n",
      "For cluster 19:\n",
      "Fitting 3 folds for each of 8 candidates, totalling 24 fits\n"
     ]
    },
    {
     "name": "stderr",
     "output_type": "stream",
     "text": [
      "[Parallel(n_jobs=-1)]: Done  22 out of  24 | elapsed:    0.5s remaining:    0.0s\n",
      "[Parallel(n_jobs=-1)]: Done  24 out of  24 | elapsed:    0.5s finished\n",
      "[Parallel(n_jobs=-1)]: Using backend LokyBackend with 8 concurrent workers.\n"
     ]
    },
    {
     "name": "stdout",
     "output_type": "stream",
     "text": [
      "Best params: {'ridge__alpha': 100}\n",
      "MSE: 16.009043583301146\n",
      "R^2: 0.40612861860866045\n",
      "\n",
      "For cluster 20:\n",
      "Fitting 3 folds for each of 8 candidates, totalling 24 fits\n"
     ]
    },
    {
     "name": "stderr",
     "output_type": "stream",
     "text": [
      "[Parallel(n_jobs=-1)]: Done  22 out of  24 | elapsed:    0.3s remaining:    0.0s\n",
      "[Parallel(n_jobs=-1)]: Done  24 out of  24 | elapsed:    0.4s finished\n",
      "[Parallel(n_jobs=-1)]: Using backend LokyBackend with 8 concurrent workers.\n"
     ]
    },
    {
     "name": "stdout",
     "output_type": "stream",
     "text": [
      "Best params: {'ridge__alpha': 100}\n",
      "MSE: 2.6339428176619286\n",
      "R^2: 0.27181108545518995\n",
      "\n",
      "For cluster 21:\n",
      "Fitting 3 folds for each of 8 candidates, totalling 24 fits\n"
     ]
    },
    {
     "name": "stderr",
     "output_type": "stream",
     "text": [
      "[Parallel(n_jobs=-1)]: Done  22 out of  24 | elapsed:    0.5s remaining:    0.0s\n",
      "[Parallel(n_jobs=-1)]: Done  24 out of  24 | elapsed:    0.5s finished\n",
      "[Parallel(n_jobs=-1)]: Using backend LokyBackend with 8 concurrent workers.\n"
     ]
    },
    {
     "name": "stdout",
     "output_type": "stream",
     "text": [
      "Best params: {'ridge__alpha': 500}\n",
      "MSE: 0.3761063490135959\n",
      "R^2: 0.07569778013843909\n",
      "\n",
      "For cluster 22:\n",
      "Fitting 3 folds for each of 8 candidates, totalling 24 fits\n"
     ]
    },
    {
     "name": "stderr",
     "output_type": "stream",
     "text": [
      "[Parallel(n_jobs=-1)]: Done  22 out of  24 | elapsed:    0.3s remaining:    0.0s\n",
      "[Parallel(n_jobs=-1)]: Done  24 out of  24 | elapsed:    0.3s finished\n",
      "[Parallel(n_jobs=-1)]: Using backend LokyBackend with 8 concurrent workers.\n"
     ]
    },
    {
     "name": "stdout",
     "output_type": "stream",
     "text": [
      "Best params: {'ridge__alpha': 100}\n",
      "MSE: 49.52809929465605\n",
      "R^2: 0.1368243023878405\n",
      "\n",
      "For cluster 23:\n",
      "Fitting 3 folds for each of 8 candidates, totalling 24 fits\n"
     ]
    },
    {
     "name": "stderr",
     "output_type": "stream",
     "text": [
      "[Parallel(n_jobs=-1)]: Done  22 out of  24 | elapsed:    0.5s remaining:    0.0s\n",
      "[Parallel(n_jobs=-1)]: Done  24 out of  24 | elapsed:    0.5s finished\n",
      "[Parallel(n_jobs=-1)]: Using backend LokyBackend with 8 concurrent workers.\n"
     ]
    },
    {
     "name": "stdout",
     "output_type": "stream",
     "text": [
      "Best params: {'ridge__alpha': 100}\n",
      "MSE: 67.17068119495768\n",
      "R^2: 0.2979408298354893\n",
      "\n",
      "For cluster 24:\n",
      "Fitting 3 folds for each of 8 candidates, totalling 24 fits\n"
     ]
    },
    {
     "name": "stderr",
     "output_type": "stream",
     "text": [
      "[Parallel(n_jobs=-1)]: Done  22 out of  24 | elapsed:    0.3s remaining:    0.0s\n",
      "[Parallel(n_jobs=-1)]: Done  24 out of  24 | elapsed:    0.3s finished\n",
      "[Parallel(n_jobs=-1)]: Using backend LokyBackend with 8 concurrent workers.\n"
     ]
    },
    {
     "name": "stdout",
     "output_type": "stream",
     "text": [
      "Best params: {'ridge__alpha': 100}\n",
      "MSE: 7.614472950561307\n",
      "R^2: 0.3806321048388911\n",
      "\n",
      "For cluster 25:\n",
      "Fitting 3 folds for each of 8 candidates, totalling 24 fits\n"
     ]
    },
    {
     "name": "stderr",
     "output_type": "stream",
     "text": [
      "[Parallel(n_jobs=-1)]: Done  22 out of  24 | elapsed:    0.4s remaining:    0.0s\n",
      "[Parallel(n_jobs=-1)]: Done  24 out of  24 | elapsed:    0.4s finished\n",
      "[Parallel(n_jobs=-1)]: Using backend LokyBackend with 8 concurrent workers.\n"
     ]
    },
    {
     "name": "stdout",
     "output_type": "stream",
     "text": [
      "Best params: {'ridge__alpha': 100}\n",
      "MSE: 5.032495726992568\n",
      "R^2: 0.2580329857677739\n",
      "\n",
      "For cluster 26:\n",
      "Fitting 3 folds for each of 8 candidates, totalling 24 fits\n"
     ]
    },
    {
     "name": "stderr",
     "output_type": "stream",
     "text": [
      "[Parallel(n_jobs=-1)]: Done  22 out of  24 | elapsed:    0.4s remaining:    0.0s\n",
      "[Parallel(n_jobs=-1)]: Done  24 out of  24 | elapsed:    0.4s finished\n",
      "[Parallel(n_jobs=-1)]: Using backend LokyBackend with 8 concurrent workers.\n"
     ]
    },
    {
     "name": "stdout",
     "output_type": "stream",
     "text": [
      "Best params: {'ridge__alpha': 100}\n",
      "MSE: 52.388685999549\n",
      "R^2: 0.20822489641825215\n",
      "\n",
      "For cluster 27:\n",
      "Fitting 3 folds for each of 8 candidates, totalling 24 fits\n"
     ]
    },
    {
     "name": "stderr",
     "output_type": "stream",
     "text": [
      "[Parallel(n_jobs=-1)]: Done  22 out of  24 | elapsed:    0.3s remaining:    0.0s\n",
      "[Parallel(n_jobs=-1)]: Done  24 out of  24 | elapsed:    0.3s finished\n",
      "[Parallel(n_jobs=-1)]: Using backend LokyBackend with 8 concurrent workers.\n"
     ]
    },
    {
     "name": "stdout",
     "output_type": "stream",
     "text": [
      "Best params: {'ridge__alpha': 100}\n",
      "MSE: 30.8249112186073\n",
      "R^2: 0.3274020524290112\n",
      "\n",
      "For cluster 28:\n",
      "Fitting 3 folds for each of 8 candidates, totalling 24 fits\n"
     ]
    },
    {
     "name": "stderr",
     "output_type": "stream",
     "text": [
      "[Parallel(n_jobs=-1)]: Done  22 out of  24 | elapsed:    0.4s remaining:    0.0s\n",
      "[Parallel(n_jobs=-1)]: Done  24 out of  24 | elapsed:    0.4s finished\n",
      "[Parallel(n_jobs=-1)]: Using backend LokyBackend with 8 concurrent workers.\n"
     ]
    },
    {
     "name": "stdout",
     "output_type": "stream",
     "text": [
      "Best params: {'ridge__alpha': 100}\n",
      "MSE: 21.98757596961035\n",
      "R^2: 0.16462982441565222\n",
      "\n",
      "For cluster 29:\n",
      "Fitting 3 folds for each of 8 candidates, totalling 24 fits\n",
      "Best params: {'ridge__alpha': 1000}\n",
      "MSE: 2.6873664773208845\n",
      "R^2: 0.005124585942789084\n",
      "\n"
     ]
    },
    {
     "name": "stderr",
     "output_type": "stream",
     "text": [
      "[Parallel(n_jobs=-1)]: Done  22 out of  24 | elapsed:    0.4s remaining:    0.0s\n",
      "[Parallel(n_jobs=-1)]: Done  24 out of  24 | elapsed:    0.4s finished\n"
     ]
    }
   ],
   "source": [
    "res['Ridge Regression'] = 0\n",
    "for c in dfs:\n",
    "    print('For cluster {}:'.format(c))\n",
    "    # train test split\n",
    "    df_train, df_val = train_test_split(dfs[c], test_size=0.2, random_state=1207)\n",
    "    # get X Y\n",
    "    X_train = df_train.drop(columns=['Checkin per Hour', 'Checkout per Hour'])\n",
    "    Y_train = df_train['Checkin per Hour'] - df_train['Checkout per Hour']\n",
    "    X_val = df_val.drop(columns=['Checkin per Hour', 'Checkout per Hour'])\n",
    "    Y_val = df_val['Checkin per Hour'] - df_val['Checkout per Hour']\n",
    "    # shuffle\n",
    "    X_train, Y_train = shuffle(X_train, Y_train, random_state=1207)\n",
    "    # train model\n",
    "    ridge_search.fit(X_train, Y_train)\n",
    "    print('Best params: {}'.format(ridge_search.best_params_))\n",
    "    # predict\n",
    "    Y_pred = ridge_search.predict(X_val)\n",
    "    mse = mean_squared_error(Y_val, Y_pred)\n",
    "    print('MSE: {}'.format(mse))\n",
    "    r2 = ridge_search.score(X_val, Y_val)\n",
    "    print('R^2: {}'.format(r2))\n",
    "    res.loc[c, 'Ridge Regression'] = r2\n",
    "    print()"
   ]
  },
  {
   "cell_type": "code",
   "execution_count": 9,
   "metadata": {},
   "outputs": [],
   "source": [
    "# save csv\n",
    "res.to_csv('./pred_res.csv', index=False)"
   ]
  },
  {
   "cell_type": "markdown",
   "metadata": {},
   "source": [
    "## LASSO Regression"
   ]
  },
  {
   "cell_type": "code",
   "execution_count": 10,
   "metadata": {},
   "outputs": [],
   "source": [
    "from sklearn.linear_model import Lasso"
   ]
  },
  {
   "cell_type": "code",
   "execution_count": 11,
   "metadata": {},
   "outputs": [],
   "source": [
    "# set pipeline\n",
    "pipeline = Pipeline([('scaler', StandardScaler()),\n",
    "                     ('lasso', Lasso())])"
   ]
  },
  {
   "cell_type": "code",
   "execution_count": 12,
   "metadata": {},
   "outputs": [],
   "source": [
    "# set grid search\n",
    "params = {'lasso__alpha': [1, 5, 10, 50, 100, 500, 1000]}\n",
    "lasso_search = GridSearchCV(pipeline, params, cv=3, verbose=2, n_jobs=-1)"
   ]
  },
  {
   "cell_type": "code",
   "execution_count": 13,
   "metadata": {
    "scrolled": false
   },
   "outputs": [
    {
     "name": "stderr",
     "output_type": "stream",
     "text": [
      "[Parallel(n_jobs=-1)]: Using backend LokyBackend with 8 concurrent workers.\n"
     ]
    },
    {
     "name": "stdout",
     "output_type": "stream",
     "text": [
      "For cluster 0:\n",
      "Fitting 3 folds for each of 7 candidates, totalling 21 fits\n"
     ]
    },
    {
     "name": "stderr",
     "output_type": "stream",
     "text": [
      "[Parallel(n_jobs=-1)]: Done  17 out of  21 | elapsed:    0.4s remaining:    0.0s\n",
      "[Parallel(n_jobs=-1)]: Done  21 out of  21 | elapsed:    0.5s finished\n",
      "[Parallel(n_jobs=-1)]: Using backend LokyBackend with 8 concurrent workers.\n"
     ]
    },
    {
     "name": "stdout",
     "output_type": "stream",
     "text": [
      "Best params: {'lasso__alpha': 1}\n",
      "MSE: 65.1725775137879\n",
      "R^2: 0.27079201879701986\n",
      "\n",
      "For cluster 1:\n",
      "Fitting 3 folds for each of 7 candidates, totalling 21 fits\n"
     ]
    },
    {
     "name": "stderr",
     "output_type": "stream",
     "text": [
      "[Parallel(n_jobs=-1)]: Done  17 out of  21 | elapsed:    0.3s remaining:    0.0s\n",
      "[Parallel(n_jobs=-1)]: Done  21 out of  21 | elapsed:    0.4s finished\n",
      "[Parallel(n_jobs=-1)]: Using backend LokyBackend with 8 concurrent workers.\n"
     ]
    },
    {
     "name": "stdout",
     "output_type": "stream",
     "text": [
      "Best params: {'lasso__alpha': 1}\n",
      "MSE: 64.54256553327122\n",
      "R^2: 0.15726387789263874\n",
      "\n",
      "For cluster 2:\n",
      "Fitting 3 folds for each of 7 candidates, totalling 21 fits\n"
     ]
    },
    {
     "name": "stderr",
     "output_type": "stream",
     "text": [
      "[Parallel(n_jobs=-1)]: Done  17 out of  21 | elapsed:    0.3s remaining:    0.0s\n",
      "[Parallel(n_jobs=-1)]: Done  21 out of  21 | elapsed:    0.4s finished\n",
      "[Parallel(n_jobs=-1)]: Using backend LokyBackend with 8 concurrent workers.\n"
     ]
    },
    {
     "name": "stdout",
     "output_type": "stream",
     "text": [
      "Best params: {'lasso__alpha': 1}\n",
      "MSE: 15.470393598712498\n",
      "R^2: 0.11809853503252288\n",
      "\n",
      "For cluster 3:\n",
      "Fitting 3 folds for each of 7 candidates, totalling 21 fits\n"
     ]
    },
    {
     "name": "stderr",
     "output_type": "stream",
     "text": [
      "[Parallel(n_jobs=-1)]: Done  17 out of  21 | elapsed:    0.3s remaining:    0.0s\n",
      "[Parallel(n_jobs=-1)]: Done  21 out of  21 | elapsed:    0.3s finished\n",
      "[Parallel(n_jobs=-1)]: Using backend LokyBackend with 8 concurrent workers.\n"
     ]
    },
    {
     "name": "stdout",
     "output_type": "stream",
     "text": [
      "Best params: {'lasso__alpha': 1}\n",
      "MSE: 1.4618179354058507\n",
      "R^2: -0.00013930895181513137\n",
      "\n",
      "For cluster 4:\n",
      "Fitting 3 folds for each of 7 candidates, totalling 21 fits\n"
     ]
    },
    {
     "name": "stderr",
     "output_type": "stream",
     "text": [
      "[Parallel(n_jobs=-1)]: Done  17 out of  21 | elapsed:    0.3s remaining:    0.0s\n",
      "[Parallel(n_jobs=-1)]: Done  21 out of  21 | elapsed:    0.3s finished\n",
      "[Parallel(n_jobs=-1)]: Using backend LokyBackend with 8 concurrent workers.\n"
     ]
    },
    {
     "name": "stdout",
     "output_type": "stream",
     "text": [
      "Best params: {'lasso__alpha': 1}\n",
      "MSE: 645.7070175758228\n",
      "R^2: 0.4770876770398025\n",
      "\n",
      "For cluster 5:\n",
      "Fitting 3 folds for each of 7 candidates, totalling 21 fits\n"
     ]
    },
    {
     "name": "stderr",
     "output_type": "stream",
     "text": [
      "[Parallel(n_jobs=-1)]: Done  17 out of  21 | elapsed:    0.3s remaining:    0.0s\n",
      "[Parallel(n_jobs=-1)]: Done  21 out of  21 | elapsed:    0.4s finished\n",
      "[Parallel(n_jobs=-1)]: Using backend LokyBackend with 8 concurrent workers.\n"
     ]
    },
    {
     "name": "stdout",
     "output_type": "stream",
     "text": [
      "Best params: {'lasso__alpha': 1}\n",
      "MSE: 37.55999031559709\n",
      "R^2: 0.18899237066431174\n",
      "\n",
      "For cluster 6:\n",
      "Fitting 3 folds for each of 7 candidates, totalling 21 fits\n"
     ]
    },
    {
     "name": "stderr",
     "output_type": "stream",
     "text": [
      "[Parallel(n_jobs=-1)]: Done  17 out of  21 | elapsed:    0.3s remaining:    0.0s\n",
      "[Parallel(n_jobs=-1)]: Done  21 out of  21 | elapsed:    0.3s finished\n",
      "[Parallel(n_jobs=-1)]: Using backend LokyBackend with 8 concurrent workers.\n"
     ]
    },
    {
     "name": "stdout",
     "output_type": "stream",
     "text": [
      "Best params: {'lasso__alpha': 1}\n",
      "MSE: 37.29862341120476\n",
      "R^2: 0.2637493331815838\n",
      "\n",
      "For cluster 7:\n",
      "Fitting 3 folds for each of 7 candidates, totalling 21 fits\n"
     ]
    },
    {
     "name": "stderr",
     "output_type": "stream",
     "text": [
      "[Parallel(n_jobs=-1)]: Done  17 out of  21 | elapsed:    0.4s remaining:    0.0s\n",
      "[Parallel(n_jobs=-1)]: Done  21 out of  21 | elapsed:    0.5s finished\n",
      "[Parallel(n_jobs=-1)]: Using backend LokyBackend with 8 concurrent workers.\n"
     ]
    },
    {
     "name": "stdout",
     "output_type": "stream",
     "text": [
      "Best params: {'lasso__alpha': 1}\n",
      "MSE: 13.999350790876962\n",
      "R^2: -0.00014710317247801363\n",
      "\n",
      "For cluster 8:\n",
      "Fitting 3 folds for each of 7 candidates, totalling 21 fits\n"
     ]
    },
    {
     "name": "stderr",
     "output_type": "stream",
     "text": [
      "[Parallel(n_jobs=-1)]: Done  17 out of  21 | elapsed:    0.3s remaining:    0.0s\n",
      "[Parallel(n_jobs=-1)]: Done  21 out of  21 | elapsed:    0.3s finished\n",
      "[Parallel(n_jobs=-1)]: Using backend LokyBackend with 8 concurrent workers.\n"
     ]
    },
    {
     "name": "stdout",
     "output_type": "stream",
     "text": [
      "Best params: {'lasso__alpha': 1}\n",
      "MSE: 51.57694360261877\n",
      "R^2: 0.3171103635120527\n",
      "\n",
      "For cluster 9:\n",
      "Fitting 3 folds for each of 7 candidates, totalling 21 fits\n"
     ]
    },
    {
     "name": "stderr",
     "output_type": "stream",
     "text": [
      "[Parallel(n_jobs=-1)]: Done  17 out of  21 | elapsed:    0.3s remaining:    0.0s\n",
      "[Parallel(n_jobs=-1)]: Done  21 out of  21 | elapsed:    0.4s finished\n"
     ]
    },
    {
     "name": "stdout",
     "output_type": "stream",
     "text": [
      "Best params: {'lasso__alpha': 1}\n",
      "MSE: 48.7079605805406\n",
      "R^2: 0.40737576581944546\n",
      "\n",
      "For cluster 10:\n",
      "Fitting 3 folds for each of 7 candidates, totalling 21 fits\n"
     ]
    },
    {
     "name": "stderr",
     "output_type": "stream",
     "text": [
      "[Parallel(n_jobs=-1)]: Using backend LokyBackend with 8 concurrent workers.\n",
      "[Parallel(n_jobs=-1)]: Done  17 out of  21 | elapsed:    0.3s remaining:    0.0s\n",
      "[Parallel(n_jobs=-1)]: Done  21 out of  21 | elapsed:    0.4s finished\n",
      "[Parallel(n_jobs=-1)]: Using backend LokyBackend with 8 concurrent workers.\n"
     ]
    },
    {
     "name": "stdout",
     "output_type": "stream",
     "text": [
      "Best params: {'lasso__alpha': 1}\n",
      "MSE: 1.0198870078032152\n",
      "R^2: -3.913069171801453e-06\n",
      "\n",
      "For cluster 11:\n",
      "Fitting 3 folds for each of 7 candidates, totalling 21 fits\n"
     ]
    },
    {
     "name": "stderr",
     "output_type": "stream",
     "text": [
      "[Parallel(n_jobs=-1)]: Done  17 out of  21 | elapsed:    0.3s remaining:    0.0s\n",
      "[Parallel(n_jobs=-1)]: Done  21 out of  21 | elapsed:    0.3s finished\n",
      "[Parallel(n_jobs=-1)]: Using backend LokyBackend with 8 concurrent workers.\n"
     ]
    },
    {
     "name": "stdout",
     "output_type": "stream",
     "text": [
      "Best params: {'lasso__alpha': 1}\n",
      "MSE: 4.456668752508548\n",
      "R^2: -0.0001336139190601937\n",
      "\n",
      "For cluster 12:\n",
      "Fitting 3 folds for each of 7 candidates, totalling 21 fits\n"
     ]
    },
    {
     "name": "stderr",
     "output_type": "stream",
     "text": [
      "[Parallel(n_jobs=-1)]: Done  17 out of  21 | elapsed:    0.3s remaining:    0.0s\n",
      "[Parallel(n_jobs=-1)]: Done  21 out of  21 | elapsed:    0.4s finished\n",
      "[Parallel(n_jobs=-1)]: Using backend LokyBackend with 8 concurrent workers.\n"
     ]
    },
    {
     "name": "stdout",
     "output_type": "stream",
     "text": [
      "Best params: {'lasso__alpha': 1}\n",
      "MSE: 48.08685666506499\n",
      "R^2: 0.22762220295582414\n",
      "\n",
      "For cluster 13:\n",
      "Fitting 3 folds for each of 7 candidates, totalling 21 fits\n"
     ]
    },
    {
     "name": "stderr",
     "output_type": "stream",
     "text": [
      "[Parallel(n_jobs=-1)]: Done  17 out of  21 | elapsed:    0.3s remaining:    0.0s\n",
      "[Parallel(n_jobs=-1)]: Done  21 out of  21 | elapsed:    0.3s finished\n",
      "[Parallel(n_jobs=-1)]: Using backend LokyBackend with 8 concurrent workers.\n"
     ]
    },
    {
     "name": "stdout",
     "output_type": "stream",
     "text": [
      "Best params: {'lasso__alpha': 1}\n",
      "MSE: 32.49421900833649\n",
      "R^2: 0.2988435991369499\n",
      "\n",
      "For cluster 14:\n",
      "Fitting 3 folds for each of 7 candidates, totalling 21 fits\n"
     ]
    },
    {
     "name": "stderr",
     "output_type": "stream",
     "text": [
      "[Parallel(n_jobs=-1)]: Done  17 out of  21 | elapsed:    0.4s remaining:    0.0s\n",
      "[Parallel(n_jobs=-1)]: Done  21 out of  21 | elapsed:    0.4s finished\n",
      "[Parallel(n_jobs=-1)]: Using backend LokyBackend with 8 concurrent workers.\n"
     ]
    },
    {
     "name": "stdout",
     "output_type": "stream",
     "text": [
      "Best params: {'lasso__alpha': 1}\n",
      "MSE: 23.894808065670116\n",
      "R^2: 0.02839870830971447\n",
      "\n",
      "For cluster 15:\n",
      "Fitting 3 folds for each of 7 candidates, totalling 21 fits\n"
     ]
    },
    {
     "name": "stderr",
     "output_type": "stream",
     "text": [
      "[Parallel(n_jobs=-1)]: Done  17 out of  21 | elapsed:    0.3s remaining:    0.0s\n",
      "[Parallel(n_jobs=-1)]: Done  21 out of  21 | elapsed:    0.3s finished\n",
      "[Parallel(n_jobs=-1)]: Using backend LokyBackend with 8 concurrent workers.\n"
     ]
    },
    {
     "name": "stdout",
     "output_type": "stream",
     "text": [
      "Best params: {'lasso__alpha': 1}\n",
      "MSE: 7.547651935954023\n",
      "R^2: 0.030728781339448896\n",
      "\n",
      "For cluster 16:\n",
      "Fitting 3 folds for each of 7 candidates, totalling 21 fits\n"
     ]
    },
    {
     "name": "stderr",
     "output_type": "stream",
     "text": [
      "[Parallel(n_jobs=-1)]: Done  17 out of  21 | elapsed:    0.3s remaining:    0.0s\n",
      "[Parallel(n_jobs=-1)]: Done  21 out of  21 | elapsed:    0.3s finished\n",
      "[Parallel(n_jobs=-1)]: Using backend LokyBackend with 8 concurrent workers.\n"
     ]
    },
    {
     "name": "stdout",
     "output_type": "stream",
     "text": [
      "Best params: {'lasso__alpha': 1}\n",
      "MSE: 34.133883951116275\n",
      "R^2: 0.015295802076049636\n",
      "\n",
      "For cluster 17:\n",
      "Fitting 3 folds for each of 7 candidates, totalling 21 fits\n"
     ]
    },
    {
     "name": "stderr",
     "output_type": "stream",
     "text": [
      "[Parallel(n_jobs=-1)]: Done  17 out of  21 | elapsed:    0.4s remaining:    0.0s\n",
      "[Parallel(n_jobs=-1)]: Done  21 out of  21 | elapsed:    0.4s finished\n",
      "[Parallel(n_jobs=-1)]: Using backend LokyBackend with 8 concurrent workers.\n"
     ]
    },
    {
     "name": "stdout",
     "output_type": "stream",
     "text": [
      "Best params: {'lasso__alpha': 1}\n",
      "MSE: 70.83885384853258\n",
      "R^2: 0.3594232004433253\n",
      "\n",
      "For cluster 18:\n",
      "Fitting 3 folds for each of 7 candidates, totalling 21 fits\n"
     ]
    },
    {
     "name": "stderr",
     "output_type": "stream",
     "text": [
      "[Parallel(n_jobs=-1)]: Done  17 out of  21 | elapsed:    0.3s remaining:    0.0s\n",
      "[Parallel(n_jobs=-1)]: Done  21 out of  21 | elapsed:    0.3s finished\n",
      "[Parallel(n_jobs=-1)]: Using backend LokyBackend with 8 concurrent workers.\n"
     ]
    },
    {
     "name": "stdout",
     "output_type": "stream",
     "text": [
      "Best params: {'lasso__alpha': 1}\n",
      "MSE: 68.89844473094833\n",
      "R^2: 0.4200330515717533\n",
      "\n",
      "For cluster 19:\n",
      "Fitting 3 folds for each of 7 candidates, totalling 21 fits\n"
     ]
    },
    {
     "name": "stderr",
     "output_type": "stream",
     "text": [
      "[Parallel(n_jobs=-1)]: Done  17 out of  21 | elapsed:    0.4s remaining:    0.0s\n",
      "[Parallel(n_jobs=-1)]: Done  21 out of  21 | elapsed:    0.4s finished\n",
      "[Parallel(n_jobs=-1)]: Using backend LokyBackend with 8 concurrent workers.\n"
     ]
    },
    {
     "name": "stdout",
     "output_type": "stream",
     "text": [
      "Best params: {'lasso__alpha': 1}\n",
      "MSE: 20.083898917161047\n",
      "R^2: 0.25496781043811745\n",
      "\n",
      "For cluster 20:\n",
      "Fitting 3 folds for each of 7 candidates, totalling 21 fits\n"
     ]
    },
    {
     "name": "stderr",
     "output_type": "stream",
     "text": [
      "[Parallel(n_jobs=-1)]: Done  17 out of  21 | elapsed:    0.3s remaining:    0.0s\n",
      "[Parallel(n_jobs=-1)]: Done  21 out of  21 | elapsed:    0.3s finished\n",
      "[Parallel(n_jobs=-1)]: Using backend LokyBackend with 8 concurrent workers.\n"
     ]
    },
    {
     "name": "stdout",
     "output_type": "stream",
     "text": [
      "Best params: {'lasso__alpha': 1}\n",
      "MSE: 3.6176893726152506\n",
      "R^2: -0.0001588795854865488\n",
      "\n",
      "For cluster 21:\n",
      "Fitting 3 folds for each of 7 candidates, totalling 21 fits\n"
     ]
    },
    {
     "name": "stderr",
     "output_type": "stream",
     "text": [
      "[Parallel(n_jobs=-1)]: Done  17 out of  21 | elapsed:    0.3s remaining:    0.0s\n",
      "[Parallel(n_jobs=-1)]: Done  21 out of  21 | elapsed:    0.5s finished\n"
     ]
    },
    {
     "name": "stdout",
     "output_type": "stream",
     "text": [
      "Best params: {'lasso__alpha': 1}\n",
      "MSE: 0.40702294654120014\n",
      "R^2: -0.00028147360262975596\n",
      "\n",
      "For cluster 22:\n",
      "Fitting 3 folds for each of 7 candidates, totalling 21 fits\n"
     ]
    },
    {
     "name": "stderr",
     "output_type": "stream",
     "text": [
      "[Parallel(n_jobs=-1)]: Using backend LokyBackend with 8 concurrent workers.\n",
      "[Parallel(n_jobs=-1)]: Done  17 out of  21 | elapsed:    0.3s remaining:    0.0s\n",
      "[Parallel(n_jobs=-1)]: Done  21 out of  21 | elapsed:    0.3s finished\n",
      "[Parallel(n_jobs=-1)]: Using backend LokyBackend with 8 concurrent workers.\n"
     ]
    },
    {
     "name": "stdout",
     "output_type": "stream",
     "text": [
      "Best params: {'lasso__alpha': 1}\n",
      "MSE: 54.66749149648848\n",
      "R^2: 0.047254976847462715\n",
      "\n",
      "For cluster 23:\n",
      "Fitting 3 folds for each of 7 candidates, totalling 21 fits\n"
     ]
    },
    {
     "name": "stderr",
     "output_type": "stream",
     "text": [
      "[Parallel(n_jobs=-1)]: Done  17 out of  21 | elapsed:    0.3s remaining:    0.0s\n",
      "[Parallel(n_jobs=-1)]: Done  21 out of  21 | elapsed:    0.3s finished\n",
      "[Parallel(n_jobs=-1)]: Using backend LokyBackend with 8 concurrent workers.\n"
     ]
    },
    {
     "name": "stdout",
     "output_type": "stream",
     "text": [
      "Best params: {'lasso__alpha': 1}\n",
      "MSE: 73.12281414491719\n",
      "R^2: 0.23572991511469144\n",
      "\n",
      "For cluster 24:\n",
      "Fitting 3 folds for each of 7 candidates, totalling 21 fits\n"
     ]
    },
    {
     "name": "stderr",
     "output_type": "stream",
     "text": [
      "[Parallel(n_jobs=-1)]: Done  17 out of  21 | elapsed:    0.3s remaining:    0.0s\n",
      "[Parallel(n_jobs=-1)]: Done  21 out of  21 | elapsed:    0.4s finished\n",
      "[Parallel(n_jobs=-1)]: Using backend LokyBackend with 8 concurrent workers.\n"
     ]
    },
    {
     "name": "stdout",
     "output_type": "stream",
     "text": [
      "Best params: {'lasso__alpha': 1}\n",
      "MSE: 11.355714030704675\n",
      "R^2: 0.07631628046816352\n",
      "\n",
      "For cluster 25:\n",
      "Fitting 3 folds for each of 7 candidates, totalling 21 fits\n"
     ]
    },
    {
     "name": "stderr",
     "output_type": "stream",
     "text": [
      "[Parallel(n_jobs=-1)]: Done  17 out of  21 | elapsed:    0.2s remaining:    0.0s\n",
      "[Parallel(n_jobs=-1)]: Done  21 out of  21 | elapsed:    0.3s finished\n",
      "[Parallel(n_jobs=-1)]: Using backend LokyBackend with 8 concurrent workers.\n"
     ]
    },
    {
     "name": "stdout",
     "output_type": "stream",
     "text": [
      "Best params: {'lasso__alpha': 1}\n",
      "MSE: 6.782704632409666\n",
      "R^2: -9.414322056144897e-06\n",
      "\n",
      "For cluster 26:\n",
      "Fitting 3 folds for each of 7 candidates, totalling 21 fits\n"
     ]
    },
    {
     "name": "stderr",
     "output_type": "stream",
     "text": [
      "[Parallel(n_jobs=-1)]: Done  17 out of  21 | elapsed:    0.3s remaining:    0.0s\n",
      "[Parallel(n_jobs=-1)]: Done  21 out of  21 | elapsed:    0.4s finished\n",
      "[Parallel(n_jobs=-1)]: Using backend LokyBackend with 8 concurrent workers.\n"
     ]
    },
    {
     "name": "stdout",
     "output_type": "stream",
     "text": [
      "Best params: {'lasso__alpha': 1}\n",
      "MSE: 57.261990467713645\n",
      "R^2: 0.13457233047873474\n",
      "\n",
      "For cluster 27:\n",
      "Fitting 3 folds for each of 7 candidates, totalling 21 fits\n"
     ]
    },
    {
     "name": "stderr",
     "output_type": "stream",
     "text": [
      "[Parallel(n_jobs=-1)]: Done  17 out of  21 | elapsed:    0.3s remaining:    0.0s\n",
      "[Parallel(n_jobs=-1)]: Done  21 out of  21 | elapsed:    0.3s finished\n",
      "[Parallel(n_jobs=-1)]: Using backend LokyBackend with 8 concurrent workers.\n"
     ]
    },
    {
     "name": "stdout",
     "output_type": "stream",
     "text": [
      "Best params: {'lasso__alpha': 1}\n",
      "MSE: 37.844848313530555\n",
      "R^2: 0.17422739286104905\n",
      "\n",
      "For cluster 28:\n",
      "Fitting 3 folds for each of 7 candidates, totalling 21 fits\n"
     ]
    },
    {
     "name": "stderr",
     "output_type": "stream",
     "text": [
      "[Parallel(n_jobs=-1)]: Done  17 out of  21 | elapsed:    0.3s remaining:    0.0s\n",
      "[Parallel(n_jobs=-1)]: Done  21 out of  21 | elapsed:    0.3s finished\n",
      "[Parallel(n_jobs=-1)]: Using backend LokyBackend with 8 concurrent workers.\n"
     ]
    },
    {
     "name": "stdout",
     "output_type": "stream",
     "text": [
      "Best params: {'lasso__alpha': 1}\n",
      "MSE: 26.20611916094877\n",
      "R^2: 0.00435544167654478\n",
      "\n",
      "For cluster 29:\n",
      "Fitting 3 folds for each of 7 candidates, totalling 21 fits\n",
      "Best params: {'lasso__alpha': 1}\n",
      "MSE: 2.703674925981527\n",
      "R^2: -0.0009128766626320672\n",
      "\n"
     ]
    },
    {
     "name": "stderr",
     "output_type": "stream",
     "text": [
      "[Parallel(n_jobs=-1)]: Done  17 out of  21 | elapsed:    0.3s remaining:    0.0s\n",
      "[Parallel(n_jobs=-1)]: Done  21 out of  21 | elapsed:    0.3s finished\n"
     ]
    }
   ],
   "source": [
    "res['LASSO Regression'] = 0\n",
    "for c in dfs:\n",
    "    print('For cluster {}:'.format(c))\n",
    "    # train test split\n",
    "    df_train, df_val = train_test_split(dfs[c], test_size=0.2, random_state=1207)\n",
    "    # get X Y\n",
    "    X_train = df_train.drop(columns=['Checkin per Hour', 'Checkout per Hour'])\n",
    "    Y_train = df_train['Checkin per Hour'] - df_train['Checkout per Hour']\n",
    "    X_val = df_val.drop(columns=['Checkin per Hour', 'Checkout per Hour'])\n",
    "    Y_val = df_val['Checkin per Hour'] - df_val['Checkout per Hour']\n",
    "    # shuffle\n",
    "    X_train, Y_train = shuffle(X_train, Y_train, random_state=1207)\n",
    "    # train model\n",
    "    lasso_search.fit(X_train, Y_train)\n",
    "    print('Best params: {}'.format(lasso_search.best_params_))\n",
    "    # predict\n",
    "    Y_pred = lasso_search.predict(X_val)\n",
    "    mse = mean_squared_error(Y_val, Y_pred)\n",
    "    print('MSE: {}'.format(mse))\n",
    "    r2 = lasso_search.score(X_val, Y_val)\n",
    "    print('R^2: {}'.format(r2))\n",
    "    res.loc[c, 'LASSO Regression'] = r2\n",
    "    print()"
   ]
  },
  {
   "cell_type": "code",
   "execution_count": 14,
   "metadata": {},
   "outputs": [],
   "source": [
    "# save csv\n",
    "res.to_csv('./pred_res.csv', index=False)"
   ]
  },
  {
   "cell_type": "markdown",
   "metadata": {},
   "source": [
    "## AdaBoost Regression"
   ]
  },
  {
   "cell_type": "code",
   "execution_count": 15,
   "metadata": {},
   "outputs": [],
   "source": [
    "from sklearn.ensemble import AdaBoostRegressor"
   ]
  },
  {
   "cell_type": "code",
   "execution_count": 16,
   "metadata": {},
   "outputs": [],
   "source": [
    "# set pipeline\n",
    "pipeline = Pipeline([('scaler', StandardScaler()),\n",
    "                     ('ada', AdaBoostRegressor())])"
   ]
  },
  {
   "cell_type": "code",
   "execution_count": 17,
   "metadata": {},
   "outputs": [],
   "source": [
    "# set grid search\n",
    "params = {'ada__n_estimators': [10, 50, 100],\n",
    "          'ada__learning_rate' : [0.01, 0.05, 0.1, 0.5],\n",
    "          'ada__loss' : ['linear', 'square', 'exponential']}\n",
    "ada_search = GridSearchCV(pipeline, params, cv=3, verbose=2, n_jobs=-1)"
   ]
  },
  {
   "cell_type": "code",
   "execution_count": 18,
   "metadata": {
    "scrolled": false
   },
   "outputs": [
    {
     "name": "stdout",
     "output_type": "stream",
     "text": [
      "For cluster 0:\n",
      "Fitting 3 folds for each of 36 candidates, totalling 108 fits\n"
     ]
    },
    {
     "name": "stderr",
     "output_type": "stream",
     "text": [
      "[Parallel(n_jobs=-1)]: Using backend LokyBackend with 8 concurrent workers.\n",
      "[Parallel(n_jobs=-1)]: Done  25 tasks      | elapsed:    8.1s\n",
      "[Parallel(n_jobs=-1)]: Done 108 out of 108 | elapsed:   30.9s finished\n"
     ]
    },
    {
     "name": "stdout",
     "output_type": "stream",
     "text": [
      "Best params: {'ada__learning_rate': 0.5, 'ada__loss': 'linear', 'ada__n_estimators': 100}\n",
      "MSE: 47.796395972847264\n",
      "R^2: 0.4652119841544613\n",
      "\n",
      "For cluster 1:\n",
      "Fitting 3 folds for each of 36 candidates, totalling 108 fits\n"
     ]
    },
    {
     "name": "stderr",
     "output_type": "stream",
     "text": [
      "[Parallel(n_jobs=-1)]: Using backend LokyBackend with 8 concurrent workers.\n",
      "[Parallel(n_jobs=-1)]: Done  25 tasks      | elapsed:    6.8s\n",
      "[Parallel(n_jobs=-1)]: Done 108 out of 108 | elapsed:   28.4s finished\n"
     ]
    },
    {
     "name": "stdout",
     "output_type": "stream",
     "text": [
      "Best params: {'ada__learning_rate': 0.01, 'ada__loss': 'exponential', 'ada__n_estimators': 50}\n",
      "MSE: 49.89889009189856\n",
      "R^2: 0.34846722025899746\n",
      "\n",
      "For cluster 2:\n",
      "Fitting 3 folds for each of 36 candidates, totalling 108 fits\n"
     ]
    },
    {
     "name": "stderr",
     "output_type": "stream",
     "text": [
      "[Parallel(n_jobs=-1)]: Using backend LokyBackend with 8 concurrent workers.\n",
      "[Parallel(n_jobs=-1)]: Done  25 tasks      | elapsed:    7.2s\n",
      "[Parallel(n_jobs=-1)]: Done 108 out of 108 | elapsed:   31.2s finished\n"
     ]
    },
    {
     "name": "stdout",
     "output_type": "stream",
     "text": [
      "Best params: {'ada__learning_rate': 0.5, 'ada__loss': 'linear', 'ada__n_estimators': 50}\n",
      "MSE: 10.325503651912086\n",
      "R^2: 0.41138687008544217\n",
      "\n",
      "For cluster 3:\n",
      "Fitting 3 folds for each of 36 candidates, totalling 108 fits\n"
     ]
    },
    {
     "name": "stderr",
     "output_type": "stream",
     "text": [
      "[Parallel(n_jobs=-1)]: Using backend LokyBackend with 8 concurrent workers.\n",
      "[Parallel(n_jobs=-1)]: Done  25 tasks      | elapsed:    7.6s\n",
      "[Parallel(n_jobs=-1)]: Done 108 out of 108 | elapsed:   29.1s finished\n"
     ]
    },
    {
     "name": "stdout",
     "output_type": "stream",
     "text": [
      "Best params: {'ada__learning_rate': 0.01, 'ada__loss': 'exponential', 'ada__n_estimators': 10}\n",
      "MSE: 1.4193373996846006\n",
      "R^2: 0.028924812243522724\n",
      "\n",
      "For cluster 4:\n",
      "Fitting 3 folds for each of 36 candidates, totalling 108 fits\n"
     ]
    },
    {
     "name": "stderr",
     "output_type": "stream",
     "text": [
      "[Parallel(n_jobs=-1)]: Using backend LokyBackend with 8 concurrent workers.\n",
      "[Parallel(n_jobs=-1)]: Done  25 tasks      | elapsed:    6.6s\n",
      "[Parallel(n_jobs=-1)]: Done 108 out of 108 | elapsed:   27.7s finished\n"
     ]
    },
    {
     "name": "stdout",
     "output_type": "stream",
     "text": [
      "Best params: {'ada__learning_rate': 0.5, 'ada__loss': 'linear', 'ada__n_estimators': 10}\n",
      "MSE: 460.92882209739497\n",
      "R^2: 0.6267264339372713\n",
      "\n",
      "For cluster 5:\n",
      "Fitting 3 folds for each of 36 candidates, totalling 108 fits\n"
     ]
    },
    {
     "name": "stderr",
     "output_type": "stream",
     "text": [
      "[Parallel(n_jobs=-1)]: Using backend LokyBackend with 8 concurrent workers.\n",
      "[Parallel(n_jobs=-1)]: Done  25 tasks      | elapsed:    6.9s\n",
      "[Parallel(n_jobs=-1)]: Done 108 out of 108 | elapsed:   28.1s finished\n"
     ]
    },
    {
     "name": "stdout",
     "output_type": "stream",
     "text": [
      "Best params: {'ada__learning_rate': 0.1, 'ada__loss': 'exponential', 'ada__n_estimators': 100}\n",
      "MSE: 30.67338887757287\n",
      "R^2: 0.33769012749287275\n",
      "\n",
      "For cluster 6:\n",
      "Fitting 3 folds for each of 36 candidates, totalling 108 fits\n"
     ]
    },
    {
     "name": "stderr",
     "output_type": "stream",
     "text": [
      "[Parallel(n_jobs=-1)]: Using backend LokyBackend with 8 concurrent workers.\n",
      "[Parallel(n_jobs=-1)]: Done  25 tasks      | elapsed:    7.5s\n",
      "[Parallel(n_jobs=-1)]: Done 108 out of 108 | elapsed:   32.8s finished\n"
     ]
    },
    {
     "name": "stdout",
     "output_type": "stream",
     "text": [
      "Best params: {'ada__learning_rate': 0.05, 'ada__loss': 'square', 'ada__n_estimators': 100}\n",
      "MSE: 22.281103338769118\n",
      "R^2: 0.5601854521609292\n",
      "\n",
      "For cluster 7:\n",
      "Fitting 3 folds for each of 36 candidates, totalling 108 fits\n"
     ]
    },
    {
     "name": "stderr",
     "output_type": "stream",
     "text": [
      "[Parallel(n_jobs=-1)]: Using backend LokyBackend with 8 concurrent workers.\n",
      "[Parallel(n_jobs=-1)]: Done  25 tasks      | elapsed:    7.7s\n",
      "[Parallel(n_jobs=-1)]: Done 108 out of 108 | elapsed:   29.5s finished\n"
     ]
    },
    {
     "name": "stdout",
     "output_type": "stream",
     "text": [
      "Best params: {'ada__learning_rate': 0.01, 'ada__loss': 'exponential', 'ada__n_estimators': 100}\n",
      "MSE: 11.752243300452758\n",
      "R^2: 0.1603916304186216\n",
      "\n",
      "For cluster 8:\n",
      "Fitting 3 folds for each of 36 candidates, totalling 108 fits\n"
     ]
    },
    {
     "name": "stderr",
     "output_type": "stream",
     "text": [
      "[Parallel(n_jobs=-1)]: Using backend LokyBackend with 8 concurrent workers.\n",
      "[Parallel(n_jobs=-1)]: Done  25 tasks      | elapsed:    7.7s\n",
      "[Parallel(n_jobs=-1)]: Done 108 out of 108 | elapsed:   31.3s finished\n"
     ]
    },
    {
     "name": "stdout",
     "output_type": "stream",
     "text": [
      "Best params: {'ada__learning_rate': 0.05, 'ada__loss': 'square', 'ada__n_estimators': 100}\n",
      "MSE: 35.19568641000064\n",
      "R^2: 0.5340016716839968\n",
      "\n",
      "For cluster 9:\n",
      "Fitting 3 folds for each of 36 candidates, totalling 108 fits\n"
     ]
    },
    {
     "name": "stderr",
     "output_type": "stream",
     "text": [
      "[Parallel(n_jobs=-1)]: Using backend LokyBackend with 8 concurrent workers.\n",
      "[Parallel(n_jobs=-1)]: Done  25 tasks      | elapsed:    6.8s\n",
      "[Parallel(n_jobs=-1)]: Done 108 out of 108 | elapsed:   31.2s finished\n"
     ]
    },
    {
     "name": "stdout",
     "output_type": "stream",
     "text": [
      "Best params: {'ada__learning_rate': 0.5, 'ada__loss': 'linear', 'ada__n_estimators': 100}\n",
      "MSE: 34.92607951070651\n",
      "R^2: 0.5750583502929352\n",
      "\n",
      "For cluster 10:\n",
      "Fitting 3 folds for each of 36 candidates, totalling 108 fits\n"
     ]
    },
    {
     "name": "stderr",
     "output_type": "stream",
     "text": [
      "[Parallel(n_jobs=-1)]: Using backend LokyBackend with 8 concurrent workers.\n",
      "[Parallel(n_jobs=-1)]: Done  25 tasks      | elapsed:    8.1s\n",
      "[Parallel(n_jobs=-1)]: Done 108 out of 108 | elapsed:   31.9s finished\n"
     ]
    },
    {
     "name": "stdout",
     "output_type": "stream",
     "text": [
      "Best params: {'ada__learning_rate': 0.1, 'ada__loss': 'exponential', 'ada__n_estimators': 50}\n",
      "MSE: 1.0390409122458784\n",
      "R^2: -0.018784404679191402\n",
      "\n",
      "For cluster 11:\n",
      "Fitting 3 folds for each of 36 candidates, totalling 108 fits\n"
     ]
    },
    {
     "name": "stderr",
     "output_type": "stream",
     "text": [
      "[Parallel(n_jobs=-1)]: Using backend LokyBackend with 8 concurrent workers.\n",
      "[Parallel(n_jobs=-1)]: Done  25 tasks      | elapsed:    7.4s\n",
      "[Parallel(n_jobs=-1)]: Done 108 out of 108 | elapsed:   31.1s finished\n"
     ]
    },
    {
     "name": "stdout",
     "output_type": "stream",
     "text": [
      "Best params: {'ada__learning_rate': 0.5, 'ada__loss': 'linear', 'ada__n_estimators': 50}\n",
      "MSE: 2.908217794682077\n",
      "R^2: 0.34735863610641415\n",
      "\n",
      "For cluster 12:\n",
      "Fitting 3 folds for each of 36 candidates, totalling 108 fits\n"
     ]
    },
    {
     "name": "stderr",
     "output_type": "stream",
     "text": [
      "[Parallel(n_jobs=-1)]: Using backend LokyBackend with 8 concurrent workers.\n",
      "[Parallel(n_jobs=-1)]: Done  25 tasks      | elapsed:    7.6s\n",
      "[Parallel(n_jobs=-1)]: Done 108 out of 108 | elapsed:   32.0s finished\n"
     ]
    },
    {
     "name": "stdout",
     "output_type": "stream",
     "text": [
      "Best params: {'ada__learning_rate': 0.5, 'ada__loss': 'exponential', 'ada__n_estimators': 50}\n",
      "MSE: 42.65256960771316\n",
      "R^2: 0.31490847943461986\n",
      "\n",
      "For cluster 13:\n",
      "Fitting 3 folds for each of 36 candidates, totalling 108 fits\n"
     ]
    },
    {
     "name": "stderr",
     "output_type": "stream",
     "text": [
      "[Parallel(n_jobs=-1)]: Using backend LokyBackend with 8 concurrent workers.\n",
      "[Parallel(n_jobs=-1)]: Done  25 tasks      | elapsed:    8.1s\n",
      "[Parallel(n_jobs=-1)]: Done 108 out of 108 | elapsed:   32.0s finished\n"
     ]
    },
    {
     "name": "stdout",
     "output_type": "stream",
     "text": [
      "Best params: {'ada__learning_rate': 0.1, 'ada__loss': 'exponential', 'ada__n_estimators': 100}\n",
      "MSE: 22.746536375281714\n",
      "R^2: 0.509177937992563\n",
      "\n",
      "For cluster 14:\n",
      "Fitting 3 folds for each of 36 candidates, totalling 108 fits\n"
     ]
    },
    {
     "name": "stderr",
     "output_type": "stream",
     "text": [
      "[Parallel(n_jobs=-1)]: Using backend LokyBackend with 8 concurrent workers.\n",
      "[Parallel(n_jobs=-1)]: Done  25 tasks      | elapsed:    7.8s\n",
      "[Parallel(n_jobs=-1)]: Done 108 out of 108 | elapsed:   32.3s finished\n"
     ]
    },
    {
     "name": "stdout",
     "output_type": "stream",
     "text": [
      "Best params: {'ada__learning_rate': 0.05, 'ada__loss': 'exponential', 'ada__n_estimators': 50}\n",
      "MSE: 21.474242960465464\n",
      "R^2: 0.12682277500963324\n",
      "\n",
      "For cluster 15:\n",
      "Fitting 3 folds for each of 36 candidates, totalling 108 fits\n"
     ]
    },
    {
     "name": "stderr",
     "output_type": "stream",
     "text": [
      "[Parallel(n_jobs=-1)]: Using backend LokyBackend with 8 concurrent workers.\n",
      "[Parallel(n_jobs=-1)]: Done  25 tasks      | elapsed:    7.8s\n",
      "[Parallel(n_jobs=-1)]: Done 108 out of 108 | elapsed:   31.9s finished\n"
     ]
    },
    {
     "name": "stdout",
     "output_type": "stream",
     "text": [
      "Best params: {'ada__learning_rate': 0.1, 'ada__loss': 'square', 'ada__n_estimators': 50}\n",
      "MSE: 5.169154380064571\n",
      "R^2: 0.33617599116586594\n",
      "\n",
      "For cluster 16:\n",
      "Fitting 3 folds for each of 36 candidates, totalling 108 fits\n"
     ]
    },
    {
     "name": "stderr",
     "output_type": "stream",
     "text": [
      "[Parallel(n_jobs=-1)]: Using backend LokyBackend with 8 concurrent workers.\n",
      "[Parallel(n_jobs=-1)]: Done  25 tasks      | elapsed:    7.4s\n",
      "[Parallel(n_jobs=-1)]: Done 108 out of 108 | elapsed:   31.4s finished\n"
     ]
    },
    {
     "name": "stdout",
     "output_type": "stream",
     "text": [
      "Best params: {'ada__learning_rate': 0.01, 'ada__loss': 'exponential', 'ada__n_estimators': 10}\n",
      "MSE: 26.951419937064077\n",
      "R^2: 0.22249760999816315\n",
      "\n",
      "For cluster 17:\n",
      "Fitting 3 folds for each of 36 candidates, totalling 108 fits\n"
     ]
    },
    {
     "name": "stderr",
     "output_type": "stream",
     "text": [
      "[Parallel(n_jobs=-1)]: Using backend LokyBackend with 8 concurrent workers.\n",
      "[Parallel(n_jobs=-1)]: Done  25 tasks      | elapsed:    7.7s\n",
      "[Parallel(n_jobs=-1)]: Done 108 out of 108 | elapsed:   30.8s finished\n"
     ]
    },
    {
     "name": "stdout",
     "output_type": "stream",
     "text": [
      "Best params: {'ada__learning_rate': 0.5, 'ada__loss': 'exponential', 'ada__n_estimators': 10}\n",
      "MSE: 53.9884827807517\n",
      "R^2: 0.5117965970121217\n",
      "\n",
      "For cluster 18:\n",
      "Fitting 3 folds for each of 36 candidates, totalling 108 fits\n"
     ]
    },
    {
     "name": "stderr",
     "output_type": "stream",
     "text": [
      "[Parallel(n_jobs=-1)]: Using backend LokyBackend with 8 concurrent workers.\n",
      "[Parallel(n_jobs=-1)]: Done  25 tasks      | elapsed:    7.8s\n",
      "[Parallel(n_jobs=-1)]: Done 108 out of 108 | elapsed:   31.9s finished\n"
     ]
    },
    {
     "name": "stdout",
     "output_type": "stream",
     "text": [
      "Best params: {'ada__learning_rate': 0.5, 'ada__loss': 'linear', 'ada__n_estimators': 10}\n",
      "MSE: 54.51300480738128\n",
      "R^2: 0.5411254757454654\n",
      "\n",
      "For cluster 19:\n",
      "Fitting 3 folds for each of 36 candidates, totalling 108 fits\n"
     ]
    },
    {
     "name": "stderr",
     "output_type": "stream",
     "text": [
      "[Parallel(n_jobs=-1)]: Using backend LokyBackend with 8 concurrent workers.\n",
      "[Parallel(n_jobs=-1)]: Done  25 tasks      | elapsed:    7.3s\n",
      "[Parallel(n_jobs=-1)]: Done 108 out of 108 | elapsed:   29.6s finished\n"
     ]
    },
    {
     "name": "stdout",
     "output_type": "stream",
     "text": [
      "Best params: {'ada__learning_rate': 0.05, 'ada__loss': 'square', 'ada__n_estimators': 100}\n",
      "MSE: 13.633064880684076\n",
      "R^2: 0.4942679098122541\n",
      "\n",
      "For cluster 20:\n",
      "Fitting 3 folds for each of 36 candidates, totalling 108 fits\n"
     ]
    },
    {
     "name": "stderr",
     "output_type": "stream",
     "text": [
      "[Parallel(n_jobs=-1)]: Using backend LokyBackend with 8 concurrent workers.\n",
      "[Parallel(n_jobs=-1)]: Done  25 tasks      | elapsed:    6.8s\n",
      "[Parallel(n_jobs=-1)]: Done 108 out of 108 | elapsed:   29.7s finished\n"
     ]
    },
    {
     "name": "stdout",
     "output_type": "stream",
     "text": [
      "Best params: {'ada__learning_rate': 0.05, 'ada__loss': 'exponential', 'ada__n_estimators': 100}\n",
      "MSE: 2.3334224148349323\n",
      "R^2: 0.354893992367882\n",
      "\n",
      "For cluster 21:\n",
      "Fitting 3 folds for each of 36 candidates, totalling 108 fits\n"
     ]
    },
    {
     "name": "stderr",
     "output_type": "stream",
     "text": [
      "[Parallel(n_jobs=-1)]: Using backend LokyBackend with 8 concurrent workers.\n",
      "[Parallel(n_jobs=-1)]: Done  25 tasks      | elapsed:    7.6s\n",
      "[Parallel(n_jobs=-1)]: Done 108 out of 108 | elapsed:   30.1s finished\n"
     ]
    },
    {
     "name": "stdout",
     "output_type": "stream",
     "text": [
      "Best params: {'ada__learning_rate': 0.1, 'ada__loss': 'exponential', 'ada__n_estimators': 10}\n",
      "MSE: 0.38738146994560896\n",
      "R^2: 0.04798854488091231\n",
      "\n",
      "For cluster 22:\n",
      "Fitting 3 folds for each of 36 candidates, totalling 108 fits\n"
     ]
    },
    {
     "name": "stderr",
     "output_type": "stream",
     "text": [
      "[Parallel(n_jobs=-1)]: Using backend LokyBackend with 8 concurrent workers.\n",
      "[Parallel(n_jobs=-1)]: Done  25 tasks      | elapsed:    7.0s\n",
      "[Parallel(n_jobs=-1)]: Done 108 out of 108 | elapsed:   29.2s finished\n"
     ]
    },
    {
     "name": "stdout",
     "output_type": "stream",
     "text": [
      "Best params: {'ada__learning_rate': 0.05, 'ada__loss': 'exponential', 'ada__n_estimators': 100}\n",
      "MSE: 49.50446022252421\n",
      "R^2: 0.13723628412889044\n",
      "\n",
      "For cluster 23:\n",
      "Fitting 3 folds for each of 36 candidates, totalling 108 fits\n"
     ]
    },
    {
     "name": "stderr",
     "output_type": "stream",
     "text": [
      "[Parallel(n_jobs=-1)]: Using backend LokyBackend with 8 concurrent workers.\n",
      "[Parallel(n_jobs=-1)]: Done  25 tasks      | elapsed:    7.1s\n",
      "[Parallel(n_jobs=-1)]: Done 108 out of 108 | elapsed:   28.7s finished\n"
     ]
    },
    {
     "name": "stdout",
     "output_type": "stream",
     "text": [
      "Best params: {'ada__learning_rate': 0.5, 'ada__loss': 'exponential', 'ada__n_estimators': 10}\n",
      "MSE: 54.05639444449186\n",
      "R^2: 0.4350096388685383\n",
      "\n",
      "For cluster 24:\n",
      "Fitting 3 folds for each of 36 candidates, totalling 108 fits\n"
     ]
    },
    {
     "name": "stderr",
     "output_type": "stream",
     "text": [
      "[Parallel(n_jobs=-1)]: Using backend LokyBackend with 8 concurrent workers.\n",
      "[Parallel(n_jobs=-1)]: Done  25 tasks      | elapsed:    7.5s\n",
      "[Parallel(n_jobs=-1)]: Done 108 out of 108 | elapsed:   31.6s finished\n"
     ]
    },
    {
     "name": "stdout",
     "output_type": "stream",
     "text": [
      "Best params: {'ada__learning_rate': 0.5, 'ada__loss': 'linear', 'ada__n_estimators': 100}\n",
      "MSE: 7.044146112121688\n",
      "R^2: 0.42702298911568104\n",
      "\n",
      "For cluster 25:\n",
      "Fitting 3 folds for each of 36 candidates, totalling 108 fits\n"
     ]
    },
    {
     "name": "stderr",
     "output_type": "stream",
     "text": [
      "[Parallel(n_jobs=-1)]: Using backend LokyBackend with 8 concurrent workers.\n",
      "[Parallel(n_jobs=-1)]: Done  25 tasks      | elapsed:    7.9s\n",
      "[Parallel(n_jobs=-1)]: Done 108 out of 108 | elapsed:   30.8s finished\n"
     ]
    },
    {
     "name": "stdout",
     "output_type": "stream",
     "text": [
      "Best params: {'ada__learning_rate': 0.05, 'ada__loss': 'exponential', 'ada__n_estimators': 100}\n",
      "MSE: 4.917820661324148\n",
      "R^2: 0.27494012701471326\n",
      "\n",
      "For cluster 26:\n",
      "Fitting 3 folds for each of 36 candidates, totalling 108 fits\n"
     ]
    },
    {
     "name": "stderr",
     "output_type": "stream",
     "text": [
      "[Parallel(n_jobs=-1)]: Using backend LokyBackend with 8 concurrent workers.\n",
      "[Parallel(n_jobs=-1)]: Done  25 tasks      | elapsed:    6.8s\n",
      "[Parallel(n_jobs=-1)]: Done 108 out of 108 | elapsed:   29.5s finished\n"
     ]
    },
    {
     "name": "stdout",
     "output_type": "stream",
     "text": [
      "Best params: {'ada__learning_rate': 0.1, 'ada__loss': 'exponential', 'ada__n_estimators': 50}\n",
      "MSE: 47.95734091019143\n",
      "R^2: 0.2751979202723486\n",
      "\n",
      "For cluster 27:\n",
      "Fitting 3 folds for each of 36 candidates, totalling 108 fits\n"
     ]
    },
    {
     "name": "stderr",
     "output_type": "stream",
     "text": [
      "[Parallel(n_jobs=-1)]: Using backend LokyBackend with 8 concurrent workers.\n",
      "[Parallel(n_jobs=-1)]: Done  25 tasks      | elapsed:    7.3s\n",
      "[Parallel(n_jobs=-1)]: Done 108 out of 108 | elapsed:   30.0s finished\n"
     ]
    },
    {
     "name": "stdout",
     "output_type": "stream",
     "text": [
      "Best params: {'ada__learning_rate': 0.05, 'ada__loss': 'exponential', 'ada__n_estimators': 100}\n",
      "MSE: 29.844730111952707\n",
      "R^2: 0.34878955281492563\n",
      "\n",
      "For cluster 28:\n",
      "Fitting 3 folds for each of 36 candidates, totalling 108 fits\n"
     ]
    },
    {
     "name": "stderr",
     "output_type": "stream",
     "text": [
      "[Parallel(n_jobs=-1)]: Using backend LokyBackend with 8 concurrent workers.\n",
      "[Parallel(n_jobs=-1)]: Done  25 tasks      | elapsed:    7.6s\n",
      "[Parallel(n_jobs=-1)]: Done 108 out of 108 | elapsed:   31.5s finished\n"
     ]
    },
    {
     "name": "stdout",
     "output_type": "stream",
     "text": [
      "Best params: {'ada__learning_rate': 0.05, 'ada__loss': 'linear', 'ada__n_estimators': 50}\n",
      "MSE: 21.53750114568413\n",
      "R^2: 0.18172943945320774\n",
      "\n",
      "For cluster 29:\n",
      "Fitting 3 folds for each of 36 candidates, totalling 108 fits\n"
     ]
    },
    {
     "name": "stderr",
     "output_type": "stream",
     "text": [
      "[Parallel(n_jobs=-1)]: Using backend LokyBackend with 8 concurrent workers.\n",
      "[Parallel(n_jobs=-1)]: Done  25 tasks      | elapsed:    7.1s\n",
      "[Parallel(n_jobs=-1)]: Done 108 out of 108 | elapsed:   28.8s finished\n"
     ]
    },
    {
     "name": "stdout",
     "output_type": "stream",
     "text": [
      "Best params: {'ada__learning_rate': 0.05, 'ada__loss': 'linear', 'ada__n_estimators': 10}\n",
      "MSE: 2.698749594775771\n",
      "R^2: 0.0009105035737622114\n",
      "\n"
     ]
    }
   ],
   "source": [
    "res['AdaBoost Regression'] = 0\n",
    "for c in dfs:\n",
    "    print('For cluster {}:'.format(c))\n",
    "    # train test split\n",
    "    df_train, df_val = train_test_split(dfs[c], test_size=0.2, random_state=1207)\n",
    "    # get X Y\n",
    "    X_train = df_train.drop(columns=['Checkin per Hour', 'Checkout per Hour'])\n",
    "    Y_train = df_train['Checkin per Hour'] - df_train['Checkout per Hour']\n",
    "    X_val = df_val.drop(columns=['Checkin per Hour', 'Checkout per Hour'])\n",
    "    Y_val = df_val['Checkin per Hour'] - df_val['Checkout per Hour']\n",
    "    # shuffle\n",
    "    X_train, Y_train = shuffle(X_train, Y_train, random_state=1207)\n",
    "    # train model\n",
    "    ada_search.fit(X_train, Y_train)\n",
    "    print('Best params: {}'.format(ada_search.best_params_))\n",
    "    # predict\n",
    "    Y_pred = ada_search.predict(X_val)\n",
    "    mse = mean_squared_error(Y_val, Y_pred)\n",
    "    print('MSE: {}'.format(mse))\n",
    "    r2 = ada_search.score(X_val, Y_val)\n",
    "    print('R^2: {}'.format(r2))\n",
    "    res.loc[c, 'AdaBoost Regression'] = r2\n",
    "    print()"
   ]
  },
  {
   "cell_type": "code",
   "execution_count": 19,
   "metadata": {},
   "outputs": [],
   "source": [
    "# save csv\n",
    "res.to_csv('./pred_res.csv', index=False)"
   ]
  },
  {
   "cell_type": "markdown",
   "metadata": {},
   "source": [
    "## KNN"
   ]
  },
  {
   "cell_type": "code",
   "execution_count": 20,
   "metadata": {},
   "outputs": [],
   "source": [
    "from sklearn.neighbors import KNeighborsRegressor"
   ]
  },
  {
   "cell_type": "code",
   "execution_count": 21,
   "metadata": {},
   "outputs": [],
   "source": [
    "# set pipeline\n",
    "pipeline = Pipeline([('scaler', StandardScaler()),\n",
    "                     ('knn', KNeighborsRegressor())])"
   ]
  },
  {
   "cell_type": "code",
   "execution_count": 22,
   "metadata": {},
   "outputs": [],
   "source": [
    "# set grid search\n",
    "params = {'knn__n_neighbors': [3, 5, 11, 19, 23, 29],\n",
    "          'knn__weights': ['uniform', 'distance'],\n",
    "          'knn__metric': ['euclidean', 'manhattan']}\n",
    "knn_search = GridSearchCV(pipeline, params, cv=3, verbose=2, n_jobs=-1)"
   ]
  },
  {
   "cell_type": "code",
   "execution_count": 23,
   "metadata": {
    "scrolled": false
   },
   "outputs": [
    {
     "name": "stdout",
     "output_type": "stream",
     "text": [
      "For cluster 0:\n",
      "Fitting 3 folds for each of 24 candidates, totalling 72 fits\n"
     ]
    },
    {
     "name": "stderr",
     "output_type": "stream",
     "text": [
      "[Parallel(n_jobs=-1)]: Using backend LokyBackend with 8 concurrent workers.\n",
      "[Parallel(n_jobs=-1)]: Done  25 tasks      | elapsed:    8.1s\n",
      "[Parallel(n_jobs=-1)]: Done  72 out of  72 | elapsed:   22.9s finished\n"
     ]
    },
    {
     "name": "stdout",
     "output_type": "stream",
     "text": [
      "Best params: {'knn__metric': 'euclidean', 'knn__n_neighbors': 19, 'knn__weights': 'distance'}\n",
      "MSE: 37.39444612918919\n",
      "R^2: 0.5815981259249603\n",
      "\n",
      "For cluster 1:\n",
      "Fitting 3 folds for each of 24 candidates, totalling 72 fits\n"
     ]
    },
    {
     "name": "stderr",
     "output_type": "stream",
     "text": [
      "[Parallel(n_jobs=-1)]: Using backend LokyBackend with 8 concurrent workers.\n",
      "[Parallel(n_jobs=-1)]: Done  25 tasks      | elapsed:    7.8s\n",
      "[Parallel(n_jobs=-1)]: Done  72 out of  72 | elapsed:   22.4s finished\n"
     ]
    },
    {
     "name": "stdout",
     "output_type": "stream",
     "text": [
      "Best params: {'knn__metric': 'euclidean', 'knn__n_neighbors': 23, 'knn__weights': 'distance'}\n",
      "MSE: 45.162115993807326\n",
      "R^2: 0.41031556176420503\n",
      "\n",
      "For cluster 2:\n",
      "Fitting 3 folds for each of 24 candidates, totalling 72 fits\n"
     ]
    },
    {
     "name": "stderr",
     "output_type": "stream",
     "text": [
      "[Parallel(n_jobs=-1)]: Using backend LokyBackend with 8 concurrent workers.\n",
      "[Parallel(n_jobs=-1)]: Done  25 tasks      | elapsed:    8.4s\n",
      "[Parallel(n_jobs=-1)]: Done  72 out of  72 | elapsed:   23.7s finished\n"
     ]
    },
    {
     "name": "stdout",
     "output_type": "stream",
     "text": [
      "Best params: {'knn__metric': 'manhattan', 'knn__n_neighbors': 19, 'knn__weights': 'distance'}\n",
      "MSE: 6.620136438327258\n",
      "R^2: 0.6226141251033671\n",
      "\n",
      "For cluster 3:\n",
      "Fitting 3 folds for each of 24 candidates, totalling 72 fits\n"
     ]
    },
    {
     "name": "stderr",
     "output_type": "stream",
     "text": [
      "[Parallel(n_jobs=-1)]: Using backend LokyBackend with 8 concurrent workers.\n",
      "[Parallel(n_jobs=-1)]: Done  25 tasks      | elapsed:    9.5s\n",
      "[Parallel(n_jobs=-1)]: Done  72 out of  72 | elapsed:   23.9s finished\n"
     ]
    },
    {
     "name": "stdout",
     "output_type": "stream",
     "text": [
      "Best params: {'knn__metric': 'manhattan', 'knn__n_neighbors': 29, 'knn__weights': 'uniform'}\n",
      "MSE: 1.3801023732347335\n",
      "R^2: 0.05576843708205759\n",
      "\n",
      "For cluster 4:\n",
      "Fitting 3 folds for each of 24 candidates, totalling 72 fits\n"
     ]
    },
    {
     "name": "stderr",
     "output_type": "stream",
     "text": [
      "[Parallel(n_jobs=-1)]: Using backend LokyBackend with 8 concurrent workers.\n",
      "[Parallel(n_jobs=-1)]: Done  25 tasks      | elapsed:    8.7s\n",
      "[Parallel(n_jobs=-1)]: Done  72 out of  72 | elapsed:   22.2s finished\n"
     ]
    },
    {
     "name": "stdout",
     "output_type": "stream",
     "text": [
      "Best params: {'knn__metric': 'euclidean', 'knn__n_neighbors': 11, 'knn__weights': 'distance'}\n",
      "MSE: 154.43880647457502\n",
      "R^2: 0.8749309627267023\n",
      "\n",
      "For cluster 5:\n",
      "Fitting 3 folds for each of 24 candidates, totalling 72 fits\n"
     ]
    },
    {
     "name": "stderr",
     "output_type": "stream",
     "text": [
      "[Parallel(n_jobs=-1)]: Using backend LokyBackend with 8 concurrent workers.\n",
      "[Parallel(n_jobs=-1)]: Done  25 tasks      | elapsed:    8.5s\n",
      "[Parallel(n_jobs=-1)]: Done  72 out of  72 | elapsed:   22.4s finished\n"
     ]
    },
    {
     "name": "stdout",
     "output_type": "stream",
     "text": [
      "Best params: {'knn__metric': 'euclidean', 'knn__n_neighbors': 23, 'knn__weights': 'distance'}\n",
      "MSE: 24.186632641596628\n",
      "R^2: 0.4777542955827402\n",
      "\n",
      "For cluster 6:\n",
      "Fitting 3 folds for each of 24 candidates, totalling 72 fits\n"
     ]
    },
    {
     "name": "stderr",
     "output_type": "stream",
     "text": [
      "[Parallel(n_jobs=-1)]: Using backend LokyBackend with 8 concurrent workers.\n",
      "[Parallel(n_jobs=-1)]: Done  25 tasks      | elapsed:    8.4s\n",
      "[Parallel(n_jobs=-1)]: Done  72 out of  72 | elapsed:   20.9s finished\n"
     ]
    },
    {
     "name": "stdout",
     "output_type": "stream",
     "text": [
      "Best params: {'knn__metric': 'euclidean', 'knn__n_neighbors': 19, 'knn__weights': 'distance'}\n",
      "MSE: 18.51303993134467\n",
      "R^2: 0.634564583147756\n",
      "\n",
      "For cluster 7:\n",
      "Fitting 3 folds for each of 24 candidates, totalling 72 fits\n"
     ]
    },
    {
     "name": "stderr",
     "output_type": "stream",
     "text": [
      "[Parallel(n_jobs=-1)]: Using backend LokyBackend with 8 concurrent workers.\n",
      "[Parallel(n_jobs=-1)]: Done  25 tasks      | elapsed:    8.8s\n",
      "[Parallel(n_jobs=-1)]: Done  72 out of  72 | elapsed:   24.4s finished\n"
     ]
    },
    {
     "name": "stdout",
     "output_type": "stream",
     "text": [
      "Best params: {'knn__metric': 'euclidean', 'knn__n_neighbors': 29, 'knn__weights': 'distance'}\n",
      "MSE: 9.666494813016262\n",
      "R^2: 0.3094024909090537\n",
      "\n",
      "For cluster 8:\n",
      "Fitting 3 folds for each of 24 candidates, totalling 72 fits\n"
     ]
    },
    {
     "name": "stderr",
     "output_type": "stream",
     "text": [
      "[Parallel(n_jobs=-1)]: Using backend LokyBackend with 8 concurrent workers.\n",
      "[Parallel(n_jobs=-1)]: Done  25 tasks      | elapsed:    9.3s\n",
      "[Parallel(n_jobs=-1)]: Done  72 out of  72 | elapsed:   24.2s finished\n"
     ]
    },
    {
     "name": "stdout",
     "output_type": "stream",
     "text": [
      "Best params: {'knn__metric': 'euclidean', 'knn__n_neighbors': 19, 'knn__weights': 'distance'}\n",
      "MSE: 26.699167199497328\n",
      "R^2: 0.6464973821661291\n",
      "\n",
      "For cluster 9:\n",
      "Fitting 3 folds for each of 24 candidates, totalling 72 fits\n"
     ]
    },
    {
     "name": "stderr",
     "output_type": "stream",
     "text": [
      "[Parallel(n_jobs=-1)]: Using backend LokyBackend with 8 concurrent workers.\n",
      "[Parallel(n_jobs=-1)]: Done  25 tasks      | elapsed:    8.4s\n",
      "[Parallel(n_jobs=-1)]: Done  72 out of  72 | elapsed:   22.8s finished\n"
     ]
    },
    {
     "name": "stdout",
     "output_type": "stream",
     "text": [
      "Best params: {'knn__metric': 'euclidean', 'knn__n_neighbors': 19, 'knn__weights': 'distance'}\n",
      "MSE: 21.382450789041922\n",
      "R^2: 0.7398421454578026\n",
      "\n",
      "For cluster 10:\n",
      "Fitting 3 folds for each of 24 candidates, totalling 72 fits\n"
     ]
    },
    {
     "name": "stderr",
     "output_type": "stream",
     "text": [
      "[Parallel(n_jobs=-1)]: Using backend LokyBackend with 8 concurrent workers.\n",
      "[Parallel(n_jobs=-1)]: Done  25 tasks      | elapsed:    8.0s\n",
      "[Parallel(n_jobs=-1)]: Done  72 out of  72 | elapsed:   21.9s finished\n"
     ]
    },
    {
     "name": "stdout",
     "output_type": "stream",
     "text": [
      "Best params: {'knn__metric': 'manhattan', 'knn__n_neighbors': 29, 'knn__weights': 'uniform'}\n",
      "MSE: 0.9988068672324206\n",
      "R^2: 0.020665261944880386\n",
      "\n",
      "For cluster 11:\n",
      "Fitting 3 folds for each of 24 candidates, totalling 72 fits\n"
     ]
    },
    {
     "name": "stderr",
     "output_type": "stream",
     "text": [
      "[Parallel(n_jobs=-1)]: Using backend LokyBackend with 8 concurrent workers.\n",
      "[Parallel(n_jobs=-1)]: Done  25 tasks      | elapsed:    8.2s\n",
      "[Parallel(n_jobs=-1)]: Done  72 out of  72 | elapsed:   22.9s finished\n"
     ]
    },
    {
     "name": "stdout",
     "output_type": "stream",
     "text": [
      "Best params: {'knn__metric': 'euclidean', 'knn__n_neighbors': 29, 'knn__weights': 'distance'}\n",
      "MSE: 2.4136105964570054\n",
      "R^2: 0.4583548335134534\n",
      "\n",
      "For cluster 12:\n",
      "Fitting 3 folds for each of 24 candidates, totalling 72 fits\n"
     ]
    },
    {
     "name": "stderr",
     "output_type": "stream",
     "text": [
      "[Parallel(n_jobs=-1)]: Using backend LokyBackend with 8 concurrent workers.\n",
      "[Parallel(n_jobs=-1)]: Done  25 tasks      | elapsed:    8.9s\n",
      "[Parallel(n_jobs=-1)]: Done  72 out of  72 | elapsed:   24.2s finished\n"
     ]
    },
    {
     "name": "stdout",
     "output_type": "stream",
     "text": [
      "Best params: {'knn__metric': 'euclidean', 'knn__n_neighbors': 23, 'knn__weights': 'distance'}\n",
      "MSE: 30.707482273940286\n",
      "R^2: 0.5067721378272163\n",
      "\n",
      "For cluster 13:\n",
      "Fitting 3 folds for each of 24 candidates, totalling 72 fits\n"
     ]
    },
    {
     "name": "stderr",
     "output_type": "stream",
     "text": [
      "[Parallel(n_jobs=-1)]: Using backend LokyBackend with 8 concurrent workers.\n",
      "[Parallel(n_jobs=-1)]: Done  25 tasks      | elapsed:    9.6s\n",
      "[Parallel(n_jobs=-1)]: Done  72 out of  72 | elapsed:   22.9s finished\n"
     ]
    },
    {
     "name": "stdout",
     "output_type": "stream",
     "text": [
      "Best params: {'knn__metric': 'euclidean', 'knn__n_neighbors': 19, 'knn__weights': 'distance'}\n",
      "MSE: 16.917488641219016\n",
      "R^2: 0.6349564381197937\n",
      "\n",
      "For cluster 14:\n",
      "Fitting 3 folds for each of 24 candidates, totalling 72 fits\n"
     ]
    },
    {
     "name": "stderr",
     "output_type": "stream",
     "text": [
      "[Parallel(n_jobs=-1)]: Using backend LokyBackend with 8 concurrent workers.\n",
      "[Parallel(n_jobs=-1)]: Done  25 tasks      | elapsed:    9.2s\n",
      "[Parallel(n_jobs=-1)]: Done  72 out of  72 | elapsed:   23.6s finished\n"
     ]
    },
    {
     "name": "stdout",
     "output_type": "stream",
     "text": [
      "Best params: {'knn__metric': 'euclidean', 'knn__n_neighbors': 23, 'knn__weights': 'distance'}\n",
      "MSE: 20.559514356613956\n",
      "R^2: 0.16401710988797247\n",
      "\n",
      "For cluster 15:\n",
      "Fitting 3 folds for each of 24 candidates, totalling 72 fits\n"
     ]
    },
    {
     "name": "stderr",
     "output_type": "stream",
     "text": [
      "[Parallel(n_jobs=-1)]: Using backend LokyBackend with 8 concurrent workers.\n",
      "[Parallel(n_jobs=-1)]: Done  25 tasks      | elapsed:    8.4s\n",
      "[Parallel(n_jobs=-1)]: Done  72 out of  72 | elapsed:   22.6s finished\n"
     ]
    },
    {
     "name": "stdout",
     "output_type": "stream",
     "text": [
      "Best params: {'knn__metric': 'euclidean', 'knn__n_neighbors': 19, 'knn__weights': 'distance'}\n",
      "MSE: 4.161532107720521\n",
      "R^2: 0.4655750779483411\n",
      "\n",
      "For cluster 16:\n",
      "Fitting 3 folds for each of 24 candidates, totalling 72 fits\n"
     ]
    },
    {
     "name": "stderr",
     "output_type": "stream",
     "text": [
      "[Parallel(n_jobs=-1)]: Using backend LokyBackend with 8 concurrent workers.\n",
      "[Parallel(n_jobs=-1)]: Done  25 tasks      | elapsed:    8.8s\n",
      "[Parallel(n_jobs=-1)]: Done  72 out of  72 | elapsed:   23.7s finished\n"
     ]
    },
    {
     "name": "stdout",
     "output_type": "stream",
     "text": [
      "Best params: {'knn__metric': 'euclidean', 'knn__n_neighbors': 23, 'knn__weights': 'uniform'}\n",
      "MSE: 23.906705595981045\n",
      "R^2: 0.3103324136037947\n",
      "\n",
      "For cluster 17:\n",
      "Fitting 3 folds for each of 24 candidates, totalling 72 fits\n"
     ]
    },
    {
     "name": "stderr",
     "output_type": "stream",
     "text": [
      "[Parallel(n_jobs=-1)]: Using backend LokyBackend with 8 concurrent workers.\n",
      "[Parallel(n_jobs=-1)]: Done  25 tasks      | elapsed:    9.2s\n",
      "[Parallel(n_jobs=-1)]: Done  72 out of  72 | elapsed:   24.0s finished\n"
     ]
    },
    {
     "name": "stdout",
     "output_type": "stream",
     "text": [
      "Best params: {'knn__metric': 'euclidean', 'knn__n_neighbors': 19, 'knn__weights': 'distance'}\n",
      "MSE: 33.1715516002307\n",
      "R^2: 0.7000385352671112\n",
      "\n",
      "For cluster 18:\n",
      "Fitting 3 folds for each of 24 candidates, totalling 72 fits\n"
     ]
    },
    {
     "name": "stderr",
     "output_type": "stream",
     "text": [
      "[Parallel(n_jobs=-1)]: Using backend LokyBackend with 8 concurrent workers.\n",
      "[Parallel(n_jobs=-1)]: Done  25 tasks      | elapsed:    8.3s\n",
      "[Parallel(n_jobs=-1)]: Done  72 out of  72 | elapsed:   22.0s finished\n"
     ]
    },
    {
     "name": "stdout",
     "output_type": "stream",
     "text": [
      "Best params: {'knn__metric': 'euclidean', 'knn__n_neighbors': 19, 'knn__weights': 'distance'}\n",
      "MSE: 29.097150078096124\n",
      "R^2: 0.7550687043132642\n",
      "\n",
      "For cluster 19:\n",
      "Fitting 3 folds for each of 24 candidates, totalling 72 fits\n"
     ]
    },
    {
     "name": "stderr",
     "output_type": "stream",
     "text": [
      "[Parallel(n_jobs=-1)]: Using backend LokyBackend with 8 concurrent workers.\n",
      "[Parallel(n_jobs=-1)]: Done  25 tasks      | elapsed:    8.3s\n",
      "[Parallel(n_jobs=-1)]: Done  72 out of  72 | elapsed:   21.6s finished\n"
     ]
    },
    {
     "name": "stdout",
     "output_type": "stream",
     "text": [
      "Best params: {'knn__metric': 'euclidean', 'knn__n_neighbors': 19, 'knn__weights': 'distance'}\n",
      "MSE: 10.30981967648629\n",
      "R^2: 0.6175469932784083\n",
      "\n",
      "For cluster 20:\n",
      "Fitting 3 folds for each of 24 candidates, totalling 72 fits\n"
     ]
    },
    {
     "name": "stderr",
     "output_type": "stream",
     "text": [
      "[Parallel(n_jobs=-1)]: Using backend LokyBackend with 8 concurrent workers.\n",
      "[Parallel(n_jobs=-1)]: Done  25 tasks      | elapsed:    8.1s\n",
      "[Parallel(n_jobs=-1)]: Done  72 out of  72 | elapsed:   22.2s finished\n"
     ]
    },
    {
     "name": "stdout",
     "output_type": "stream",
     "text": [
      "Best params: {'knn__metric': 'manhattan', 'knn__n_neighbors': 29, 'knn__weights': 'distance'}\n",
      "MSE: 1.9454252033459039\n",
      "R^2: 0.46216103946779075\n",
      "\n",
      "For cluster 21:\n",
      "Fitting 3 folds for each of 24 candidates, totalling 72 fits\n"
     ]
    },
    {
     "name": "stderr",
     "output_type": "stream",
     "text": [
      "[Parallel(n_jobs=-1)]: Using backend LokyBackend with 8 concurrent workers.\n",
      "[Parallel(n_jobs=-1)]: Done  25 tasks      | elapsed:    9.0s\n",
      "[Parallel(n_jobs=-1)]: Done  72 out of  72 | elapsed:   24.2s finished\n"
     ]
    },
    {
     "name": "stdout",
     "output_type": "stream",
     "text": [
      "Best params: {'knn__metric': 'manhattan', 'knn__n_neighbors': 29, 'knn__weights': 'uniform'}\n",
      "MSE: 0.3821791572329093\n",
      "R^2: 0.060773517007475575\n",
      "\n",
      "For cluster 22:\n",
      "Fitting 3 folds for each of 24 candidates, totalling 72 fits\n"
     ]
    },
    {
     "name": "stderr",
     "output_type": "stream",
     "text": [
      "[Parallel(n_jobs=-1)]: Using backend LokyBackend with 8 concurrent workers.\n",
      "[Parallel(n_jobs=-1)]: Done  25 tasks      | elapsed:    8.2s\n",
      "[Parallel(n_jobs=-1)]: Done  72 out of  72 | elapsed:   23.3s finished\n"
     ]
    },
    {
     "name": "stdout",
     "output_type": "stream",
     "text": [
      "Best params: {'knn__metric': 'euclidean', 'knn__n_neighbors': 23, 'knn__weights': 'distance'}\n",
      "MSE: 45.22896400280278\n",
      "R^2: 0.21174963078773112\n",
      "\n",
      "For cluster 23:\n",
      "Fitting 3 folds for each of 24 candidates, totalling 72 fits\n"
     ]
    },
    {
     "name": "stderr",
     "output_type": "stream",
     "text": [
      "[Parallel(n_jobs=-1)]: Using backend LokyBackend with 8 concurrent workers.\n",
      "[Parallel(n_jobs=-1)]: Done  25 tasks      | elapsed:    8.0s\n",
      "[Parallel(n_jobs=-1)]: Done  72 out of  72 | elapsed:   22.3s finished\n"
     ]
    },
    {
     "name": "stdout",
     "output_type": "stream",
     "text": [
      "Best params: {'knn__metric': 'euclidean', 'knn__n_neighbors': 19, 'knn__weights': 'distance'}\n",
      "MSE: 37.6409752117167\n",
      "R^2: 0.6065814526337647\n",
      "\n",
      "For cluster 24:\n",
      "Fitting 3 folds for each of 24 candidates, totalling 72 fits\n"
     ]
    },
    {
     "name": "stderr",
     "output_type": "stream",
     "text": [
      "[Parallel(n_jobs=-1)]: Using backend LokyBackend with 8 concurrent workers.\n",
      "[Parallel(n_jobs=-1)]: Done  25 tasks      | elapsed:    8.7s\n",
      "[Parallel(n_jobs=-1)]: Done  72 out of  72 | elapsed:   22.1s finished\n"
     ]
    },
    {
     "name": "stdout",
     "output_type": "stream",
     "text": [
      "Best params: {'knn__metric': 'euclidean', 'knn__n_neighbors': 19, 'knn__weights': 'distance'}\n",
      "MSE: 4.559999914761956\n",
      "R^2: 0.6290856153172424\n",
      "\n",
      "For cluster 25:\n",
      "Fitting 3 folds for each of 24 candidates, totalling 72 fits\n"
     ]
    },
    {
     "name": "stderr",
     "output_type": "stream",
     "text": [
      "[Parallel(n_jobs=-1)]: Using backend LokyBackend with 8 concurrent workers.\n",
      "[Parallel(n_jobs=-1)]: Done  25 tasks      | elapsed:    8.0s\n",
      "[Parallel(n_jobs=-1)]: Done  72 out of  72 | elapsed:   22.3s finished\n"
     ]
    },
    {
     "name": "stdout",
     "output_type": "stream",
     "text": [
      "Best params: {'knn__metric': 'euclidean', 'knn__n_neighbors': 29, 'knn__weights': 'distance'}\n",
      "MSE: 4.069540497593874\n",
      "R^2: 0.40000648264806493\n",
      "\n",
      "For cluster 26:\n",
      "Fitting 3 folds for each of 24 candidates, totalling 72 fits\n"
     ]
    },
    {
     "name": "stderr",
     "output_type": "stream",
     "text": [
      "[Parallel(n_jobs=-1)]: Using backend LokyBackend with 8 concurrent workers.\n",
      "[Parallel(n_jobs=-1)]: Done  25 tasks      | elapsed:    9.5s\n",
      "[Parallel(n_jobs=-1)]: Done  72 out of  72 | elapsed:   25.2s finished\n"
     ]
    },
    {
     "name": "stdout",
     "output_type": "stream",
     "text": [
      "Best params: {'knn__metric': 'euclidean', 'knn__n_neighbors': 23, 'knn__weights': 'distance'}\n",
      "MSE: 43.009493126104154\n",
      "R^2: 0.3499770947640728\n",
      "\n",
      "For cluster 27:\n",
      "Fitting 3 folds for each of 24 candidates, totalling 72 fits\n"
     ]
    },
    {
     "name": "stderr",
     "output_type": "stream",
     "text": [
      "[Parallel(n_jobs=-1)]: Using backend LokyBackend with 8 concurrent workers.\n",
      "[Parallel(n_jobs=-1)]: Done  25 tasks      | elapsed:    8.2s\n",
      "[Parallel(n_jobs=-1)]: Done  72 out of  72 | elapsed:   21.9s finished\n"
     ]
    },
    {
     "name": "stdout",
     "output_type": "stream",
     "text": [
      "Best params: {'knn__metric': 'euclidean', 'knn__n_neighbors': 23, 'knn__weights': 'distance'}\n",
      "MSE: 20.22060723138457\n",
      "R^2: 0.5587874097668584\n",
      "\n",
      "For cluster 28:\n",
      "Fitting 3 folds for each of 24 candidates, totalling 72 fits\n"
     ]
    },
    {
     "name": "stderr",
     "output_type": "stream",
     "text": [
      "[Parallel(n_jobs=-1)]: Using backend LokyBackend with 8 concurrent workers.\n",
      "[Parallel(n_jobs=-1)]: Done  25 tasks      | elapsed:    8.6s\n",
      "[Parallel(n_jobs=-1)]: Done  72 out of  72 | elapsed:   22.6s finished\n"
     ]
    },
    {
     "name": "stdout",
     "output_type": "stream",
     "text": [
      "Best params: {'knn__metric': 'euclidean', 'knn__n_neighbors': 29, 'knn__weights': 'distance'}\n",
      "MSE: 18.699575264618257\n",
      "R^2: 0.2895502672169412\n",
      "\n",
      "For cluster 29:\n",
      "Fitting 3 folds for each of 24 candidates, totalling 72 fits\n"
     ]
    },
    {
     "name": "stderr",
     "output_type": "stream",
     "text": [
      "[Parallel(n_jobs=-1)]: Using backend LokyBackend with 8 concurrent workers.\n",
      "[Parallel(n_jobs=-1)]: Done  25 tasks      | elapsed:    9.2s\n",
      "[Parallel(n_jobs=-1)]: Done  72 out of  72 | elapsed:   26.8s finished\n"
     ]
    },
    {
     "name": "stdout",
     "output_type": "stream",
     "text": [
      "Best params: {'knn__metric': 'manhattan', 'knn__n_neighbors': 29, 'knn__weights': 'uniform'}\n",
      "MSE: 2.7299488541038883\n",
      "R^2: -0.010639605540229136\n",
      "\n"
     ]
    }
   ],
   "source": [
    "res['KNN'] = 0\n",
    "for c in dfs:\n",
    "    print('For cluster {}:'.format(c))\n",
    "    # train test split\n",
    "    df_train, df_val = train_test_split(dfs[c], test_size=0.2, random_state=1207)\n",
    "    # get X Y\n",
    "    X_train = df_train.drop(columns=['Checkin per Hour', 'Checkout per Hour'])\n",
    "    Y_train = df_train['Checkin per Hour'] - df_train['Checkout per Hour']\n",
    "    X_val = df_val.drop(columns=['Checkin per Hour', 'Checkout per Hour'])\n",
    "    Y_val = df_val['Checkin per Hour'] - df_val['Checkout per Hour']\n",
    "    # shuffle\n",
    "    X_train, Y_train = shuffle(X_train, Y_train, random_state=1207)\n",
    "    # train model\n",
    "    knn_search.fit(X_train, Y_train)\n",
    "    print('Best params: {}'.format(knn_search.best_params_))\n",
    "    # predict\n",
    "    Y_pred = knn_search.predict(X_val)\n",
    "    mse = mean_squared_error(Y_val, Y_pred)\n",
    "    print('MSE: {}'.format(mse))\n",
    "    r2 = knn_search.score(X_val, Y_val)\n",
    "    print('R^2: {}'.format(r2))\n",
    "    res.loc[c, 'KNN'] = r2\n",
    "    print()"
   ]
  },
  {
   "cell_type": "code",
   "execution_count": 24,
   "metadata": {},
   "outputs": [],
   "source": [
    "# save csv\n",
    "res.to_csv('./pred_res.csv', index=False)"
   ]
  },
  {
   "cell_type": "markdown",
   "metadata": {},
   "source": [
    "## Decision Tree"
   ]
  },
  {
   "cell_type": "code",
   "execution_count": 25,
   "metadata": {},
   "outputs": [],
   "source": [
    "from sklearn.tree import DecisionTreeRegressor"
   ]
  },
  {
   "cell_type": "code",
   "execution_count": 26,
   "metadata": {},
   "outputs": [],
   "source": [
    "# set pipeline\n",
    "pipeline = Pipeline([('scaler', StandardScaler()),\n",
    "                     ('tree', DecisionTreeRegressor())])"
   ]
  },
  {
   "cell_type": "code",
   "execution_count": 27,
   "metadata": {},
   "outputs": [],
   "source": [
    "# set grid search\n",
    "params = {'tree__max_depth': [3, 4, 5, 6, 7, 8, 9, 10, 11, 12]}\n",
    "tree_search = GridSearchCV(pipeline, params, cv=3, verbose=2, n_jobs=-1)"
   ]
  },
  {
   "cell_type": "code",
   "execution_count": 28,
   "metadata": {
    "scrolled": false
   },
   "outputs": [
    {
     "name": "stdout",
     "output_type": "stream",
     "text": [
      "For cluster 0:\n",
      "Fitting 3 folds for each of 10 candidates, totalling 30 fits\n"
     ]
    },
    {
     "name": "stderr",
     "output_type": "stream",
     "text": [
      "[Parallel(n_jobs=-1)]: Using backend LokyBackend with 8 concurrent workers.\n",
      "[Parallel(n_jobs=-1)]: Done  30 out of  30 | elapsed:    0.6s finished\n",
      "[Parallel(n_jobs=-1)]: Using backend LokyBackend with 8 concurrent workers.\n"
     ]
    },
    {
     "name": "stdout",
     "output_type": "stream",
     "text": [
      "Best params: {'tree__max_depth': 6}\n",
      "MSE: 42.243773594812325\n",
      "R^2: 0.5273395953236335\n",
      "\n",
      "For cluster 1:\n",
      "Fitting 3 folds for each of 10 candidates, totalling 30 fits\n"
     ]
    },
    {
     "name": "stderr",
     "output_type": "stream",
     "text": [
      "[Parallel(n_jobs=-1)]: Done  30 out of  30 | elapsed:    0.6s finished\n",
      "[Parallel(n_jobs=-1)]: Using backend LokyBackend with 8 concurrent workers.\n"
     ]
    },
    {
     "name": "stdout",
     "output_type": "stream",
     "text": [
      "Best params: {'tree__max_depth': 6}\n",
      "MSE: 47.2724816821951\n",
      "R^2: 0.3827603912846004\n",
      "\n",
      "For cluster 2:\n",
      "Fitting 3 folds for each of 10 candidates, totalling 30 fits\n"
     ]
    },
    {
     "name": "stderr",
     "output_type": "stream",
     "text": [
      "[Parallel(n_jobs=-1)]: Done  30 out of  30 | elapsed:    0.6s finished\n",
      "[Parallel(n_jobs=-1)]: Using backend LokyBackend with 8 concurrent workers.\n"
     ]
    },
    {
     "name": "stdout",
     "output_type": "stream",
     "text": [
      "Best params: {'tree__max_depth': 7}\n",
      "MSE: 8.12323917187866\n",
      "R^2: 0.5369286191556761\n",
      "\n",
      "For cluster 3:\n",
      "Fitting 3 folds for each of 10 candidates, totalling 30 fits\n"
     ]
    },
    {
     "name": "stderr",
     "output_type": "stream",
     "text": [
      "[Parallel(n_jobs=-1)]: Done  30 out of  30 | elapsed:    0.6s finished\n",
      "[Parallel(n_jobs=-1)]: Using backend LokyBackend with 8 concurrent workers.\n"
     ]
    },
    {
     "name": "stdout",
     "output_type": "stream",
     "text": [
      "Best params: {'tree__max_depth': 3}\n",
      "MSE: 1.4385051342779993\n",
      "R^2: 0.015810727126560953\n",
      "\n",
      "For cluster 4:\n",
      "Fitting 3 folds for each of 10 candidates, totalling 30 fits\n"
     ]
    },
    {
     "name": "stderr",
     "output_type": "stream",
     "text": [
      "[Parallel(n_jobs=-1)]: Done  30 out of  30 | elapsed:    0.7s finished\n",
      "[Parallel(n_jobs=-1)]: Using backend LokyBackend with 8 concurrent workers.\n"
     ]
    },
    {
     "name": "stdout",
     "output_type": "stream",
     "text": [
      "Best params: {'tree__max_depth': 8}\n",
      "MSE: 167.04888316089773\n",
      "R^2: 0.864718955867141\n",
      "\n",
      "For cluster 5:\n",
      "Fitting 3 folds for each of 10 candidates, totalling 30 fits\n"
     ]
    },
    {
     "name": "stderr",
     "output_type": "stream",
     "text": [
      "[Parallel(n_jobs=-1)]: Done  30 out of  30 | elapsed:    0.6s finished\n",
      "[Parallel(n_jobs=-1)]: Using backend LokyBackend with 8 concurrent workers.\n"
     ]
    },
    {
     "name": "stdout",
     "output_type": "stream",
     "text": [
      "Best params: {'tree__max_depth': 6}\n",
      "MSE: 26.708465685765553\n",
      "R^2: 0.42330204941476\n",
      "\n",
      "For cluster 6:\n",
      "Fitting 3 folds for each of 10 candidates, totalling 30 fits\n"
     ]
    },
    {
     "name": "stderr",
     "output_type": "stream",
     "text": [
      "[Parallel(n_jobs=-1)]: Done  30 out of  30 | elapsed:    0.6s finished\n",
      "[Parallel(n_jobs=-1)]: Using backend LokyBackend with 8 concurrent workers.\n"
     ]
    },
    {
     "name": "stdout",
     "output_type": "stream",
     "text": [
      "Best params: {'tree__max_depth': 6}\n",
      "MSE: 18.66224561201911\n",
      "R^2: 0.6316193596557638\n",
      "\n",
      "For cluster 7:\n",
      "Fitting 3 folds for each of 10 candidates, totalling 30 fits\n"
     ]
    },
    {
     "name": "stderr",
     "output_type": "stream",
     "text": [
      "[Parallel(n_jobs=-1)]: Done  30 out of  30 | elapsed:    0.6s finished\n",
      "[Parallel(n_jobs=-1)]: Using backend LokyBackend with 8 concurrent workers.\n"
     ]
    },
    {
     "name": "stdout",
     "output_type": "stream",
     "text": [
      "Best params: {'tree__max_depth': 3}\n",
      "MSE: 11.964747091305027\n",
      "R^2: 0.1452098513483684\n",
      "\n",
      "For cluster 8:\n",
      "Fitting 3 folds for each of 10 candidates, totalling 30 fits\n"
     ]
    },
    {
     "name": "stderr",
     "output_type": "stream",
     "text": [
      "[Parallel(n_jobs=-1)]: Done  30 out of  30 | elapsed:    0.6s finished\n",
      "[Parallel(n_jobs=-1)]: Using backend LokyBackend with 8 concurrent workers.\n"
     ]
    },
    {
     "name": "stdout",
     "output_type": "stream",
     "text": [
      "Best params: {'tree__max_depth': 7}\n",
      "MSE: 27.71451686304216\n",
      "R^2: 0.6330539379793532\n",
      "\n",
      "For cluster 9:\n",
      "Fitting 3 folds for each of 10 candidates, totalling 30 fits\n"
     ]
    },
    {
     "name": "stderr",
     "output_type": "stream",
     "text": [
      "[Parallel(n_jobs=-1)]: Done  30 out of  30 | elapsed:    0.5s finished\n",
      "[Parallel(n_jobs=-1)]: Using backend LokyBackend with 8 concurrent workers.\n"
     ]
    },
    {
     "name": "stdout",
     "output_type": "stream",
     "text": [
      "Best params: {'tree__max_depth': 9}\n",
      "MSE: 25.268301519211917\n",
      "R^2: 0.6925634401771927\n",
      "\n",
      "For cluster 10:\n",
      "Fitting 3 folds for each of 10 candidates, totalling 30 fits\n"
     ]
    },
    {
     "name": "stderr",
     "output_type": "stream",
     "text": [
      "[Parallel(n_jobs=-1)]: Done  30 out of  30 | elapsed:    0.6s finished\n",
      "[Parallel(n_jobs=-1)]: Using backend LokyBackend with 8 concurrent workers.\n"
     ]
    },
    {
     "name": "stdout",
     "output_type": "stream",
     "text": [
      "Best params: {'tree__max_depth': 3}\n",
      "MSE: 1.0237643480039187\n",
      "R^2: -0.0038056630114085\n",
      "\n",
      "For cluster 11:\n",
      "Fitting 3 folds for each of 10 candidates, totalling 30 fits\n"
     ]
    },
    {
     "name": "stderr",
     "output_type": "stream",
     "text": [
      "[Parallel(n_jobs=-1)]: Done  30 out of  30 | elapsed:    0.7s finished\n",
      "[Parallel(n_jobs=-1)]: Using backend LokyBackend with 8 concurrent workers.\n"
     ]
    },
    {
     "name": "stdout",
     "output_type": "stream",
     "text": [
      "Best params: {'tree__max_depth': 5}\n",
      "MSE: 2.7039746863505396\n",
      "R^2: 0.3931934085333988\n",
      "\n",
      "For cluster 12:\n",
      "Fitting 3 folds for each of 10 candidates, totalling 30 fits\n"
     ]
    },
    {
     "name": "stderr",
     "output_type": "stream",
     "text": [
      "[Parallel(n_jobs=-1)]: Done  30 out of  30 | elapsed:    0.5s finished\n",
      "[Parallel(n_jobs=-1)]: Using backend LokyBackend with 8 concurrent workers.\n"
     ]
    },
    {
     "name": "stdout",
     "output_type": "stream",
     "text": [
      "Best params: {'tree__max_depth': 6}\n",
      "MSE: 37.342598117411015\n",
      "R^2: 0.4001979819407493\n",
      "\n",
      "For cluster 13:\n",
      "Fitting 3 folds for each of 10 candidates, totalling 30 fits\n"
     ]
    },
    {
     "name": "stderr",
     "output_type": "stream",
     "text": [
      "[Parallel(n_jobs=-1)]: Done  30 out of  30 | elapsed:    0.6s finished\n",
      "[Parallel(n_jobs=-1)]: Using backend LokyBackend with 8 concurrent workers.\n"
     ]
    },
    {
     "name": "stdout",
     "output_type": "stream",
     "text": [
      "Best params: {'tree__max_depth': 7}\n",
      "MSE: 17.45300312626279\n",
      "R^2: 0.62340117012437\n",
      "\n",
      "For cluster 14:\n",
      "Fitting 3 folds for each of 10 candidates, totalling 30 fits\n"
     ]
    },
    {
     "name": "stderr",
     "output_type": "stream",
     "text": [
      "[Parallel(n_jobs=-1)]: Done  30 out of  30 | elapsed:    0.7s finished\n",
      "[Parallel(n_jobs=-1)]: Using backend LokyBackend with 8 concurrent workers.\n"
     ]
    },
    {
     "name": "stdout",
     "output_type": "stream",
     "text": [
      "Best params: {'tree__max_depth': 3}\n",
      "MSE: 22.038928787783032\n",
      "R^2: 0.10386174189678743\n",
      "\n",
      "For cluster 15:\n",
      "Fitting 3 folds for each of 10 candidates, totalling 30 fits\n"
     ]
    },
    {
     "name": "stderr",
     "output_type": "stream",
     "text": [
      "[Parallel(n_jobs=-1)]: Done  30 out of  30 | elapsed:    0.7s finished\n",
      "[Parallel(n_jobs=-1)]: Using backend LokyBackend with 8 concurrent workers.\n"
     ]
    },
    {
     "name": "stdout",
     "output_type": "stream",
     "text": [
      "Best params: {'tree__max_depth': 6}\n",
      "MSE: 4.735568584125094\n",
      "R^2: 0.39185718001642744\n",
      "\n",
      "For cluster 16:\n",
      "Fitting 3 folds for each of 10 candidates, totalling 30 fits\n"
     ]
    },
    {
     "name": "stderr",
     "output_type": "stream",
     "text": [
      "[Parallel(n_jobs=-1)]: Done  30 out of  30 | elapsed:    0.7s finished\n",
      "[Parallel(n_jobs=-1)]: Using backend LokyBackend with 8 concurrent workers.\n"
     ]
    },
    {
     "name": "stdout",
     "output_type": "stream",
     "text": [
      "Best params: {'tree__max_depth': 3}\n",
      "MSE: 27.13137055612232\n",
      "R^2: 0.21730634227546763\n",
      "\n",
      "For cluster 17:\n",
      "Fitting 3 folds for each of 10 candidates, totalling 30 fits\n"
     ]
    },
    {
     "name": "stderr",
     "output_type": "stream",
     "text": [
      "[Parallel(n_jobs=-1)]: Done  30 out of  30 | elapsed:    0.7s finished\n",
      "[Parallel(n_jobs=-1)]: Using backend LokyBackend with 8 concurrent workers.\n"
     ]
    },
    {
     "name": "stdout",
     "output_type": "stream",
     "text": [
      "Best params: {'tree__max_depth': 7}\n",
      "MSE: 35.487351440951024\n",
      "R^2: 0.6790973769932296\n",
      "\n",
      "For cluster 18:\n",
      "Fitting 3 folds for each of 10 candidates, totalling 30 fits\n"
     ]
    },
    {
     "name": "stderr",
     "output_type": "stream",
     "text": [
      "[Parallel(n_jobs=-1)]: Done  30 out of  30 | elapsed:    0.6s finished\n",
      "[Parallel(n_jobs=-1)]: Using backend LokyBackend with 8 concurrent workers.\n"
     ]
    },
    {
     "name": "stdout",
     "output_type": "stream",
     "text": [
      "Best params: {'tree__max_depth': 7}\n",
      "MSE: 37.659236861505455\n",
      "R^2: 0.6829955629913791\n",
      "\n",
      "For cluster 19:\n",
      "Fitting 3 folds for each of 10 candidates, totalling 30 fits\n"
     ]
    },
    {
     "name": "stderr",
     "output_type": "stream",
     "text": [
      "[Parallel(n_jobs=-1)]: Done  30 out of  30 | elapsed:    0.5s finished\n",
      "[Parallel(n_jobs=-1)]: Using backend LokyBackend with 8 concurrent workers.\n"
     ]
    },
    {
     "name": "stdout",
     "output_type": "stream",
     "text": [
      "Best params: {'tree__max_depth': 6}\n",
      "MSE: 11.309303552693237\n",
      "R^2: 0.5804701456108481\n",
      "\n",
      "For cluster 20:\n",
      "Fitting 3 folds for each of 10 candidates, totalling 30 fits\n"
     ]
    },
    {
     "name": "stderr",
     "output_type": "stream",
     "text": [
      "[Parallel(n_jobs=-1)]: Done  30 out of  30 | elapsed:    0.7s finished\n",
      "[Parallel(n_jobs=-1)]: Using backend LokyBackend with 8 concurrent workers.\n"
     ]
    },
    {
     "name": "stdout",
     "output_type": "stream",
     "text": [
      "Best params: {'tree__max_depth': 5}\n",
      "MSE: 2.1238177722656024\n",
      "R^2: 0.41284201467597437\n",
      "\n",
      "For cluster 21:\n",
      "Fitting 3 folds for each of 10 candidates, totalling 30 fits\n"
     ]
    },
    {
     "name": "stderr",
     "output_type": "stream",
     "text": [
      "[Parallel(n_jobs=-1)]: Done  30 out of  30 | elapsed:    0.7s finished\n",
      "[Parallel(n_jobs=-1)]: Using backend LokyBackend with 8 concurrent workers.\n"
     ]
    },
    {
     "name": "stdout",
     "output_type": "stream",
     "text": [
      "Best params: {'tree__max_depth': 3}\n",
      "MSE: 0.39074796072892726\n",
      "R^2: 0.03971520700101361\n",
      "\n",
      "For cluster 22:\n",
      "Fitting 3 folds for each of 10 candidates, totalling 30 fits\n"
     ]
    },
    {
     "name": "stderr",
     "output_type": "stream",
     "text": [
      "[Parallel(n_jobs=-1)]: Done  30 out of  30 | elapsed:    0.7s finished\n",
      "[Parallel(n_jobs=-1)]: Using backend LokyBackend with 8 concurrent workers.\n"
     ]
    },
    {
     "name": "stdout",
     "output_type": "stream",
     "text": [
      "Best params: {'tree__max_depth': 5}\n",
      "MSE: 47.13213692292182\n",
      "R^2: 0.17858113378510998\n",
      "\n",
      "For cluster 23:\n",
      "Fitting 3 folds for each of 10 candidates, totalling 30 fits\n"
     ]
    },
    {
     "name": "stderr",
     "output_type": "stream",
     "text": [
      "[Parallel(n_jobs=-1)]: Done  30 out of  30 | elapsed:    0.7s finished\n",
      "[Parallel(n_jobs=-1)]: Using backend LokyBackend with 8 concurrent workers.\n"
     ]
    },
    {
     "name": "stdout",
     "output_type": "stream",
     "text": [
      "Best params: {'tree__max_depth': 6}\n",
      "MSE: 40.44075890585766\n",
      "R^2: 0.5773184798310371\n",
      "\n",
      "For cluster 24:\n",
      "Fitting 3 folds for each of 10 candidates, totalling 30 fits\n"
     ]
    },
    {
     "name": "stderr",
     "output_type": "stream",
     "text": [
      "[Parallel(n_jobs=-1)]: Done  30 out of  30 | elapsed:    0.7s finished\n",
      "[Parallel(n_jobs=-1)]: Using backend LokyBackend with 8 concurrent workers.\n"
     ]
    },
    {
     "name": "stdout",
     "output_type": "stream",
     "text": [
      "Best params: {'tree__max_depth': 7}\n",
      "MSE: 5.287383684128724\n",
      "R^2: 0.5699195827983616\n",
      "\n",
      "For cluster 25:\n",
      "Fitting 3 folds for each of 10 candidates, totalling 30 fits\n"
     ]
    },
    {
     "name": "stderr",
     "output_type": "stream",
     "text": [
      "[Parallel(n_jobs=-1)]: Done  30 out of  30 | elapsed:    0.7s finished\n",
      "[Parallel(n_jobs=-1)]: Using backend LokyBackend with 8 concurrent workers.\n"
     ]
    },
    {
     "name": "stdout",
     "output_type": "stream",
     "text": [
      "Best params: {'tree__max_depth': 5}\n",
      "MSE: 4.585763697713712\n",
      "R^2: 0.32389701187078623\n",
      "\n",
      "For cluster 26:\n",
      "Fitting 3 folds for each of 10 candidates, totalling 30 fits\n"
     ]
    },
    {
     "name": "stderr",
     "output_type": "stream",
     "text": [
      "[Parallel(n_jobs=-1)]: Done  30 out of  30 | elapsed:    0.6s finished\n",
      "[Parallel(n_jobs=-1)]: Using backend LokyBackend with 8 concurrent workers.\n"
     ]
    },
    {
     "name": "stdout",
     "output_type": "stream",
     "text": [
      "Best params: {'tree__max_depth': 5}\n",
      "MSE: 43.78223906247851\n",
      "R^2: 0.338298218263516\n",
      "\n",
      "For cluster 27:\n",
      "Fitting 3 folds for each of 10 candidates, totalling 30 fits\n"
     ]
    },
    {
     "name": "stderr",
     "output_type": "stream",
     "text": [
      "[Parallel(n_jobs=-1)]: Done  30 out of  30 | elapsed:    0.7s finished\n",
      "[Parallel(n_jobs=-1)]: Using backend LokyBackend with 8 concurrent workers.\n"
     ]
    },
    {
     "name": "stdout",
     "output_type": "stream",
     "text": [
      "Best params: {'tree__max_depth': 7}\n",
      "MSE: 24.448229017132856\n",
      "R^2: 0.4665409239283448\n",
      "\n",
      "For cluster 28:\n",
      "Fitting 3 folds for each of 10 candidates, totalling 30 fits\n"
     ]
    },
    {
     "name": "stderr",
     "output_type": "stream",
     "text": [
      "[Parallel(n_jobs=-1)]: Done  30 out of  30 | elapsed:    0.7s finished\n",
      "[Parallel(n_jobs=-1)]: Using backend LokyBackend with 8 concurrent workers.\n"
     ]
    },
    {
     "name": "stdout",
     "output_type": "stream",
     "text": [
      "Best params: {'tree__max_depth': 5}\n",
      "MSE: 20.94292323534716\n",
      "R^2: 0.20431913529067802\n",
      "\n",
      "For cluster 29:\n",
      "Fitting 3 folds for each of 10 candidates, totalling 30 fits\n",
      "Best params: {'tree__max_depth': 3}\n",
      "MSE: 2.730812440894102\n",
      "R^2: -0.010959309336767253\n",
      "\n"
     ]
    },
    {
     "name": "stderr",
     "output_type": "stream",
     "text": [
      "[Parallel(n_jobs=-1)]: Done  30 out of  30 | elapsed:    0.6s finished\n"
     ]
    }
   ],
   "source": [
    "res['Decision Tree'] = 0\n",
    "for c in dfs:\n",
    "    print('For cluster {}:'.format(c))\n",
    "    # train test split\n",
    "    df_train, df_val = train_test_split(dfs[c], test_size=0.2, random_state=1207)\n",
    "    # get X Y\n",
    "    X_train = df_train.drop(columns=['Checkin per Hour', 'Checkout per Hour'])\n",
    "    Y_train = df_train['Checkin per Hour'] - df_train['Checkout per Hour']\n",
    "    X_val = df_val.drop(columns=['Checkin per Hour', 'Checkout per Hour'])\n",
    "    Y_val = df_val['Checkin per Hour'] - df_val['Checkout per Hour']\n",
    "    # shuffle\n",
    "    X_train, Y_train = shuffle(X_train, Y_train, random_state=1207)\n",
    "    # train model\n",
    "    tree_search.fit(X_train, Y_train)\n",
    "    print('Best params: {}'.format(tree_search.best_params_))\n",
    "    # predict\n",
    "    Y_pred = tree_search.predict(X_val)\n",
    "    mse = mean_squared_error(Y_val, Y_pred)\n",
    "    print('MSE: {}'.format(mse))\n",
    "    r2 = tree_search.score(X_val, Y_val)\n",
    "    print('R^2: {}'.format(r2))\n",
    "    res.loc[c, 'Decision Tree'] = r2\n",
    "    print()"
   ]
  },
  {
   "cell_type": "code",
   "execution_count": 29,
   "metadata": {},
   "outputs": [],
   "source": [
    "# save csv\n",
    "res.to_csv('./pred_res.csv', index=False)"
   ]
  },
  {
   "cell_type": "markdown",
   "metadata": {},
   "source": [
    "## Random Forest "
   ]
  },
  {
   "cell_type": "code",
   "execution_count": 30,
   "metadata": {},
   "outputs": [],
   "source": [
    "from sklearn.ensemble import RandomForestRegressor"
   ]
  },
  {
   "cell_type": "code",
   "execution_count": 31,
   "metadata": {},
   "outputs": [],
   "source": [
    "# set pipeline\n",
    "pipeline = Pipeline([('scaler', StandardScaler()),\n",
    "                     ('rf', RandomForestRegressor())])"
   ]
  },
  {
   "cell_type": "code",
   "execution_count": 32,
   "metadata": {},
   "outputs": [],
   "source": [
    "# set grid search\n",
    "params = {'rf__n_estimators': [10, 50, 100, 500],\n",
    "          'rf__max_features': ['auto', 'log2', 'sqrt']}\n",
    "rf_search = GridSearchCV(pipeline, params, cv=3, verbose=2, n_jobs=-1)"
   ]
  },
  {
   "cell_type": "code",
   "execution_count": 33,
   "metadata": {
    "scrolled": false
   },
   "outputs": [
    {
     "name": "stderr",
     "output_type": "stream",
     "text": [
      "[Parallel(n_jobs=-1)]: Using backend LokyBackend with 8 concurrent workers.\n"
     ]
    },
    {
     "name": "stdout",
     "output_type": "stream",
     "text": [
      "For cluster 0:\n",
      "Fitting 3 folds for each of 12 candidates, totalling 36 fits\n"
     ]
    },
    {
     "name": "stderr",
     "output_type": "stream",
     "text": [
      "[Parallel(n_jobs=-1)]: Done  36 out of  36 | elapsed:   41.6s finished\n"
     ]
    },
    {
     "name": "stdout",
     "output_type": "stream",
     "text": [
      "Best params: {'rf__max_features': 'sqrt', 'rf__n_estimators': 500}\n",
      "MSE: 38.970470063926946\n",
      "R^2: 0.5639641873020087\n",
      "\n",
      "For cluster 1:\n",
      "Fitting 3 folds for each of 12 candidates, totalling 36 fits\n"
     ]
    },
    {
     "name": "stderr",
     "output_type": "stream",
     "text": [
      "[Parallel(n_jobs=-1)]: Using backend LokyBackend with 8 concurrent workers.\n",
      "[Parallel(n_jobs=-1)]: Done  36 out of  36 | elapsed:   43.6s finished\n"
     ]
    },
    {
     "name": "stdout",
     "output_type": "stream",
     "text": [
      "Best params: {'rf__max_features': 'log2', 'rf__n_estimators': 500}\n",
      "MSE: 47.98397705479452\n",
      "R^2: 0.3734703538302838\n",
      "\n",
      "For cluster 2:\n",
      "Fitting 3 folds for each of 12 candidates, totalling 36 fits\n"
     ]
    },
    {
     "name": "stderr",
     "output_type": "stream",
     "text": [
      "[Parallel(n_jobs=-1)]: Using backend LokyBackend with 8 concurrent workers.\n",
      "[Parallel(n_jobs=-1)]: Done  36 out of  36 | elapsed:   41.0s finished\n"
     ]
    },
    {
     "name": "stdout",
     "output_type": "stream",
     "text": [
      "Best params: {'rf__max_features': 'sqrt', 'rf__n_estimators': 500}\n",
      "MSE: 6.886357981735158\n",
      "R^2: 0.6074379650632715\n",
      "\n",
      "For cluster 3:\n",
      "Fitting 3 folds for each of 12 candidates, totalling 36 fits\n"
     ]
    },
    {
     "name": "stderr",
     "output_type": "stream",
     "text": [
      "[Parallel(n_jobs=-1)]: Using backend LokyBackend with 8 concurrent workers.\n",
      "[Parallel(n_jobs=-1)]: Done  36 out of  36 | elapsed:   40.1s finished\n"
     ]
    },
    {
     "name": "stdout",
     "output_type": "stream",
     "text": [
      "Best params: {'rf__max_features': 'log2', 'rf__n_estimators': 100}\n",
      "MSE: 1.4579281392694066\n",
      "R^2: 0.002521992381026239\n",
      "\n",
      "For cluster 4:\n",
      "Fitting 3 folds for each of 12 candidates, totalling 36 fits\n"
     ]
    },
    {
     "name": "stderr",
     "output_type": "stream",
     "text": [
      "[Parallel(n_jobs=-1)]: Using backend LokyBackend with 8 concurrent workers.\n",
      "[Parallel(n_jobs=-1)]: Done  36 out of  36 | elapsed:   40.8s finished\n"
     ]
    },
    {
     "name": "stdout",
     "output_type": "stream",
     "text": [
      "Best params: {'rf__max_features': 'auto', 'rf__n_estimators': 100}\n",
      "MSE: 154.37521461187214\n",
      "R^2: 0.8749824612666628\n",
      "\n",
      "For cluster 5:\n",
      "Fitting 3 folds for each of 12 candidates, totalling 36 fits\n"
     ]
    },
    {
     "name": "stderr",
     "output_type": "stream",
     "text": [
      "[Parallel(n_jobs=-1)]: Using backend LokyBackend with 8 concurrent workers.\n",
      "[Parallel(n_jobs=-1)]: Done  36 out of  36 | elapsed:   44.0s finished\n"
     ]
    },
    {
     "name": "stdout",
     "output_type": "stream",
     "text": [
      "Best params: {'rf__max_features': 'log2', 'rf__n_estimators': 500}\n",
      "MSE: 24.89513806849315\n",
      "R^2: 0.46245601403871617\n",
      "\n",
      "For cluster 6:\n",
      "Fitting 3 folds for each of 12 candidates, totalling 36 fits\n"
     ]
    },
    {
     "name": "stderr",
     "output_type": "stream",
     "text": [
      "[Parallel(n_jobs=-1)]: Using backend LokyBackend with 8 concurrent workers.\n",
      "[Parallel(n_jobs=-1)]: Done  36 out of  36 | elapsed:   42.8s finished\n"
     ]
    },
    {
     "name": "stdout",
     "output_type": "stream",
     "text": [
      "Best params: {'rf__max_features': 'auto', 'rf__n_estimators': 500}\n",
      "MSE: 18.229938910958904\n",
      "R^2: 0.640152813918047\n",
      "\n",
      "For cluster 7:\n",
      "Fitting 3 folds for each of 12 candidates, totalling 36 fits\n"
     ]
    },
    {
     "name": "stderr",
     "output_type": "stream",
     "text": [
      "[Parallel(n_jobs=-1)]: Using backend LokyBackend with 8 concurrent workers.\n",
      "[Parallel(n_jobs=-1)]: Done  36 out of  36 | elapsed:   46.4s finished\n"
     ]
    },
    {
     "name": "stdout",
     "output_type": "stream",
     "text": [
      "Best params: {'rf__max_features': 'log2', 'rf__n_estimators': 500}\n",
      "MSE: 10.059544171232877\n",
      "R^2: 0.281322104689978\n",
      "\n",
      "For cluster 8:\n",
      "Fitting 3 folds for each of 12 candidates, totalling 36 fits\n"
     ]
    },
    {
     "name": "stderr",
     "output_type": "stream",
     "text": [
      "[Parallel(n_jobs=-1)]: Using backend LokyBackend with 8 concurrent workers.\n",
      "[Parallel(n_jobs=-1)]: Done  36 out of  36 | elapsed:   50.8s finished\n"
     ]
    },
    {
     "name": "stdout",
     "output_type": "stream",
     "text": [
      "Best params: {'rf__max_features': 'auto', 'rf__n_estimators': 500}\n",
      "MSE: 26.5479175913242\n",
      "R^2: 0.6484999589519905\n",
      "\n",
      "For cluster 9:\n",
      "Fitting 3 folds for each of 12 candidates, totalling 36 fits\n"
     ]
    },
    {
     "name": "stderr",
     "output_type": "stream",
     "text": [
      "[Parallel(n_jobs=-1)]: Using backend LokyBackend with 8 concurrent workers.\n",
      "[Parallel(n_jobs=-1)]: Done  36 out of  36 | elapsed:   46.8s finished\n"
     ]
    },
    {
     "name": "stdout",
     "output_type": "stream",
     "text": [
      "Best params: {'rf__max_features': 'auto', 'rf__n_estimators': 500}\n",
      "MSE: 22.20741460502283\n",
      "R^2: 0.7298049042379829\n",
      "\n",
      "For cluster 10:\n",
      "Fitting 3 folds for each of 12 candidates, totalling 36 fits\n"
     ]
    },
    {
     "name": "stderr",
     "output_type": "stream",
     "text": [
      "[Parallel(n_jobs=-1)]: Using backend LokyBackend with 8 concurrent workers.\n",
      "[Parallel(n_jobs=-1)]: Done  36 out of  36 | elapsed:   49.7s finished\n"
     ]
    },
    {
     "name": "stdout",
     "output_type": "stream",
     "text": [
      "Best params: {'rf__max_features': 'log2', 'rf__n_estimators': 500}\n",
      "MSE: 1.0209798607305935\n",
      "R^2: -0.0010754604027745085\n",
      "\n",
      "For cluster 11:\n",
      "Fitting 3 folds for each of 12 candidates, totalling 36 fits\n"
     ]
    },
    {
     "name": "stderr",
     "output_type": "stream",
     "text": [
      "[Parallel(n_jobs=-1)]: Using backend LokyBackend with 8 concurrent workers.\n",
      "[Parallel(n_jobs=-1)]: Done  36 out of  36 | elapsed:   45.6s finished\n"
     ]
    },
    {
     "name": "stdout",
     "output_type": "stream",
     "text": [
      "Best params: {'rf__max_features': 'sqrt', 'rf__n_estimators': 500}\n",
      "MSE: 2.4503744178082187\n",
      "R^2: 0.4501045605963182\n",
      "\n",
      "For cluster 12:\n",
      "Fitting 3 folds for each of 12 candidates, totalling 36 fits\n"
     ]
    },
    {
     "name": "stderr",
     "output_type": "stream",
     "text": [
      "[Parallel(n_jobs=-1)]: Using backend LokyBackend with 8 concurrent workers.\n",
      "[Parallel(n_jobs=-1)]: Done  36 out of  36 | elapsed:   42.2s finished\n"
     ]
    },
    {
     "name": "stdout",
     "output_type": "stream",
     "text": [
      "Best params: {'rf__max_features': 'log2', 'rf__n_estimators': 500}\n",
      "MSE: 31.394692141552515\n",
      "R^2: 0.49573407710824724\n",
      "\n",
      "For cluster 13:\n",
      "Fitting 3 folds for each of 12 candidates, totalling 36 fits\n"
     ]
    },
    {
     "name": "stderr",
     "output_type": "stream",
     "text": [
      "[Parallel(n_jobs=-1)]: Using backend LokyBackend with 8 concurrent workers.\n",
      "[Parallel(n_jobs=-1)]: Done  36 out of  36 | elapsed:   47.2s finished\n"
     ]
    },
    {
     "name": "stdout",
     "output_type": "stream",
     "text": [
      "Best params: {'rf__max_features': 'auto', 'rf__n_estimators': 500}\n",
      "MSE: 17.294807748858446\n",
      "R^2: 0.6268146912010126\n",
      "\n",
      "For cluster 14:\n",
      "Fitting 3 folds for each of 12 candidates, totalling 36 fits\n"
     ]
    },
    {
     "name": "stderr",
     "output_type": "stream",
     "text": [
      "[Parallel(n_jobs=-1)]: Using backend LokyBackend with 8 concurrent workers.\n",
      "[Parallel(n_jobs=-1)]: Done  36 out of  36 | elapsed:   45.1s finished\n"
     ]
    },
    {
     "name": "stdout",
     "output_type": "stream",
     "text": [
      "Best params: {'rf__max_features': 'log2', 'rf__n_estimators': 500}\n",
      "MSE: 20.756086184931505\n",
      "R^2: 0.15602418348411284\n",
      "\n",
      "For cluster 15:\n",
      "Fitting 3 folds for each of 12 candidates, totalling 36 fits\n"
     ]
    },
    {
     "name": "stderr",
     "output_type": "stream",
     "text": [
      "[Parallel(n_jobs=-1)]: Using backend LokyBackend with 8 concurrent workers.\n",
      "[Parallel(n_jobs=-1)]: Done  36 out of  36 | elapsed:   48.8s finished\n"
     ]
    },
    {
     "name": "stdout",
     "output_type": "stream",
     "text": [
      "Best params: {'rf__max_features': 'sqrt', 'rf__n_estimators': 500}\n",
      "MSE: 4.351441143835617\n",
      "R^2: 0.44118691532082555\n",
      "\n",
      "For cluster 16:\n",
      "Fitting 3 folds for each of 12 candidates, totalling 36 fits\n"
     ]
    },
    {
     "name": "stderr",
     "output_type": "stream",
     "text": [
      "[Parallel(n_jobs=-1)]: Using backend LokyBackend with 8 concurrent workers.\n",
      "[Parallel(n_jobs=-1)]: Done  36 out of  36 | elapsed:   48.9s finished\n"
     ]
    },
    {
     "name": "stdout",
     "output_type": "stream",
     "text": [
      "Best params: {'rf__max_features': 'sqrt', 'rf__n_estimators': 500}\n",
      "MSE: 24.606136328767118\n",
      "R^2: 0.29015503268465237\n",
      "\n",
      "For cluster 17:\n",
      "Fitting 3 folds for each of 12 candidates, totalling 36 fits\n"
     ]
    },
    {
     "name": "stderr",
     "output_type": "stream",
     "text": [
      "[Parallel(n_jobs=-1)]: Using backend LokyBackend with 8 concurrent workers.\n",
      "[Parallel(n_jobs=-1)]: Done  36 out of  36 | elapsed:   47.9s finished\n"
     ]
    },
    {
     "name": "stdout",
     "output_type": "stream",
     "text": [
      "Best params: {'rf__max_features': 'sqrt', 'rf__n_estimators': 500}\n",
      "MSE: 33.72051692465753\n",
      "R^2: 0.6950743887361575\n",
      "\n",
      "For cluster 18:\n",
      "Fitting 3 folds for each of 12 candidates, totalling 36 fits\n"
     ]
    },
    {
     "name": "stderr",
     "output_type": "stream",
     "text": [
      "[Parallel(n_jobs=-1)]: Using backend LokyBackend with 8 concurrent workers.\n",
      "[Parallel(n_jobs=-1)]: Done  36 out of  36 | elapsed:   46.4s finished\n"
     ]
    },
    {
     "name": "stdout",
     "output_type": "stream",
     "text": [
      "Best params: {'rf__max_features': 'auto', 'rf__n_estimators': 500}\n",
      "MSE: 29.74056046575343\n",
      "R^2: 0.7496526639284073\n",
      "\n",
      "For cluster 19:\n",
      "Fitting 3 folds for each of 12 candidates, totalling 36 fits\n"
     ]
    },
    {
     "name": "stderr",
     "output_type": "stream",
     "text": [
      "[Parallel(n_jobs=-1)]: Using backend LokyBackend with 8 concurrent workers.\n",
      "[Parallel(n_jobs=-1)]: Done  36 out of  36 | elapsed:   44.3s finished\n"
     ]
    },
    {
     "name": "stdout",
     "output_type": "stream",
     "text": [
      "Best params: {'rf__max_features': 'auto', 'rf__n_estimators': 100}\n",
      "MSE: 10.564399600456621\n",
      "R^2: 0.6081030979990887\n",
      "\n",
      "For cluster 20:\n",
      "Fitting 3 folds for each of 12 candidates, totalling 36 fits\n"
     ]
    },
    {
     "name": "stderr",
     "output_type": "stream",
     "text": [
      "[Parallel(n_jobs=-1)]: Using backend LokyBackend with 8 concurrent workers.\n",
      "[Parallel(n_jobs=-1)]: Done  36 out of  36 | elapsed:   40.7s finished\n"
     ]
    },
    {
     "name": "stdout",
     "output_type": "stream",
     "text": [
      "Best params: {'rf__max_features': 'sqrt', 'rf__n_estimators': 500}\n",
      "MSE: 2.1219635525114153\n",
      "R^2: 0.4133546386635093\n",
      "\n",
      "For cluster 21:\n",
      "Fitting 3 folds for each of 12 candidates, totalling 36 fits\n"
     ]
    },
    {
     "name": "stderr",
     "output_type": "stream",
     "text": [
      "[Parallel(n_jobs=-1)]: Using backend LokyBackend with 8 concurrent workers.\n",
      "[Parallel(n_jobs=-1)]: Done  36 out of  36 | elapsed:   42.8s finished\n"
     ]
    },
    {
     "name": "stdout",
     "output_type": "stream",
     "text": [
      "Best params: {'rf__max_features': 'log2', 'rf__n_estimators': 500}\n",
      "MSE: 0.3836809178082191\n",
      "R^2: 0.05708285707285887\n",
      "\n",
      "For cluster 22:\n",
      "Fitting 3 folds for each of 12 candidates, totalling 36 fits\n"
     ]
    },
    {
     "name": "stderr",
     "output_type": "stream",
     "text": [
      "[Parallel(n_jobs=-1)]: Using backend LokyBackend with 8 concurrent workers.\n",
      "[Parallel(n_jobs=-1)]: Done  36 out of  36 | elapsed:   50.2s finished\n"
     ]
    },
    {
     "name": "stdout",
     "output_type": "stream",
     "text": [
      "Best params: {'rf__max_features': 'log2', 'rf__n_estimators': 500}\n",
      "MSE: 46.20356697488584\n",
      "R^2: 0.19476425052272583\n",
      "\n",
      "For cluster 23:\n",
      "Fitting 3 folds for each of 12 candidates, totalling 36 fits\n"
     ]
    },
    {
     "name": "stderr",
     "output_type": "stream",
     "text": [
      "[Parallel(n_jobs=-1)]: Using backend LokyBackend with 8 concurrent workers.\n",
      "[Parallel(n_jobs=-1)]: Done  36 out of  36 | elapsed:   47.8s finished\n"
     ]
    },
    {
     "name": "stdout",
     "output_type": "stream",
     "text": [
      "Best params: {'rf__max_features': 'sqrt', 'rf__n_estimators': 500}\n",
      "MSE: 36.99720843835617\n",
      "R^2: 0.6133100187081983\n",
      "\n",
      "For cluster 24:\n",
      "Fitting 3 folds for each of 12 candidates, totalling 36 fits\n"
     ]
    },
    {
     "name": "stderr",
     "output_type": "stream",
     "text": [
      "[Parallel(n_jobs=-1)]: Using backend LokyBackend with 8 concurrent workers.\n",
      "[Parallel(n_jobs=-1)]: Done  36 out of  36 | elapsed:   41.5s finished\n"
     ]
    },
    {
     "name": "stdout",
     "output_type": "stream",
     "text": [
      "Best params: {'rf__max_features': 'auto', 'rf__n_estimators': 500}\n",
      "MSE: 4.849598605022831\n",
      "R^2: 0.6055294043499331\n",
      "\n",
      "For cluster 25:\n",
      "Fitting 3 folds for each of 12 candidates, totalling 36 fits\n"
     ]
    },
    {
     "name": "stderr",
     "output_type": "stream",
     "text": [
      "[Parallel(n_jobs=-1)]: Using backend LokyBackend with 8 concurrent workers.\n",
      "[Parallel(n_jobs=-1)]: Done  36 out of  36 | elapsed:   40.4s finished\n"
     ]
    },
    {
     "name": "stdout",
     "output_type": "stream",
     "text": [
      "Best params: {'rf__max_features': 'log2', 'rf__n_estimators': 500}\n",
      "MSE: 4.1101500205479455\n",
      "R^2: 0.3940192095076198\n",
      "\n",
      "For cluster 26:\n",
      "Fitting 3 folds for each of 12 candidates, totalling 36 fits\n"
     ]
    },
    {
     "name": "stderr",
     "output_type": "stream",
     "text": [
      "[Parallel(n_jobs=-1)]: Using backend LokyBackend with 8 concurrent workers.\n",
      "[Parallel(n_jobs=-1)]: Done  36 out of  36 | elapsed:   43.4s finished\n"
     ]
    },
    {
     "name": "stdout",
     "output_type": "stream",
     "text": [
      "Best params: {'rf__max_features': 'log2', 'rf__n_estimators': 500}\n",
      "MSE: 44.19490183333333\n",
      "R^2: 0.3320614497341293\n",
      "\n",
      "For cluster 27:\n",
      "Fitting 3 folds for each of 12 candidates, totalling 36 fits\n"
     ]
    },
    {
     "name": "stderr",
     "output_type": "stream",
     "text": [
      "[Parallel(n_jobs=-1)]: Using backend LokyBackend with 8 concurrent workers.\n",
      "[Parallel(n_jobs=-1)]: Done  36 out of  36 | elapsed:   47.8s finished\n"
     ]
    },
    {
     "name": "stdout",
     "output_type": "stream",
     "text": [
      "Best params: {'rf__max_features': 'sqrt', 'rf__n_estimators': 500}\n",
      "MSE: 21.554706283105023\n",
      "R^2: 0.5296774383648346\n",
      "\n",
      "For cluster 28:\n",
      "Fitting 3 folds for each of 12 candidates, totalling 36 fits\n"
     ]
    },
    {
     "name": "stderr",
     "output_type": "stream",
     "text": [
      "[Parallel(n_jobs=-1)]: Using backend LokyBackend with 8 concurrent workers.\n",
      "[Parallel(n_jobs=-1)]: Done  36 out of  36 | elapsed:   42.6s finished\n"
     ]
    },
    {
     "name": "stdout",
     "output_type": "stream",
     "text": [
      "Best params: {'rf__max_features': 'log2', 'rf__n_estimators': 500}\n",
      "MSE: 19.138498495433787\n",
      "R^2: 0.27287433273006567\n",
      "\n",
      "For cluster 29:\n",
      "Fitting 3 folds for each of 12 candidates, totalling 36 fits\n"
     ]
    },
    {
     "name": "stderr",
     "output_type": "stream",
     "text": [
      "[Parallel(n_jobs=-1)]: Using backend LokyBackend with 8 concurrent workers.\n",
      "[Parallel(n_jobs=-1)]: Done  36 out of  36 | elapsed:   47.0s finished\n"
     ]
    },
    {
     "name": "stdout",
     "output_type": "stream",
     "text": [
      "Best params: {'rf__max_features': 'log2', 'rf__n_estimators': 500}\n",
      "MSE: 2.7892946187214616\n",
      "R^2: -0.032609680200575086\n",
      "\n"
     ]
    }
   ],
   "source": [
    "res['Random Forest'] = 0\n",
    "for c in dfs:\n",
    "    print('For cluster {}:'.format(c))\n",
    "    # train test split\n",
    "    df_train, df_val = train_test_split(dfs[c], test_size=0.2, random_state=1207)\n",
    "    # get X Y\n",
    "    X_train = df_train.drop(columns=['Checkin per Hour', 'Checkout per Hour'])\n",
    "    Y_train = df_train['Checkin per Hour'] - df_train['Checkout per Hour']\n",
    "    X_val = df_val.drop(columns=['Checkin per Hour', 'Checkout per Hour'])\n",
    "    Y_val = df_val['Checkin per Hour'] - df_val['Checkout per Hour']\n",
    "    # shuffle\n",
    "    X_train, Y_train = shuffle(X_train, Y_train, random_state=1207)\n",
    "    # train model\n",
    "    rf_search.fit(X_train, Y_train)\n",
    "    print('Best params: {}'.format(rf_search.best_params_))\n",
    "    # predict\n",
    "    Y_pred = rf_search.predict(X_val)\n",
    "    mse = mean_squared_error(Y_val, Y_pred)\n",
    "    print('MSE: {}'.format(mse))\n",
    "    r2 = rf_search.score(X_val, Y_val)\n",
    "    print('R^2: {}'.format(r2))\n",
    "    res.loc[c, 'Random Forest'] = r2\n",
    "    print()"
   ]
  },
  {
   "cell_type": "code",
   "execution_count": 34,
   "metadata": {},
   "outputs": [],
   "source": [
    "# save csv\n",
    "res.to_csv('./pred_res.csv', index=False)"
   ]
  },
  {
   "cell_type": "markdown",
   "metadata": {},
   "source": [
    "## Xgboost "
   ]
  },
  {
   "cell_type": "code",
   "execution_count": 35,
   "metadata": {},
   "outputs": [],
   "source": [
    "import xgboost as xgb"
   ]
  },
  {
   "cell_type": "code",
   "execution_count": 36,
   "metadata": {},
   "outputs": [],
   "source": [
    "# set pipeline\n",
    "pipeline = Pipeline([('scaler', StandardScaler()),\n",
    "                     ('xgb', xgb.XGBRegressor())])"
   ]
  },
  {
   "cell_type": "code",
   "execution_count": 37,
   "metadata": {},
   "outputs": [],
   "source": [
    "# set grid search\n",
    "params = {'xgb__min_child_weight': [1, 5, 10],\n",
    "          'xgb__gamma': [0.5, 1, 1.5],\n",
    "          'xgb__subsample': [0.6, 0.8, 1.0],\n",
    "          'xgb__colsample_bytree': [0.6, 0.8, 1.0],\n",
    "          'xgb__max_depth': [3, 4, 5]}\n",
    "xgb_search = GridSearchCV(pipeline, params, cv=3, verbose=2, n_jobs=-1)"
   ]
  },
  {
   "cell_type": "code",
   "execution_count": 38,
   "metadata": {
    "scrolled": false
   },
   "outputs": [
    {
     "name": "stdout",
     "output_type": "stream",
     "text": [
      "For cluster 0:\n",
      "Fitting 3 folds for each of 243 candidates, totalling 729 fits\n"
     ]
    },
    {
     "name": "stderr",
     "output_type": "stream",
     "text": [
      "[Parallel(n_jobs=-1)]: Using backend LokyBackend with 8 concurrent workers.\n",
      "[Parallel(n_jobs=-1)]: Done  25 tasks      | elapsed:    5.4s\n",
      "[Parallel(n_jobs=-1)]: Done 146 tasks      | elapsed:   35.7s\n",
      "[Parallel(n_jobs=-1)]: Done 349 tasks      | elapsed:  1.7min\n",
      "[Parallel(n_jobs=-1)]: Done 632 tasks      | elapsed:  3.4min\n",
      "[Parallel(n_jobs=-1)]: Done 729 out of 729 | elapsed:  4.1min finished\n"
     ]
    },
    {
     "name": "stdout",
     "output_type": "stream",
     "text": [
      "[12:50:59] WARNING: src/objective/regression_obj.cu:152: reg:linear is now deprecated in favor of reg:squarederror.\n",
      "Best params: {'xgb__colsample_bytree': 0.8, 'xgb__gamma': 1, 'xgb__max_depth': 4, 'xgb__min_child_weight': 1, 'xgb__subsample': 1.0}\n",
      "MSE: 37.339908019494736\n",
      "R^2: 0.5822083461492642\n",
      "\n",
      "For cluster 1:\n",
      "Fitting 3 folds for each of 243 candidates, totalling 729 fits\n"
     ]
    },
    {
     "name": "stderr",
     "output_type": "stream",
     "text": [
      "[Parallel(n_jobs=-1)]: Using backend LokyBackend with 8 concurrent workers.\n",
      "[Parallel(n_jobs=-1)]: Done  25 tasks      | elapsed:    6.3s\n",
      "[Parallel(n_jobs=-1)]: Done 146 tasks      | elapsed:   36.4s\n",
      "[Parallel(n_jobs=-1)]: Done 349 tasks      | elapsed:  1.6min\n",
      "[Parallel(n_jobs=-1)]: Done 632 tasks      | elapsed:  3.2min\n",
      "[Parallel(n_jobs=-1)]: Done 729 out of 729 | elapsed:  3.8min finished\n"
     ]
    },
    {
     "name": "stdout",
     "output_type": "stream",
     "text": [
      "[12:54:51] WARNING: src/objective/regression_obj.cu:152: reg:linear is now deprecated in favor of reg:squarederror.\n",
      "Best params: {'xgb__colsample_bytree': 1.0, 'xgb__gamma': 1.5, 'xgb__max_depth': 4, 'xgb__min_child_weight': 1, 'xgb__subsample': 1.0}\n",
      "MSE: 45.79301523298527\n",
      "R^2: 0.4020778728240091\n",
      "\n",
      "For cluster 2:\n",
      "Fitting 3 folds for each of 243 candidates, totalling 729 fits\n"
     ]
    },
    {
     "name": "stderr",
     "output_type": "stream",
     "text": [
      "[Parallel(n_jobs=-1)]: Using backend LokyBackend with 8 concurrent workers.\n",
      "[Parallel(n_jobs=-1)]: Done  25 tasks      | elapsed:    5.6s\n",
      "[Parallel(n_jobs=-1)]: Done 146 tasks      | elapsed:   36.5s\n",
      "[Parallel(n_jobs=-1)]: Done 349 tasks      | elapsed:  1.5min\n",
      "[Parallel(n_jobs=-1)]: Done 632 tasks      | elapsed:  3.0min\n",
      "[Parallel(n_jobs=-1)]: Done 729 out of 729 | elapsed:  3.6min finished\n"
     ]
    },
    {
     "name": "stdout",
     "output_type": "stream",
     "text": [
      "[12:58:26] WARNING: src/objective/regression_obj.cu:152: reg:linear is now deprecated in favor of reg:squarederror.\n",
      "Best params: {'xgb__colsample_bytree': 0.8, 'xgb__gamma': 1.5, 'xgb__max_depth': 5, 'xgb__min_child_weight': 1, 'xgb__subsample': 1.0}\n",
      "MSE: 6.751943950340278\n",
      "R^2: 0.6151003383857703\n",
      "\n",
      "For cluster 3:\n",
      "Fitting 3 folds for each of 243 candidates, totalling 729 fits\n"
     ]
    },
    {
     "name": "stderr",
     "output_type": "stream",
     "text": [
      "[Parallel(n_jobs=-1)]: Using backend LokyBackend with 8 concurrent workers.\n",
      "[Parallel(n_jobs=-1)]: Done  25 tasks      | elapsed:    6.5s\n",
      "[Parallel(n_jobs=-1)]: Done 146 tasks      | elapsed:   35.7s\n",
      "[Parallel(n_jobs=-1)]: Done 349 tasks      | elapsed:  1.5min\n",
      "[Parallel(n_jobs=-1)]: Done 632 tasks      | elapsed:  3.1min\n",
      "[Parallel(n_jobs=-1)]: Done 729 out of 729 | elapsed:  3.7min finished\n"
     ]
    },
    {
     "name": "stdout",
     "output_type": "stream",
     "text": [
      "[13:02:08] WARNING: src/objective/regression_obj.cu:152: reg:linear is now deprecated in favor of reg:squarederror.\n",
      "Best params: {'xgb__colsample_bytree': 0.8, 'xgb__gamma': 0.5, 'xgb__max_depth': 3, 'xgb__min_child_weight': 5, 'xgb__subsample': 1.0}\n",
      "MSE: 1.378277574009286\n",
      "R^2: 0.05701691912083351\n",
      "\n",
      "For cluster 4:\n",
      "Fitting 3 folds for each of 243 candidates, totalling 729 fits\n"
     ]
    },
    {
     "name": "stderr",
     "output_type": "stream",
     "text": [
      "[Parallel(n_jobs=-1)]: Using backend LokyBackend with 8 concurrent workers.\n",
      "[Parallel(n_jobs=-1)]: Done  25 tasks      | elapsed:    8.1s\n",
      "[Parallel(n_jobs=-1)]: Done 146 tasks      | elapsed:   41.0s\n",
      "[Parallel(n_jobs=-1)]: Done 349 tasks      | elapsed:  1.6min\n",
      "[Parallel(n_jobs=-1)]: Done 632 tasks      | elapsed:  3.1min\n",
      "[Parallel(n_jobs=-1)]: Done 729 out of 729 | elapsed:  3.7min finished\n"
     ]
    },
    {
     "name": "stdout",
     "output_type": "stream",
     "text": [
      "[13:05:48] WARNING: src/objective/regression_obj.cu:152: reg:linear is now deprecated in favor of reg:squarederror.\n",
      "Best params: {'xgb__colsample_bytree': 1.0, 'xgb__gamma': 0.5, 'xgb__max_depth': 5, 'xgb__min_child_weight': 1, 'xgb__subsample': 0.8}\n",
      "MSE: 143.92580789165433\n",
      "R^2: 0.8834446947454608\n",
      "\n",
      "For cluster 5:\n",
      "Fitting 3 folds for each of 243 candidates, totalling 729 fits\n"
     ]
    },
    {
     "name": "stderr",
     "output_type": "stream",
     "text": [
      "[Parallel(n_jobs=-1)]: Using backend LokyBackend with 8 concurrent workers.\n",
      "[Parallel(n_jobs=-1)]: Done  25 tasks      | elapsed:    5.1s\n",
      "[Parallel(n_jobs=-1)]: Done 146 tasks      | elapsed:   40.3s\n",
      "[Parallel(n_jobs=-1)]: Done 349 tasks      | elapsed:  1.8min\n",
      "[Parallel(n_jobs=-1)]: Done 632 tasks      | elapsed:  3.7min\n",
      "[Parallel(n_jobs=-1)]: Done 729 out of 729 | elapsed:  4.2min finished\n"
     ]
    },
    {
     "name": "stdout",
     "output_type": "stream",
     "text": [
      "[13:10:06] WARNING: src/objective/regression_obj.cu:152: reg:linear is now deprecated in favor of reg:squarederror.\n",
      "Best params: {'xgb__colsample_bytree': 0.6, 'xgb__gamma': 0.5, 'xgb__max_depth': 5, 'xgb__min_child_weight': 5, 'xgb__subsample': 1.0}\n",
      "MSE: 24.36516521045004\n",
      "R^2: 0.4738993618032473\n",
      "\n",
      "For cluster 6:\n",
      "Fitting 3 folds for each of 243 candidates, totalling 729 fits\n"
     ]
    },
    {
     "name": "stderr",
     "output_type": "stream",
     "text": [
      "[Parallel(n_jobs=-1)]: Using backend LokyBackend with 8 concurrent workers.\n",
      "[Parallel(n_jobs=-1)]: Done  25 tasks      | elapsed:    7.4s\n",
      "[Parallel(n_jobs=-1)]: Done 146 tasks      | elapsed:   44.5s\n",
      "[Parallel(n_jobs=-1)]: Done 349 tasks      | elapsed:  2.0min\n",
      "[Parallel(n_jobs=-1)]: Done 632 tasks      | elapsed:  4.4min\n",
      "[Parallel(n_jobs=-1)]: Done 729 out of 729 | elapsed:  5.0min finished\n"
     ]
    },
    {
     "name": "stdout",
     "output_type": "stream",
     "text": [
      "[13:15:06] WARNING: src/objective/regression_obj.cu:152: reg:linear is now deprecated in favor of reg:squarederror.\n",
      "Best params: {'xgb__colsample_bytree': 0.8, 'xgb__gamma': 1, 'xgb__max_depth': 5, 'xgb__min_child_weight': 1, 'xgb__subsample': 1.0}\n",
      "MSE: 17.611826058271443\n",
      "R^2: 0.6523539612618245\n",
      "\n",
      "For cluster 7:\n",
      "Fitting 3 folds for each of 243 candidates, totalling 729 fits\n"
     ]
    },
    {
     "name": "stderr",
     "output_type": "stream",
     "text": [
      "[Parallel(n_jobs=-1)]: Using backend LokyBackend with 8 concurrent workers.\n",
      "[Parallel(n_jobs=-1)]: Done  25 tasks      | elapsed:    6.6s\n",
      "[Parallel(n_jobs=-1)]: Done 146 tasks      | elapsed:   38.0s\n",
      "[Parallel(n_jobs=-1)]: Done 349 tasks      | elapsed:  1.6min\n",
      "[Parallel(n_jobs=-1)]: Done 632 tasks      | elapsed:  3.3min\n",
      "[Parallel(n_jobs=-1)]: Done 729 out of 729 | elapsed:  3.9min finished\n"
     ]
    },
    {
     "name": "stdout",
     "output_type": "stream",
     "text": [
      "[13:19:00] WARNING: src/objective/regression_obj.cu:152: reg:linear is now deprecated in favor of reg:squarederror.\n",
      "Best params: {'xgb__colsample_bytree': 1.0, 'xgb__gamma': 0.5, 'xgb__max_depth': 3, 'xgb__min_child_weight': 1, 'xgb__subsample': 0.8}\n",
      "MSE: 10.617053486550695\n",
      "R^2: 0.24149230579172076\n",
      "\n",
      "For cluster 8:\n",
      "Fitting 3 folds for each of 243 candidates, totalling 729 fits\n"
     ]
    },
    {
     "name": "stderr",
     "output_type": "stream",
     "text": [
      "[Parallel(n_jobs=-1)]: Using backend LokyBackend with 8 concurrent workers.\n",
      "[Parallel(n_jobs=-1)]: Done  25 tasks      | elapsed:    5.4s\n",
      "[Parallel(n_jobs=-1)]: Done 146 tasks      | elapsed:   35.7s\n",
      "[Parallel(n_jobs=-1)]: Done 349 tasks      | elapsed:  1.6min\n",
      "[Parallel(n_jobs=-1)]: Done 632 tasks      | elapsed:  3.1min\n",
      "[Parallel(n_jobs=-1)]: Done 729 out of 729 | elapsed:  3.7min finished\n"
     ]
    },
    {
     "name": "stdout",
     "output_type": "stream",
     "text": [
      "[13:22:43] WARNING: src/objective/regression_obj.cu:152: reg:linear is now deprecated in favor of reg:squarederror.\n",
      "Best params: {'xgb__colsample_bytree': 1.0, 'xgb__gamma': 0.5, 'xgb__max_depth': 5, 'xgb__min_child_weight': 1, 'xgb__subsample': 0.8}\n",
      "MSE: 25.68050944213167\n",
      "R^2: 0.6599846262144123\n",
      "\n",
      "For cluster 9:\n",
      "Fitting 3 folds for each of 243 candidates, totalling 729 fits\n"
     ]
    },
    {
     "name": "stderr",
     "output_type": "stream",
     "text": [
      "[Parallel(n_jobs=-1)]: Using backend LokyBackend with 8 concurrent workers.\n",
      "[Parallel(n_jobs=-1)]: Done  25 tasks      | elapsed:    6.5s\n",
      "[Parallel(n_jobs=-1)]: Done 146 tasks      | elapsed:   39.8s\n",
      "[Parallel(n_jobs=-1)]: Done 349 tasks      | elapsed:  1.6min\n",
      "[Parallel(n_jobs=-1)]: Done 632 tasks      | elapsed:  3.2min\n",
      "[Parallel(n_jobs=-1)]: Done 729 out of 729 | elapsed:  3.8min finished\n"
     ]
    },
    {
     "name": "stdout",
     "output_type": "stream",
     "text": [
      "[13:26:37] WARNING: src/objective/regression_obj.cu:152: reg:linear is now deprecated in favor of reg:squarederror.\n",
      "Best params: {'xgb__colsample_bytree': 0.6, 'xgb__gamma': 1.5, 'xgb__max_depth': 5, 'xgb__min_child_weight': 1, 'xgb__subsample': 1.0}\n",
      "MSE: 20.372993960336565\n",
      "R^2: 0.7521240922467808\n",
      "\n",
      "For cluster 10:\n",
      "Fitting 3 folds for each of 243 candidates, totalling 729 fits\n"
     ]
    },
    {
     "name": "stderr",
     "output_type": "stream",
     "text": [
      "[Parallel(n_jobs=-1)]: Using backend LokyBackend with 8 concurrent workers.\n",
      "[Parallel(n_jobs=-1)]: Done  25 tasks      | elapsed:    5.9s\n",
      "[Parallel(n_jobs=-1)]: Done 146 tasks      | elapsed:   37.9s\n",
      "[Parallel(n_jobs=-1)]: Done 349 tasks      | elapsed:  1.6min\n",
      "[Parallel(n_jobs=-1)]: Done 632 tasks      | elapsed:  3.1min\n",
      "[Parallel(n_jobs=-1)]: Done 729 out of 729 | elapsed:  3.6min finished\n"
     ]
    },
    {
     "name": "stdout",
     "output_type": "stream",
     "text": [
      "[13:30:17] WARNING: src/objective/regression_obj.cu:152: reg:linear is now deprecated in favor of reg:squarederror.\n",
      "Best params: {'xgb__colsample_bytree': 0.8, 'xgb__gamma': 1.5, 'xgb__max_depth': 3, 'xgb__min_child_weight': 10, 'xgb__subsample': 1.0}\n",
      "MSE: 1.0078259857322804\n",
      "R^2: 0.011821974675517932\n",
      "\n",
      "For cluster 11:\n",
      "Fitting 3 folds for each of 243 candidates, totalling 729 fits\n"
     ]
    },
    {
     "name": "stderr",
     "output_type": "stream",
     "text": [
      "[Parallel(n_jobs=-1)]: Using backend LokyBackend with 8 concurrent workers.\n",
      "[Parallel(n_jobs=-1)]: Done  25 tasks      | elapsed:    6.6s\n",
      "[Parallel(n_jobs=-1)]: Done 146 tasks      | elapsed:   39.4s\n",
      "[Parallel(n_jobs=-1)]: Done 349 tasks      | elapsed:  1.6min\n",
      "[Parallel(n_jobs=-1)]: Done 632 tasks      | elapsed:  3.2min\n",
      "[Parallel(n_jobs=-1)]: Done 729 out of 729 | elapsed:  3.7min finished\n"
     ]
    },
    {
     "name": "stdout",
     "output_type": "stream",
     "text": [
      "[13:33:58] WARNING: src/objective/regression_obj.cu:152: reg:linear is now deprecated in favor of reg:squarederror.\n",
      "Best params: {'xgb__colsample_bytree': 1.0, 'xgb__gamma': 1, 'xgb__max_depth': 4, 'xgb__min_child_weight': 1, 'xgb__subsample': 0.6}\n",
      "MSE: 2.3626795772055558\n",
      "R^2: 0.4697844072989993\n",
      "\n",
      "For cluster 12:\n",
      "Fitting 3 folds for each of 243 candidates, totalling 729 fits\n"
     ]
    },
    {
     "name": "stderr",
     "output_type": "stream",
     "text": [
      "[Parallel(n_jobs=-1)]: Using backend LokyBackend with 8 concurrent workers.\n",
      "[Parallel(n_jobs=-1)]: Done  25 tasks      | elapsed:    5.4s\n",
      "[Parallel(n_jobs=-1)]: Done 146 tasks      | elapsed:   38.9s\n",
      "[Parallel(n_jobs=-1)]: Done 349 tasks      | elapsed:  1.5min\n",
      "[Parallel(n_jobs=-1)]: Done 632 tasks      | elapsed:  2.9min\n",
      "[Parallel(n_jobs=-1)]: Done 729 out of 729 | elapsed:  3.4min finished\n"
     ]
    },
    {
     "name": "stdout",
     "output_type": "stream",
     "text": [
      "[13:37:26] WARNING: src/objective/regression_obj.cu:152: reg:linear is now deprecated in favor of reg:squarederror.\n",
      "Best params: {'xgb__colsample_bytree': 1.0, 'xgb__gamma': 0.5, 'xgb__max_depth': 4, 'xgb__min_child_weight': 1, 'xgb__subsample': 0.8}\n",
      "MSE: 31.311082524818033\n",
      "R^2: 0.4970770264308634\n",
      "\n",
      "For cluster 13:\n",
      "Fitting 3 folds for each of 243 candidates, totalling 729 fits\n"
     ]
    },
    {
     "name": "stderr",
     "output_type": "stream",
     "text": [
      "[Parallel(n_jobs=-1)]: Using backend LokyBackend with 8 concurrent workers.\n",
      "[Parallel(n_jobs=-1)]: Done  25 tasks      | elapsed:    4.8s\n",
      "[Parallel(n_jobs=-1)]: Done 146 tasks      | elapsed:   31.2s\n",
      "[Parallel(n_jobs=-1)]: Done 349 tasks      | elapsed:  1.4min\n",
      "[Parallel(n_jobs=-1)]: Done 632 tasks      | elapsed:  2.7min\n",
      "[Parallel(n_jobs=-1)]: Done 729 out of 729 | elapsed:  3.2min finished\n"
     ]
    },
    {
     "name": "stdout",
     "output_type": "stream",
     "text": [
      "[13:40:41] WARNING: src/objective/regression_obj.cu:152: reg:linear is now deprecated in favor of reg:squarederror.\n",
      "Best params: {'xgb__colsample_bytree': 0.8, 'xgb__gamma': 1, 'xgb__max_depth': 5, 'xgb__min_child_weight': 1, 'xgb__subsample': 1.0}\n",
      "MSE: 15.756755644869338\n",
      "R^2: 0.660002596941913\n",
      "\n",
      "For cluster 14:\n",
      "Fitting 3 folds for each of 243 candidates, totalling 729 fits\n"
     ]
    },
    {
     "name": "stderr",
     "output_type": "stream",
     "text": [
      "[Parallel(n_jobs=-1)]: Using backend LokyBackend with 8 concurrent workers.\n",
      "[Parallel(n_jobs=-1)]: Done  25 tasks      | elapsed:    4.8s\n",
      "[Parallel(n_jobs=-1)]: Done 146 tasks      | elapsed:   30.3s\n",
      "[Parallel(n_jobs=-1)]: Done 349 tasks      | elapsed:  1.3min\n",
      "[Parallel(n_jobs=-1)]: Done 632 tasks      | elapsed:  2.6min\n",
      "[Parallel(n_jobs=-1)]: Done 729 out of 729 | elapsed:  3.1min finished\n"
     ]
    },
    {
     "name": "stdout",
     "output_type": "stream",
     "text": [
      "[13:43:47] WARNING: src/objective/regression_obj.cu:152: reg:linear is now deprecated in favor of reg:squarederror.\n",
      "Best params: {'xgb__colsample_bytree': 1.0, 'xgb__gamma': 1.5, 'xgb__max_depth': 3, 'xgb__min_child_weight': 10, 'xgb__subsample': 1.0}\n",
      "MSE: 20.424515457981162\n",
      "R^2: 0.16950638203144008\n",
      "\n",
      "For cluster 15:\n",
      "Fitting 3 folds for each of 243 candidates, totalling 729 fits\n"
     ]
    },
    {
     "name": "stderr",
     "output_type": "stream",
     "text": [
      "[Parallel(n_jobs=-1)]: Using backend LokyBackend with 8 concurrent workers.\n",
      "[Parallel(n_jobs=-1)]: Done  25 tasks      | elapsed:    4.5s\n",
      "[Parallel(n_jobs=-1)]: Done 146 tasks      | elapsed:   33.6s\n",
      "[Parallel(n_jobs=-1)]: Done 349 tasks      | elapsed:  1.4min\n",
      "[Parallel(n_jobs=-1)]: Done 632 tasks      | elapsed:  2.8min\n",
      "[Parallel(n_jobs=-1)]: Done 729 out of 729 | elapsed:  3.3min finished\n"
     ]
    },
    {
     "name": "stdout",
     "output_type": "stream",
     "text": [
      "[13:47:06] WARNING: src/objective/regression_obj.cu:152: reg:linear is now deprecated in favor of reg:squarederror.\n",
      "Best params: {'xgb__colsample_bytree': 0.6, 'xgb__gamma': 1.5, 'xgb__max_depth': 4, 'xgb__min_child_weight': 1, 'xgb__subsample': 1.0}\n",
      "MSE: 4.177430506953755\n",
      "R^2: 0.46353340181776304\n",
      "\n",
      "For cluster 16:\n",
      "Fitting 3 folds for each of 243 candidates, totalling 729 fits\n"
     ]
    },
    {
     "name": "stderr",
     "output_type": "stream",
     "text": [
      "[Parallel(n_jobs=-1)]: Using backend LokyBackend with 8 concurrent workers.\n",
      "[Parallel(n_jobs=-1)]: Done  25 tasks      | elapsed:    4.8s\n",
      "[Parallel(n_jobs=-1)]: Done 146 tasks      | elapsed:   32.0s\n",
      "[Parallel(n_jobs=-1)]: Done 349 tasks      | elapsed:  1.4min\n",
      "[Parallel(n_jobs=-1)]: Done 632 tasks      | elapsed:  2.7min\n",
      "[Parallel(n_jobs=-1)]: Done 729 out of 729 | elapsed:  3.3min finished\n"
     ]
    },
    {
     "name": "stdout",
     "output_type": "stream",
     "text": [
      "[13:50:22] WARNING: src/objective/regression_obj.cu:152: reg:linear is now deprecated in favor of reg:squarederror.\n",
      "Best params: {'xgb__colsample_bytree': 0.6, 'xgb__gamma': 1.5, 'xgb__max_depth': 3, 'xgb__min_child_weight': 5, 'xgb__subsample': 1.0}\n",
      "MSE: 24.54773488040667\n",
      "R^2: 0.29183981462882647\n",
      "\n",
      "For cluster 17:\n",
      "Fitting 3 folds for each of 243 candidates, totalling 729 fits\n"
     ]
    },
    {
     "name": "stderr",
     "output_type": "stream",
     "text": [
      "[Parallel(n_jobs=-1)]: Using backend LokyBackend with 8 concurrent workers.\n",
      "[Parallel(n_jobs=-1)]: Done  25 tasks      | elapsed:    7.3s\n",
      "[Parallel(n_jobs=-1)]: Done 146 tasks      | elapsed:   36.6s\n",
      "[Parallel(n_jobs=-1)]: Done 349 tasks      | elapsed:  1.4min\n",
      "[Parallel(n_jobs=-1)]: Done 632 tasks      | elapsed:  2.8min\n",
      "[Parallel(n_jobs=-1)]: Done 729 out of 729 | elapsed:  3.3min finished\n"
     ]
    },
    {
     "name": "stdout",
     "output_type": "stream",
     "text": [
      "[13:53:41] WARNING: src/objective/regression_obj.cu:152: reg:linear is now deprecated in favor of reg:squarederror.\n",
      "Best params: {'xgb__colsample_bytree': 0.6, 'xgb__gamma': 1.5, 'xgb__max_depth': 5, 'xgb__min_child_weight': 1, 'xgb__subsample': 1.0}\n",
      "MSE: 31.427519533932546\n",
      "R^2: 0.7158093505564473\n",
      "\n",
      "For cluster 18:\n",
      "Fitting 3 folds for each of 243 candidates, totalling 729 fits\n"
     ]
    },
    {
     "name": "stderr",
     "output_type": "stream",
     "text": [
      "[Parallel(n_jobs=-1)]: Using backend LokyBackend with 8 concurrent workers.\n",
      "[Parallel(n_jobs=-1)]: Done  25 tasks      | elapsed:    5.1s\n",
      "[Parallel(n_jobs=-1)]: Done 146 tasks      | elapsed:   34.9s\n",
      "[Parallel(n_jobs=-1)]: Done 349 tasks      | elapsed:  1.4min\n",
      "[Parallel(n_jobs=-1)]: Done 632 tasks      | elapsed:  2.9min\n",
      "[Parallel(n_jobs=-1)]: Done 729 out of 729 | elapsed:  3.5min finished\n"
     ]
    },
    {
     "name": "stdout",
     "output_type": "stream",
     "text": [
      "[13:57:10] WARNING: src/objective/regression_obj.cu:152: reg:linear is now deprecated in favor of reg:squarederror.\n",
      "Best params: {'xgb__colsample_bytree': 1.0, 'xgb__gamma': 1, 'xgb__max_depth': 5, 'xgb__min_child_weight': 1, 'xgb__subsample': 1.0}\n",
      "MSE: 27.641960579517185\n",
      "R^2: 0.767318063731628\n",
      "\n",
      "For cluster 19:\n",
      "Fitting 3 folds for each of 243 candidates, totalling 729 fits\n"
     ]
    },
    {
     "name": "stderr",
     "output_type": "stream",
     "text": [
      "[Parallel(n_jobs=-1)]: Using backend LokyBackend with 8 concurrent workers.\n",
      "[Parallel(n_jobs=-1)]: Done  25 tasks      | elapsed:    6.9s\n",
      "[Parallel(n_jobs=-1)]: Done 146 tasks      | elapsed:   39.2s\n",
      "[Parallel(n_jobs=-1)]: Done 349 tasks      | elapsed:  1.6min\n",
      "[Parallel(n_jobs=-1)]: Done 632 tasks      | elapsed:  3.0min\n",
      "[Parallel(n_jobs=-1)]: Done 729 out of 729 | elapsed:  3.6min finished\n"
     ]
    },
    {
     "name": "stdout",
     "output_type": "stream",
     "text": [
      "[14:00:46] WARNING: src/objective/regression_obj.cu:152: reg:linear is now deprecated in favor of reg:squarederror.\n",
      "Best params: {'xgb__colsample_bytree': 1.0, 'xgb__gamma': 1.5, 'xgb__max_depth': 5, 'xgb__min_child_weight': 1, 'xgb__subsample': 1.0}\n",
      "MSE: 9.618406376141305\n",
      "R^2: 0.6431956567761157\n",
      "\n",
      "For cluster 20:\n",
      "Fitting 3 folds for each of 243 candidates, totalling 729 fits\n"
     ]
    },
    {
     "name": "stderr",
     "output_type": "stream",
     "text": [
      "[Parallel(n_jobs=-1)]: Using backend LokyBackend with 8 concurrent workers.\n",
      "[Parallel(n_jobs=-1)]: Done  25 tasks      | elapsed:    5.5s\n",
      "[Parallel(n_jobs=-1)]: Done 146 tasks      | elapsed:   35.3s\n",
      "[Parallel(n_jobs=-1)]: Done 349 tasks      | elapsed:  1.4min\n",
      "[Parallel(n_jobs=-1)]: Done 632 tasks      | elapsed:  2.8min\n",
      "[Parallel(n_jobs=-1)]: Done 729 out of 729 | elapsed:  3.3min finished\n"
     ]
    },
    {
     "name": "stdout",
     "output_type": "stream",
     "text": [
      "[14:04:09] WARNING: src/objective/regression_obj.cu:152: reg:linear is now deprecated in favor of reg:squarederror.\n",
      "Best params: {'xgb__colsample_bytree': 0.6, 'xgb__gamma': 0.5, 'xgb__max_depth': 5, 'xgb__min_child_weight': 1, 'xgb__subsample': 1.0}\n",
      "MSE: 1.9812874304418082\n",
      "R^2: 0.4522464444936648\n",
      "\n",
      "For cluster 21:\n",
      "Fitting 3 folds for each of 243 candidates, totalling 729 fits\n"
     ]
    },
    {
     "name": "stderr",
     "output_type": "stream",
     "text": [
      "[Parallel(n_jobs=-1)]: Using backend LokyBackend with 8 concurrent workers.\n",
      "[Parallel(n_jobs=-1)]: Done  25 tasks      | elapsed:    6.9s\n",
      "[Parallel(n_jobs=-1)]: Done 146 tasks      | elapsed:   38.3s\n",
      "[Parallel(n_jobs=-1)]: Done 349 tasks      | elapsed:  1.4min\n",
      "[Parallel(n_jobs=-1)]: Done 632 tasks      | elapsed:  2.9min\n",
      "[Parallel(n_jobs=-1)]: Done 729 out of 729 | elapsed:  3.3min finished\n"
     ]
    },
    {
     "name": "stdout",
     "output_type": "stream",
     "text": [
      "[14:07:31] WARNING: src/objective/regression_obj.cu:152: reg:linear is now deprecated in favor of reg:squarederror.\n",
      "Best params: {'xgb__colsample_bytree': 0.6, 'xgb__gamma': 1.5, 'xgb__max_depth': 3, 'xgb__min_child_weight': 10, 'xgb__subsample': 0.8}\n",
      "MSE: 0.3818743388866634\n",
      "R^2: 0.061522625005329235\n",
      "\n",
      "For cluster 22:\n",
      "Fitting 3 folds for each of 243 candidates, totalling 729 fits\n"
     ]
    },
    {
     "name": "stderr",
     "output_type": "stream",
     "text": [
      "[Parallel(n_jobs=-1)]: Using backend LokyBackend with 8 concurrent workers.\n",
      "[Parallel(n_jobs=-1)]: Done  25 tasks      | elapsed:    4.6s\n",
      "[Parallel(n_jobs=-1)]: Done 146 tasks      | elapsed:   31.9s\n",
      "[Parallel(n_jobs=-1)]: Done 349 tasks      | elapsed:  1.4min\n",
      "[Parallel(n_jobs=-1)]: Done 632 tasks      | elapsed:  2.7min\n",
      "[Parallel(n_jobs=-1)]: Done 729 out of 729 | elapsed:  3.3min finished\n"
     ]
    },
    {
     "name": "stdout",
     "output_type": "stream",
     "text": [
      "[14:10:49] WARNING: src/objective/regression_obj.cu:152: reg:linear is now deprecated in favor of reg:squarederror.\n",
      "Best params: {'xgb__colsample_bytree': 0.8, 'xgb__gamma': 0.5, 'xgb__max_depth': 4, 'xgb__min_child_weight': 1, 'xgb__subsample': 1.0}\n",
      "MSE: 44.439916106816256\n",
      "R^2: 0.22550115724982311\n",
      "\n",
      "For cluster 23:\n",
      "Fitting 3 folds for each of 243 candidates, totalling 729 fits\n"
     ]
    },
    {
     "name": "stderr",
     "output_type": "stream",
     "text": [
      "[Parallel(n_jobs=-1)]: Using backend LokyBackend with 8 concurrent workers.\n",
      "[Parallel(n_jobs=-1)]: Done  25 tasks      | elapsed:    4.8s\n",
      "[Parallel(n_jobs=-1)]: Done 146 tasks      | elapsed:   30.5s\n",
      "[Parallel(n_jobs=-1)]: Done 349 tasks      | elapsed:  1.3min\n",
      "[Parallel(n_jobs=-1)]: Done 632 tasks      | elapsed:  2.7min\n",
      "[Parallel(n_jobs=-1)]: Done 729 out of 729 | elapsed:  3.2min finished\n"
     ]
    },
    {
     "name": "stdout",
     "output_type": "stream",
     "text": [
      "[14:14:00] WARNING: src/objective/regression_obj.cu:152: reg:linear is now deprecated in favor of reg:squarederror.\n",
      "Best params: {'xgb__colsample_bytree': 0.8, 'xgb__gamma': 1.5, 'xgb__max_depth': 5, 'xgb__min_child_weight': 1, 'xgb__subsample': 1.0}\n",
      "MSE: 34.5773851596139\n",
      "R^2: 0.6386016949692706\n",
      "\n",
      "For cluster 24:\n",
      "Fitting 3 folds for each of 243 candidates, totalling 729 fits\n"
     ]
    },
    {
     "name": "stderr",
     "output_type": "stream",
     "text": [
      "[Parallel(n_jobs=-1)]: Using backend LokyBackend with 8 concurrent workers.\n",
      "[Parallel(n_jobs=-1)]: Done  25 tasks      | elapsed:    5.4s\n",
      "[Parallel(n_jobs=-1)]: Done 146 tasks      | elapsed:   36.8s\n",
      "[Parallel(n_jobs=-1)]: Done 349 tasks      | elapsed:  1.4min\n",
      "[Parallel(n_jobs=-1)]: Done 632 tasks      | elapsed:  2.8min\n",
      "[Parallel(n_jobs=-1)]: Done 729 out of 729 | elapsed:  3.3min finished\n"
     ]
    },
    {
     "name": "stdout",
     "output_type": "stream",
     "text": [
      "[14:17:17] WARNING: src/objective/regression_obj.cu:152: reg:linear is now deprecated in favor of reg:squarederror.\n",
      "Best params: {'xgb__colsample_bytree': 0.8, 'xgb__gamma': 1, 'xgb__max_depth': 5, 'xgb__min_child_weight': 1, 'xgb__subsample': 1.0}\n",
      "MSE: 4.6449686797767145\n",
      "R^2: 0.6221741815931591\n",
      "\n",
      "For cluster 25:\n",
      "Fitting 3 folds for each of 243 candidates, totalling 729 fits\n"
     ]
    },
    {
     "name": "stderr",
     "output_type": "stream",
     "text": [
      "[Parallel(n_jobs=-1)]: Using backend LokyBackend with 8 concurrent workers.\n",
      "[Parallel(n_jobs=-1)]: Done  25 tasks      | elapsed:    4.7s\n",
      "[Parallel(n_jobs=-1)]: Done 146 tasks      | elapsed:   30.5s\n",
      "[Parallel(n_jobs=-1)]: Done 349 tasks      | elapsed:  1.4min\n",
      "[Parallel(n_jobs=-1)]: Done 632 tasks      | elapsed:  2.7min\n",
      "[Parallel(n_jobs=-1)]: Done 729 out of 729 | elapsed:  3.3min finished\n"
     ]
    },
    {
     "name": "stdout",
     "output_type": "stream",
     "text": [
      "[14:20:35] WARNING: src/objective/regression_obj.cu:152: reg:linear is now deprecated in favor of reg:squarederror.\n",
      "Best params: {'xgb__colsample_bytree': 0.6, 'xgb__gamma': 0.5, 'xgb__max_depth': 4, 'xgb__min_child_weight': 10, 'xgb__subsample': 1.0}\n",
      "MSE: 4.161414116359272\n",
      "R^2: 0.38646107728657664\n",
      "\n",
      "For cluster 26:\n",
      "Fitting 3 folds for each of 243 candidates, totalling 729 fits\n"
     ]
    },
    {
     "name": "stderr",
     "output_type": "stream",
     "text": [
      "[Parallel(n_jobs=-1)]: Using backend LokyBackend with 8 concurrent workers.\n",
      "[Parallel(n_jobs=-1)]: Done  25 tasks      | elapsed:    4.5s\n",
      "[Parallel(n_jobs=-1)]: Done 146 tasks      | elapsed:   31.6s\n",
      "[Parallel(n_jobs=-1)]: Done 349 tasks      | elapsed:  1.3min\n",
      "[Parallel(n_jobs=-1)]: Done 632 tasks      | elapsed:  2.8min\n",
      "[Parallel(n_jobs=-1)]: Done 729 out of 729 | elapsed:  3.3min finished\n"
     ]
    },
    {
     "name": "stdout",
     "output_type": "stream",
     "text": [
      "[14:23:54] WARNING: src/objective/regression_obj.cu:152: reg:linear is now deprecated in favor of reg:squarederror.\n",
      "Best params: {'xgb__colsample_bytree': 0.6, 'xgb__gamma': 0.5, 'xgb__max_depth': 4, 'xgb__min_child_weight': 1, 'xgb__subsample': 1.0}\n",
      "MSE: 41.646231772486324\n",
      "R^2: 0.3705807113441688\n",
      "\n",
      "For cluster 27:\n",
      "Fitting 3 folds for each of 243 candidates, totalling 729 fits\n"
     ]
    },
    {
     "name": "stderr",
     "output_type": "stream",
     "text": [
      "[Parallel(n_jobs=-1)]: Using backend LokyBackend with 8 concurrent workers.\n",
      "[Parallel(n_jobs=-1)]: Done  25 tasks      | elapsed:    5.6s\n",
      "[Parallel(n_jobs=-1)]: Done 146 tasks      | elapsed:   42.8s\n",
      "[Parallel(n_jobs=-1)]: Done 349 tasks      | elapsed:  1.6min\n",
      "[Parallel(n_jobs=-1)]: Done 632 tasks      | elapsed:  3.5min\n",
      "[Parallel(n_jobs=-1)]: Done 729 out of 729 | elapsed:  4.2min finished\n"
     ]
    },
    {
     "name": "stdout",
     "output_type": "stream",
     "text": [
      "[14:28:07] WARNING: src/objective/regression_obj.cu:152: reg:linear is now deprecated in favor of reg:squarederror.\n",
      "Best params: {'xgb__colsample_bytree': 0.8, 'xgb__gamma': 1, 'xgb__max_depth': 4, 'xgb__min_child_weight': 1, 'xgb__subsample': 1.0}\n",
      "MSE: 21.42245664717054\n",
      "R^2: 0.5325631184910712\n",
      "\n",
      "For cluster 28:\n",
      "Fitting 3 folds for each of 243 candidates, totalling 729 fits\n"
     ]
    },
    {
     "name": "stderr",
     "output_type": "stream",
     "text": [
      "[Parallel(n_jobs=-1)]: Using backend LokyBackend with 8 concurrent workers.\n",
      "[Parallel(n_jobs=-1)]: Done  25 tasks      | elapsed:    6.6s\n",
      "[Parallel(n_jobs=-1)]: Done 146 tasks      | elapsed:   57.8s\n",
      "[Parallel(n_jobs=-1)]: Done 349 tasks      | elapsed:  2.1min\n",
      "[Parallel(n_jobs=-1)]: Done 632 tasks      | elapsed:  3.9min\n",
      "[Parallel(n_jobs=-1)]: Done 729 out of 729 | elapsed:  4.6min finished\n"
     ]
    },
    {
     "name": "stdout",
     "output_type": "stream",
     "text": [
      "[14:32:45] WARNING: src/objective/regression_obj.cu:152: reg:linear is now deprecated in favor of reg:squarederror.\n",
      "Best params: {'xgb__colsample_bytree': 0.8, 'xgb__gamma': 0.5, 'xgb__max_depth': 4, 'xgb__min_child_weight': 1, 'xgb__subsample': 1.0}\n",
      "MSE: 19.445878211359254\n",
      "R^2: 0.26119610828101225\n",
      "\n",
      "For cluster 29:\n",
      "Fitting 3 folds for each of 243 candidates, totalling 729 fits\n"
     ]
    },
    {
     "name": "stderr",
     "output_type": "stream",
     "text": [
      "[Parallel(n_jobs=-1)]: Using backend LokyBackend with 8 concurrent workers.\n",
      "[Parallel(n_jobs=-1)]: Done  25 tasks      | elapsed:    6.8s\n",
      "[Parallel(n_jobs=-1)]: Done 146 tasks      | elapsed:   41.6s\n",
      "[Parallel(n_jobs=-1)]: Done 349 tasks      | elapsed:  1.7min\n",
      "[Parallel(n_jobs=-1)]: Done 632 tasks      | elapsed:  3.2min\n",
      "[Parallel(n_jobs=-1)]: Done 729 out of 729 | elapsed:  3.9min finished\n"
     ]
    },
    {
     "name": "stdout",
     "output_type": "stream",
     "text": [
      "[14:36:40] WARNING: src/objective/regression_obj.cu:152: reg:linear is now deprecated in favor of reg:squarederror.\n",
      "Best params: {'xgb__colsample_bytree': 0.6, 'xgb__gamma': 0.5, 'xgb__max_depth': 3, 'xgb__min_child_weight': 1, 'xgb__subsample': 1.0}\n",
      "MSE: 2.7412253484794986\n",
      "R^2: -0.014814215555545518\n",
      "\n"
     ]
    }
   ],
   "source": [
    "res['Xgboost'] = 0\n",
    "for c in dfs:\n",
    "    print('For cluster {}:'.format(c))\n",
    "    # train test split\n",
    "    df_train, df_val = train_test_split(dfs[c], test_size=0.2, random_state=1207)\n",
    "    # get X Y\n",
    "    X_train = df_train.drop(columns=['Checkin per Hour', 'Checkout per Hour'])\n",
    "    Y_train = df_train['Checkin per Hour'] - df_train['Checkout per Hour']\n",
    "    X_val = df_val.drop(columns=['Checkin per Hour', 'Checkout per Hour'])\n",
    "    Y_val = df_val['Checkin per Hour'] - df_val['Checkout per Hour']\n",
    "    # shuffle\n",
    "    X_train, Y_train = shuffle(X_train, Y_train, random_state=1207)\n",
    "    # train model\n",
    "    xgb_search.fit(X_train, Y_train)\n",
    "    print('Best params: {}'.format(xgb_search.best_params_))\n",
    "    # predict\n",
    "    Y_pred = xgb_search.predict(X_val)\n",
    "    mse = mean_squared_error(Y_val, Y_pred)\n",
    "    print('MSE: {}'.format(mse))\n",
    "    r2 = xgb_search.score(X_val, Y_val)\n",
    "    print('R^2: {}'.format(r2))\n",
    "    res.loc[c, 'Xgboost'] = r2\n",
    "    print()"
   ]
  },
  {
   "cell_type": "code",
   "execution_count": 39,
   "metadata": {},
   "outputs": [],
   "source": [
    "# save csv\n",
    "res.to_csv('./pred_res.csv', index=False)"
   ]
  },
  {
   "cell_type": "code",
   "execution_count": null,
   "metadata": {},
   "outputs": [],
   "source": []
  }
 ],
 "metadata": {
  "kernelspec": {
   "display_name": "Python 3",
   "language": "python",
   "name": "python3"
  },
  "language_info": {
   "codemirror_mode": {
    "name": "ipython",
    "version": 3
   },
   "file_extension": ".py",
   "mimetype": "text/x-python",
   "name": "python",
   "nbconvert_exporter": "python",
   "pygments_lexer": "ipython3",
   "version": "3.7.8"
  }
 },
 "nbformat": 4,
 "nbformat_minor": 4
}
